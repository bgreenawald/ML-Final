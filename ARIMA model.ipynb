{
 "cells": [
  {
   "cell_type": "markdown",
   "metadata": {},
   "source": [
    "### Preparing the data set and autocorrelation plots"
   ]
  },
  {
   "cell_type": "code",
   "execution_count": 2,
   "metadata": {},
   "outputs": [
    {
     "name": "stderr",
     "output_type": "stream",
     "text": [
      "/home/benji/miniconda3/lib/python3.6/site-packages/statsmodels/compat/pandas.py:56: FutureWarning: The pandas.core.datetools module is deprecated and will be removed in a future version. Please use the pandas.tseries module instead.\n",
      "  from pandas.core import datetools\n"
     ]
    }
   ],
   "source": [
    "# Data processing and functions\n",
    "import pandas as pd\n",
    "import numpy as np\n",
    "import scipy as sp\n",
    "from pandas import read_csv\n",
    "from pandas import datetime\n",
    "from matplotlib import pyplot\n",
    "from statsmodels.tsa.arima_model import ARIMA\n",
    "from sklearn.metrics import mean_squared_error\n",
    "from math import sqrt\n",
    "\n",
    "# Analytics and modeling\n",
    "from sklearn.model_selection import train_test_split\n",
    "from sklearn.metrics import mean_squared_error\n",
    "from sklearn.model_selection import cross_val_predict\n",
    "from sklearn import linear_model\n",
    "from sklearn.model_selection import cross_val_score\n",
    "from sklearn.decomposition import PCA\n",
    "from sklearn import manifold\n",
    "from sklearn.preprocessing import StandardScaler\n",
    "from sklearn.feature_selection import SelectKBest, f_regression\n",
    "from sklearn.pipeline import make_pipeline\n",
    "from sklearn.metrics import classification_report\n",
    "import statsmodels.api as sm\n",
    "from statsmodels.tsa.arima_model import ARIMA\n",
    "import statsmodels.sandbox.tools.tools_pca as sm_pca\n",
    "from statsmodels.formula.api import ols as sm_ols\n",
    "from statsmodels.stats.anova import anova_lm as sm_anova\n",
    "from patsy.contrasts import Treatment\n",
    "from patsy import dmatrices\n",
    "from sklearn.linear_model import LinearRegression\n",
    "from sklearn.ensemble import RandomForestRegressor\n",
    "from sklearn.neural_network import MLPRegressor\n",
    "from sklearn.svm import SVR\n",
    "\n",
    "\n",
    "from datetime import datetime\n",
    "from datetime import timedelta\n",
    "from pandas.core import datetools\n",
    "\n",
    "# Graphing and visualizing\n",
    "import seaborn as sns\n",
    "import matplotlib as mpl\n",
    "import matplotlib.pyplot as plt\n",
    "import matplotlib.colors as colors\n",
    "from matplotlib import cm\n",
    "from pylab import savefig\n",
    "\n",
    "# Setting graphing preferences\n",
    "sns.set(style=\"darkgrid\", color_codes=True)\n",
    "\n",
    "# Printing\n",
    "import locale\n",
    "\n",
    "# Show plots locally\n",
    "locale.setlocale( locale.LC_ALL, '' )\n",
    "\n",
    "%matplotlib inline"
   ]
  },
  {
   "cell_type": "code",
   "execution_count": 3,
   "metadata": {},
   "outputs": [],
   "source": [
    "data = pd.read_csv(r'df_weather_scaled_encoded.csv')"
   ]
  },
  {
   "cell_type": "code",
   "execution_count": 4,
   "metadata": {},
   "outputs": [
    {
     "data": {
      "text/html": [
       "<div>\n",
       "<style scoped>\n",
       "    .dataframe tbody tr th:only-of-type {\n",
       "        vertical-align: middle;\n",
       "    }\n",
       "\n",
       "    .dataframe tbody tr th {\n",
       "        vertical-align: top;\n",
       "    }\n",
       "\n",
       "    .dataframe thead th {\n",
       "        text-align: right;\n",
       "    }\n",
       "</style>\n",
       "<table border=\"1\" class=\"dataframe\">\n",
       "  <thead>\n",
       "    <tr style=\"text-align: right;\">\n",
       "      <th></th>\n",
       "      <th>datetime</th>\n",
       "      <th>city</th>\n",
       "      <th>temperature</th>\n",
       "      <th>humidity</th>\n",
       "      <th>pressure</th>\n",
       "      <th>wind_speed</th>\n",
       "      <th>wind_dir_E</th>\n",
       "      <th>wind_dir_N</th>\n",
       "      <th>wind_dir_NE</th>\n",
       "      <th>wind_dir_NW</th>\n",
       "      <th>...</th>\n",
       "      <th>wind_dir_SE</th>\n",
       "      <th>wind_dir_SW</th>\n",
       "      <th>wind_dir_W</th>\n",
       "      <th>weather_clear</th>\n",
       "      <th>weather_cloudy</th>\n",
       "      <th>weather_other</th>\n",
       "      <th>weather_partly_cloudy</th>\n",
       "      <th>weather_rain</th>\n",
       "      <th>weather_snow</th>\n",
       "      <th>weather_tstorm</th>\n",
       "    </tr>\n",
       "  </thead>\n",
       "  <tbody>\n",
       "    <tr>\n",
       "      <th>0</th>\n",
       "      <td>2012-10-01 12:00:00</td>\n",
       "      <td>Portland</td>\n",
       "      <td>0.503824</td>\n",
       "      <td>0.800000</td>\n",
       "      <td>0.746667</td>\n",
       "      <td>0.0</td>\n",
       "      <td>0</td>\n",
       "      <td>1</td>\n",
       "      <td>0</td>\n",
       "      <td>0</td>\n",
       "      <td>...</td>\n",
       "      <td>0</td>\n",
       "      <td>0</td>\n",
       "      <td>0</td>\n",
       "      <td>0</td>\n",
       "      <td>0</td>\n",
       "      <td>0</td>\n",
       "      <td>1</td>\n",
       "      <td>0</td>\n",
       "      <td>0</td>\n",
       "      <td>0</td>\n",
       "    </tr>\n",
       "    <tr>\n",
       "      <th>1</th>\n",
       "      <td>2012-10-01 13:00:00</td>\n",
       "      <td>Portland</td>\n",
       "      <td>0.503824</td>\n",
       "      <td>0.800000</td>\n",
       "      <td>0.746667</td>\n",
       "      <td>0.0</td>\n",
       "      <td>0</td>\n",
       "      <td>1</td>\n",
       "      <td>0</td>\n",
       "      <td>0</td>\n",
       "      <td>...</td>\n",
       "      <td>0</td>\n",
       "      <td>0</td>\n",
       "      <td>0</td>\n",
       "      <td>0</td>\n",
       "      <td>0</td>\n",
       "      <td>0</td>\n",
       "      <td>1</td>\n",
       "      <td>0</td>\n",
       "      <td>0</td>\n",
       "      <td>0</td>\n",
       "    </tr>\n",
       "    <tr>\n",
       "      <th>2</th>\n",
       "      <td>2012-10-01 14:00:00</td>\n",
       "      <td>Portland</td>\n",
       "      <td>0.503865</td>\n",
       "      <td>0.789474</td>\n",
       "      <td>0.746667</td>\n",
       "      <td>0.0</td>\n",
       "      <td>0</td>\n",
       "      <td>1</td>\n",
       "      <td>0</td>\n",
       "      <td>0</td>\n",
       "      <td>...</td>\n",
       "      <td>0</td>\n",
       "      <td>0</td>\n",
       "      <td>0</td>\n",
       "      <td>0</td>\n",
       "      <td>0</td>\n",
       "      <td>0</td>\n",
       "      <td>1</td>\n",
       "      <td>0</td>\n",
       "      <td>0</td>\n",
       "      <td>0</td>\n",
       "    </tr>\n",
       "  </tbody>\n",
       "</table>\n",
       "<p>3 rows × 21 columns</p>\n",
       "</div>"
      ],
      "text/plain": [
       "              datetime      city  temperature  humidity  pressure  wind_speed  \\\n",
       "0  2012-10-01 12:00:00  Portland     0.503824  0.800000  0.746667         0.0   \n",
       "1  2012-10-01 13:00:00  Portland     0.503824  0.800000  0.746667         0.0   \n",
       "2  2012-10-01 14:00:00  Portland     0.503865  0.789474  0.746667         0.0   \n",
       "\n",
       "   wind_dir_E  wind_dir_N  wind_dir_NE  wind_dir_NW       ...        \\\n",
       "0           0           1            0            0       ...         \n",
       "1           0           1            0            0       ...         \n",
       "2           0           1            0            0       ...         \n",
       "\n",
       "   wind_dir_SE  wind_dir_SW  wind_dir_W  weather_clear  weather_cloudy  \\\n",
       "0            0            0           0              0               0   \n",
       "1            0            0           0              0               0   \n",
       "2            0            0           0              0               0   \n",
       "\n",
       "   weather_other  weather_partly_cloudy  weather_rain  weather_snow  \\\n",
       "0              0                      1             0             0   \n",
       "1              0                      1             0             0   \n",
       "2              0                      1             0             0   \n",
       "\n",
       "   weather_tstorm  \n",
       "0               0  \n",
       "1               0  \n",
       "2               0  \n",
       "\n",
       "[3 rows x 21 columns]"
      ]
     },
     "execution_count": 4,
     "metadata": {},
     "output_type": "execute_result"
    }
   ],
   "source": [
    "data[0:3]"
   ]
  },
  {
   "cell_type": "code",
   "execution_count": 144,
   "metadata": {},
   "outputs": [
    {
     "data": {
      "text/plain": [
       "Index(['datetime', 'city', 'latitude', 'longitude', 'temperature', 'humidity',\n",
       "       'pressure', 'wind_speed', 'wind_dir_E', 'wind_dir_N', 'wind_dir_NE',\n",
       "       'wind_dir_NW', 'wind_dir_S', 'wind_dir_SE', 'wind_dir_SW', 'wind_dir_W',\n",
       "       'weather_clear', 'weather_cloudy', 'weather_other',\n",
       "       'weather_partly_cloudy', 'weather_rain', 'weather_snow',\n",
       "       'weather_tstorm'],\n",
       "      dtype='object')"
      ]
     },
     "execution_count": 144,
     "metadata": {},
     "output_type": "execute_result"
    }
   ],
   "source": [
    "data.columns\n",
    "\n",
    "# No nulls. checked"
   ]
  },
  {
   "cell_type": "code",
   "execution_count": 5,
   "metadata": {},
   "outputs": [],
   "source": [
    "data[['weather_clear', 'weather_cloudy', 'weather_other', 'weather_partly_cloudy', 'weather_rain', 'weather_snow',\n",
    "    'weather_tstorm']] = data[['weather_clear', 'weather_cloudy', 'weather_other', 'weather_partly_cloudy', 'weather_rain', \n",
    "                               'weather_snow', 'weather_tstorm']].apply(pd.to_numeric, errors = 'coerce')"
   ]
  },
  {
   "cell_type": "code",
   "execution_count": 146,
   "metadata": {},
   "outputs": [
    {
     "data": {
      "text/plain": [
       "array(['Portland', 'Seattle', 'Los Angeles', 'San Diego', 'Las Vegas',\n",
       "       'Phoenix', 'Albuquerque', 'Denver', 'San Antonio', 'Dallas',\n",
       "       'Houston', 'Kansas City', 'Minneapolis', 'Saint Louis', 'Chicago',\n",
       "       'Nashville', 'Indianapolis', 'Atlanta', 'Detroit', 'Jacksonville',\n",
       "       'Charlotte', 'Pittsburgh', 'Toronto', 'Philadelphia', 'Montreal',\n",
       "       'Boston'], dtype=object)"
      ]
     },
     "execution_count": 146,
     "metadata": {},
     "output_type": "execute_result"
    }
   ],
   "source": [
    "data['city'].unique()"
   ]
  },
  {
   "cell_type": "code",
   "execution_count": 7,
   "metadata": {},
   "outputs": [],
   "source": [
    "data_charlotte = data[data['city'] == 'Charlotte']"
   ]
  },
  {
   "cell_type": "code",
   "execution_count": 8,
   "metadata": {},
   "outputs": [
    {
     "data": {
      "text/plain": [
       "(45253, 21)"
      ]
     },
     "execution_count": 8,
     "metadata": {},
     "output_type": "execute_result"
    }
   ],
   "source": [
    "data_charlotte.shape"
   ]
  },
  {
   "cell_type": "code",
   "execution_count": 29,
   "metadata": {},
   "outputs": [],
   "source": [
    "data_charlotte_train = data_charlotte[data_charlotte['datetime'].astype(str).str[0:4].astype(int) < 2017]\n",
    "data_charlotte_test = data_charlotte[data_charlotte['datetime'].astype(str).str[0:4].astype(int) == 2017]"
   ]
  },
  {
   "cell_type": "code",
   "execution_count": 30,
   "metadata": {},
   "outputs": [
    {
     "data": {
      "text/plain": [
       "Index(['datetime', 'city', 'temperature', 'humidity', 'pressure', 'wind_speed',\n",
       "       'wind_dir_E', 'wind_dir_N', 'wind_dir_NE', 'wind_dir_NW', 'wind_dir_S',\n",
       "       'wind_dir_SE', 'wind_dir_SW', 'wind_dir_W', 'weather_clear',\n",
       "       'weather_cloudy', 'weather_other', 'weather_partly_cloudy',\n",
       "       'weather_rain', 'weather_snow', 'weather_tstorm'],\n",
       "      dtype='object')"
      ]
     },
     "execution_count": 30,
     "metadata": {},
     "output_type": "execute_result"
    }
   ],
   "source": [
    "data_charlotte_train.columns"
   ]
  },
  {
   "cell_type": "code",
   "execution_count": 31,
   "metadata": {},
   "outputs": [],
   "source": [
    "X_train = data_charlotte_train\n",
    "X_test = data_charlotte_test\n",
    "y_train = data_charlotte_train['temperature']\n",
    "y_test = data_charlotte_test['temperature']"
   ]
  },
  {
   "cell_type": "code",
   "execution_count": 32,
   "metadata": {},
   "outputs": [
    {
     "name": "stdout",
     "output_type": "stream",
     "text": [
      "Mean Square Error: 0.01\n"
     ]
    }
   ],
   "source": [
    "lr = linear_model.LinearRegression()\n",
    "\n",
    "lr.fit(pd.DataFrame(X_train[X_train.columns.difference(['datetime', 'city', 'latitude', 'longitude', 'temperature'])]), y_train)\n",
    "\n",
    "y_fit = lr.predict(pd.DataFrame(X_train[X_train.columns.difference(['datetime', 'city', 'latitude', 'longitude', 'temperature'])]))\n",
    "\n",
    "y_pred = lr.predict(pd.DataFrame(X_test[X_test.columns.difference(['datetime', 'city', 'latitude', 'longitude', 'temperature'])]))\n",
    "\n",
    "#Performance on the test set\n",
    "\n",
    "mse = mean_squared_error(y_pred, y_test)\n",
    "\n",
    "print(\"Mean Square Error: %0.2f\" % (mse))\n"
   ]
  },
  {
   "cell_type": "code",
   "execution_count": 155,
   "metadata": {},
   "outputs": [
    {
     "data": {
      "image/png": "[encoded data removed]",
      "text/plain": [
       "<matplotlib.figure.Figure at 0x1c774c169e8>"
      ]
     },
     "metadata": {},
     "output_type": "display_data"
    }
   ],
   "source": [
    "# Residual ACF, PACF\n",
    "\n",
    "resid = y_train - y_fit\n",
    "\n",
    "fig = plt.figure(figsize=(12,8))\n",
    "ax1 = fig.add_subplot(211)\n",
    "fig = sm.graphics.tsa.plot_acf(resid, lags=160, ax=ax1)\n",
    "ax2 = fig.add_subplot(212)\n",
    "fig = sm.graphics.tsa.plot_pacf(resid, lags=160, ax=ax2)\n",
    "\n",
    "# The below plots demonstrate that there is certainly a 24 hour cycle to an extnent"
   ]
  },
  {
   "cell_type": "markdown",
   "metadata": {},
   "source": [
    "### How does a plot of predicted vs actual look?"
   ]
  },
  {
   "cell_type": "code",
   "execution_count": 156,
   "metadata": {},
   "outputs": [
    {
     "data": {
      "image/png": "[encoded data removed]",
      "text/plain": [
       "<matplotlib.figure.Figure at 0x1c7763b8cc0>"
      ]
     },
     "metadata": {},
     "output_type": "display_data"
    }
   ],
   "source": [
    "fit_train = pd.DataFrame(y_fit, y_train)\n",
    "fit_train = fit_train.reset_index()\n",
    "fit_train.columns = ['Predicted', 'Actual']\n",
    "scatt = fit_train.plot(x = ['Predicted'], y = ['Actual'], kind = 'scatter')\n",
    "plt.show()"
   ]
  },
  {
   "cell_type": "code",
   "execution_count": 12,
   "metadata": {},
   "outputs": [
    {
     "name": "stderr",
     "output_type": "stream",
     "text": [
      "/home/benji/miniconda3/lib/python3.6/site-packages/ipykernel_launcher.py:1: SettingWithCopyWarning: \n",
      "A value is trying to be set on a copy of a slice from a DataFrame.\n",
      "Try using .loc[row_indexer,col_indexer] = value instead\n",
      "\n",
      "See the caveats in the documentation: http://pandas.pydata.org/pandas-docs/stable/indexing.html#indexing-view-versus-copy\n",
      "  \"\"\"Entry point for launching an IPython kernel.\n",
      "/home/benji/miniconda3/lib/python3.6/site-packages/ipykernel_launcher.py:2: SettingWithCopyWarning: \n",
      "A value is trying to be set on a copy of a slice from a DataFrame\n",
      "\n",
      "See the caveats in the documentation: http://pandas.pydata.org/pandas-docs/stable/indexing.html#indexing-view-versus-copy\n",
      "  \n"
     ]
    }
   ],
   "source": [
    "data_charlotte_train['lag'] = data_charlotte_train['temperature'].shift(-4)\n",
    "data_charlotte_train.dropna(inplace=True)\n",
    "data_charlotte_train.index = data_charlotte_train['datetime']"
   ]
  },
  {
   "cell_type": "markdown",
   "metadata": {},
   "source": [
    "### ARIMA models"
   ]
  },
  {
   "cell_type": "markdown",
   "metadata": {},
   "source": [
    "#### Using just t-4, t-5 hour temperature data to predict t"
   ]
  },
  {
   "cell_type": "code",
   "execution_count": 14,
   "metadata": {},
   "outputs": [
    {
     "name": "stderr",
     "output_type": "stream",
     "text": [
      "/home/benji/miniconda3/lib/python3.6/site-packages/statsmodels/tsa/kalmanf/kalmanfilter.py:646: FutureWarning: Conversion of the second argument of issubdtype from `float` to `np.floating` is deprecated. In future, it will be treated as `np.float64 == np.dtype(float).type`.\n",
      "  if issubdtype(paramsdtype, float):\n",
      "/home/benji/miniconda3/lib/python3.6/site-packages/statsmodels/tsa/kalmanf/kalmanfilter.py:650: FutureWarning: Conversion of the second argument of issubdtype from `complex` to `np.complexfloating` is deprecated. In future, it will be treated as `np.complex128 == np.dtype(complex).type`.\n",
      "  elif issubdtype(paramsdtype, complex):\n"
     ]
    },
    {
     "name": "stdout",
     "output_type": "stream",
     "text": [
      "                             ARIMA Model Results                              \n",
      "==============================================================================\n",
      "Dep. Variable:                  D.lag   No. Observations:                37251\n",
      "Model:                 ARIMA(2, 1, 0)   Log Likelihood              102452.221\n",
      "Method:                       css-mle   S.D. of innovations              0.015\n",
      "Date:                Tue, 01 May 2018   AIC                        -204896.441\n",
      "Time:                        09:34:12   BIC                        -204862.340\n",
      "Sample:                    10-01-2012   HQIC                       -204885.611\n",
      "                         - 12-31-2016                                         \n",
      "===============================================================================\n",
      "                  coef    std err          z      P>|z|      [0.025      0.975]\n",
      "-------------------------------------------------------------------------------\n",
      "const       -2.845e-06      0.000     -0.016      0.988      -0.000       0.000\n",
      "ar.L1.D.lag     0.2662      0.005     53.732      0.000       0.256       0.276\n",
      "ar.L2.D.lag     0.2932      0.005     59.190      0.000       0.283       0.303\n",
      "                                    Roots                                    \n",
      "=============================================================================\n",
      "                 Real           Imaginary           Modulus         Frequency\n",
      "-----------------------------------------------------------------------------\n",
      "AR.1            1.4479           +0.0000j            1.4479            0.0000\n",
      "AR.2           -2.3557           +0.0000j            2.3557            0.5000\n",
      "-----------------------------------------------------------------------------\n"
     ]
    }
   ],
   "source": [
    "model_2hr = sm.tsa.ARIMA(endog = data_charlotte_train['lag'],order=[2,1,0])\n",
    "results_2hr = model_2hr.fit()\n",
    "print(results_2hr.summary())"
   ]
  },
  {
   "cell_type": "code",
   "execution_count": 15,
   "metadata": {},
   "outputs": [
    {
     "name": "stderr",
     "output_type": "stream",
     "text": [
      "/home/benji/miniconda3/lib/python3.6/site-packages/statsmodels/tsa/kalmanf/kalmanfilter.py:577: FutureWarning: Conversion of the second argument of issubdtype from `float` to `np.floating` is deprecated. In future, it will be treated as `np.float64 == np.dtype(float).type`.\n",
      "  if issubdtype(paramsdtype, float):\n"
     ]
    },
    {
     "data": {
      "text/plain": [
       "2016-12-31 20:00:00   -0.000845\n",
       "2016-12-31 21:00:00   -0.001155\n",
       "2016-12-31 22:00:00   -0.000556\n",
       "Freq: H, dtype: float64"
      ]
     },
     "execution_count": 15,
     "metadata": {},
     "output_type": "execute_result"
    }
   ],
   "source": [
    "(results_2hr.predict(start= len(data_charlotte_train), end = len(data_charlotte_train) + len(data_charlotte_test)))[0:3]"
   ]
  },
  {
   "cell_type": "code",
   "execution_count": 16,
   "metadata": {},
   "outputs": [
    {
     "name": "stderr",
     "output_type": "stream",
     "text": [
      "/home/benji/miniconda3/lib/python3.6/site-packages/statsmodels/tsa/kalmanf/kalmanfilter.py:577: FutureWarning: Conversion of the second argument of issubdtype from `float` to `np.floating` is deprecated. In future, it will be treated as `np.float64 == np.dtype(float).type`.\n",
      "  if issubdtype(paramsdtype, float):\n"
     ]
    },
    {
     "ename": "ValueError",
     "evalue": "Input contains NaN, infinity or a value too large for dtype('float64').",
     "output_type": "error",
     "traceback": [
      "\u001b[0;31m---------------------------------------------------------------------------\u001b[0m",
      "\u001b[0;31mValueError\u001b[0m                                Traceback (most recent call last)",
      "\u001b[0;32m<ipython-input-16-584af6ea940f>\u001b[0m in \u001b[0;36m<module>\u001b[0;34m()\u001b[0m\n\u001b[1;32m      4\u001b[0m \u001b[0mpredictions_2hr\u001b[0m\u001b[0;34m[\u001b[0m\u001b[0;34m'predicted_denormalized'\u001b[0m\u001b[0;34m]\u001b[0m \u001b[0;34m=\u001b[0m \u001b[0mpredictions_2hr\u001b[0m\u001b[0;34m[\u001b[0m\u001b[0;34m'predicted_values'\u001b[0m\u001b[0;34m]\u001b[0m\u001b[0;34m*\u001b[0m\u001b[0;34m(\u001b[0m\u001b[0;36m99.95\u001b[0m \u001b[0;34m-\u001b[0m \u001b[0;36m0.515\u001b[0m\u001b[0;34m)\u001b[0m \u001b[0;34m+\u001b[0m \u001b[0;36m0.515\u001b[0m\u001b[0;34m\u001b[0m\u001b[0m\n\u001b[1;32m      5\u001b[0m \u001b[0mpredictions_2hr\u001b[0m\u001b[0;34m[\u001b[0m\u001b[0;34m'grountruth_denormalized'\u001b[0m\u001b[0;34m]\u001b[0m \u001b[0;34m=\u001b[0m \u001b[0mpredictions_2hr\u001b[0m\u001b[0;34m[\u001b[0m\u001b[0;34m'ground_truth'\u001b[0m\u001b[0;34m]\u001b[0m\u001b[0;34m*\u001b[0m\u001b[0;34m(\u001b[0m\u001b[0;36m99.95\u001b[0m \u001b[0;34m-\u001b[0m \u001b[0;36m0.515\u001b[0m\u001b[0;34m)\u001b[0m \u001b[0;34m+\u001b[0m \u001b[0;36m0.515\u001b[0m\u001b[0;34m\u001b[0m\u001b[0m\n\u001b[0;32m----> 6\u001b[0;31m \u001b[0mrmse_2h\u001b[0m \u001b[0;34m=\u001b[0m \u001b[0msqrt\u001b[0m\u001b[0;34m(\u001b[0m\u001b[0mmean_squared_error\u001b[0m\u001b[0;34m(\u001b[0m\u001b[0mpredictions_2hr\u001b[0m\u001b[0;34m[\u001b[0m\u001b[0;34m'predicted_denormalized'\u001b[0m\u001b[0;34m]\u001b[0m\u001b[0;34m,\u001b[0m \u001b[0mpredictions_2hr\u001b[0m\u001b[0;34m[\u001b[0m\u001b[0;34m'grountruth_denormalized'\u001b[0m\u001b[0;34m]\u001b[0m\u001b[0;34m)\u001b[0m\u001b[0;34m)\u001b[0m\u001b[0;34m\u001b[0m\u001b[0m\n\u001b[0m\u001b[1;32m      7\u001b[0m \u001b[0mprint\u001b[0m\u001b[0;34m(\u001b[0m\u001b[0mrmse_2h\u001b[0m\u001b[0;34m)\u001b[0m\u001b[0;34m\u001b[0m\u001b[0m\n",
      "\u001b[0;32m~/miniconda3/lib/python3.6/site-packages/sklearn/metrics/regression.py\u001b[0m in \u001b[0;36mmean_squared_error\u001b[0;34m(y_true, y_pred, sample_weight, multioutput)\u001b[0m\n\u001b[1;32m    236\u001b[0m     \"\"\"\n\u001b[1;32m    237\u001b[0m     y_type, y_true, y_pred, multioutput = _check_reg_targets(\n\u001b[0;32m--> 238\u001b[0;31m         y_true, y_pred, multioutput)\n\u001b[0m\u001b[1;32m    239\u001b[0m     output_errors = np.average((y_true - y_pred) ** 2, axis=0,\n\u001b[1;32m    240\u001b[0m                                weights=sample_weight)\n",
      "\u001b[0;32m~/miniconda3/lib/python3.6/site-packages/sklearn/metrics/regression.py\u001b[0m in \u001b[0;36m_check_reg_targets\u001b[0;34m(y_true, y_pred, multioutput)\u001b[0m\n\u001b[1;32m     75\u001b[0m     \u001b[0mcheck_consistent_length\u001b[0m\u001b[0;34m(\u001b[0m\u001b[0my_true\u001b[0m\u001b[0;34m,\u001b[0m \u001b[0my_pred\u001b[0m\u001b[0;34m)\u001b[0m\u001b[0;34m\u001b[0m\u001b[0m\n\u001b[1;32m     76\u001b[0m     \u001b[0my_true\u001b[0m \u001b[0;34m=\u001b[0m \u001b[0mcheck_array\u001b[0m\u001b[0;34m(\u001b[0m\u001b[0my_true\u001b[0m\u001b[0;34m,\u001b[0m \u001b[0mensure_2d\u001b[0m\u001b[0;34m=\u001b[0m\u001b[0;32mFalse\u001b[0m\u001b[0;34m)\u001b[0m\u001b[0;34m\u001b[0m\u001b[0m\n\u001b[0;32m---> 77\u001b[0;31m     \u001b[0my_pred\u001b[0m \u001b[0;34m=\u001b[0m \u001b[0mcheck_array\u001b[0m\u001b[0;34m(\u001b[0m\u001b[0my_pred\u001b[0m\u001b[0;34m,\u001b[0m \u001b[0mensure_2d\u001b[0m\u001b[0;34m=\u001b[0m\u001b[0;32mFalse\u001b[0m\u001b[0;34m)\u001b[0m\u001b[0;34m\u001b[0m\u001b[0m\n\u001b[0m\u001b[1;32m     78\u001b[0m \u001b[0;34m\u001b[0m\u001b[0m\n\u001b[1;32m     79\u001b[0m     \u001b[0;32mif\u001b[0m \u001b[0my_true\u001b[0m\u001b[0;34m.\u001b[0m\u001b[0mndim\u001b[0m \u001b[0;34m==\u001b[0m \u001b[0;36m1\u001b[0m\u001b[0;34m:\u001b[0m\u001b[0;34m\u001b[0m\u001b[0m\n",
      "\u001b[0;32m~/miniconda3/lib/python3.6/site-packages/sklearn/utils/validation.py\u001b[0m in \u001b[0;36mcheck_array\u001b[0;34m(array, accept_sparse, dtype, order, copy, force_all_finite, ensure_2d, allow_nd, ensure_min_samples, ensure_min_features, warn_on_dtype, estimator)\u001b[0m\n\u001b[1;32m    451\u001b[0m                              % (array.ndim, estimator_name))\n\u001b[1;32m    452\u001b[0m         \u001b[0;32mif\u001b[0m \u001b[0mforce_all_finite\u001b[0m\u001b[0;34m:\u001b[0m\u001b[0;34m\u001b[0m\u001b[0m\n\u001b[0;32m--> 453\u001b[0;31m             \u001b[0m_assert_all_finite\u001b[0m\u001b[0;34m(\u001b[0m\u001b[0marray\u001b[0m\u001b[0;34m)\u001b[0m\u001b[0;34m\u001b[0m\u001b[0m\n\u001b[0m\u001b[1;32m    454\u001b[0m \u001b[0;34m\u001b[0m\u001b[0m\n\u001b[1;32m    455\u001b[0m     \u001b[0mshape_repr\u001b[0m \u001b[0;34m=\u001b[0m \u001b[0m_shape_repr\u001b[0m\u001b[0;34m(\u001b[0m\u001b[0marray\u001b[0m\u001b[0;34m.\u001b[0m\u001b[0mshape\u001b[0m\u001b[0;34m)\u001b[0m\u001b[0;34m\u001b[0m\u001b[0m\n",
      "\u001b[0;32m~/miniconda3/lib/python3.6/site-packages/sklearn/utils/validation.py\u001b[0m in \u001b[0;36m_assert_all_finite\u001b[0;34m(X)\u001b[0m\n\u001b[1;32m     42\u001b[0m             and not np.isfinite(X).all()):\n\u001b[1;32m     43\u001b[0m         raise ValueError(\"Input contains NaN, infinity\"\n\u001b[0;32m---> 44\u001b[0;31m                          \" or a value too large for %r.\" % X.dtype)\n\u001b[0m\u001b[1;32m     45\u001b[0m \u001b[0;34m\u001b[0m\u001b[0m\n\u001b[1;32m     46\u001b[0m \u001b[0;34m\u001b[0m\u001b[0m\n",
      "\u001b[0;31mValueError\u001b[0m: Input contains NaN, infinity or a value too large for dtype('float64')."
     ]
    }
   ],
   "source": [
    "predictions_2hr = pd.DataFrame((results_2hr.predict(start= len(data_charlotte_train), end = len(data_charlotte_train) -1 + len(data_charlotte_test))))\n",
    "predictions_2hr.columns = ['predicted_values']\n",
    "predictions_2hr['ground_truth'] = data_charlotte_test['temperature']\n",
    "predictions_2hr['predicted_denormalized'] = predictions_2hr['predicted_values']*(99.95 - 0.515) + 0.515\n",
    "predictions_2hr['grountruth_denormalized'] = predictions_2hr['ground_truth']*(99.95 - 0.515) + 0.515\n",
    "rmse_2h = sqrt(mean_squared_error(predictions_2hr['predicted_denormalized'], predictions_2hr['grountruth_denormalized']))\n",
    "print(rmse_2h)"
   ]
  },
  {
   "cell_type": "markdown",
   "metadata": {},
   "source": [
    "#### Predicting Temperature at time T + 4 by looking at temperatures between T and T - 24"
   ]
  },
  {
   "cell_type": "code",
   "execution_count": 170,
   "metadata": {},
   "outputs": [
    {
     "name": "stderr",
     "output_type": "stream",
     "text": [
      "C:\\Users\\Prasanth\\Anaconda3\\lib\\site-packages\\statsmodels\\base\\model.py:496: ConvergenceWarning: Maximum Likelihood optimization failed to converge. Check mle_retvals\n",
      "  \"Check mle_retvals\", ConvergenceWarning)\n"
     ]
    },
    {
     "name": "stdout",
     "output_type": "stream",
     "text": [
      "                             ARIMA Model Results                              \n",
      "==============================================================================\n",
      "Dep. Variable:                  D.lag   No. Observations:                37247\n",
      "Model:                ARIMA(24, 1, 0)   Log Likelihood              109788.653\n",
      "Method:                       css-mle   S.D. of innovations              0.013\n",
      "Date:                Mon, 30 Apr 2018   AIC                        -219525.305\n",
      "Time:                        22:41:26   BIC                        -219303.647\n",
      "Sample:                    10-02-2012   HQIC                       -219454.908\n",
      "                         - 12-31-2016                                         \n",
      "================================================================================\n",
      "                   coef    std err          z      P>|z|      [0.025      0.975]\n",
      "--------------------------------------------------------------------------------\n",
      "const          -4.9e-06   5.93e-05     -0.083      0.934      -0.000       0.000\n",
      "ar.L1.D.lag      0.0428      0.005      8.871      0.000       0.033       0.052\n",
      "ar.L2.D.lag      0.1328      0.005     27.529      0.000       0.123       0.142\n",
      "ar.L3.D.lag      0.0232      0.005      4.762      0.000       0.014       0.033\n",
      "ar.L4.D.lag     -0.0265      0.005     -5.431      0.000      -0.036      -0.017\n",
      "ar.L5.D.lag     -0.0397      0.005     -8.149      0.000      -0.049      -0.030\n",
      "ar.L6.D.lag     -0.0937      0.005    -19.221      0.000      -0.103      -0.084\n",
      "ar.L7.D.lag     -0.0454      0.005     -9.286      0.000      -0.055      -0.036\n",
      "ar.L8.D.lag     -0.0246      0.005     -5.037      0.000      -0.034      -0.015\n",
      "ar.L9.D.lag     -0.1086      0.005    -22.204      0.000      -0.118      -0.099\n",
      "ar.L10.D.lag    -0.0045      0.005     -0.930      0.353      -0.014       0.005\n",
      "ar.L11.D.lag    -0.0325      0.005     -6.646      0.000      -0.042      -0.023\n",
      "ar.L12.D.lag    -0.0758      0.005    -15.492      0.000      -0.085      -0.066\n",
      "ar.L13.D.lag    -0.0288      0.005     -5.882      0.000      -0.038      -0.019\n",
      "ar.L14.D.lag    -0.0095      0.005     -1.935      0.053      -0.019       0.000\n",
      "ar.L15.D.lag    -0.1104      0.005    -22.570      0.000      -0.120      -0.101\n",
      "ar.L16.D.lag    -0.0284      0.005     -5.800      0.000      -0.038      -0.019\n",
      "ar.L17.D.lag    -0.0238      0.005     -4.861      0.000      -0.033      -0.014\n",
      "ar.L18.D.lag    -0.0613      0.005    -12.535      0.000      -0.071      -0.052\n",
      "ar.L19.D.lag    -0.0239      0.005     -4.905      0.000      -0.033      -0.014\n",
      "ar.L20.D.lag    -0.0263      0.005     -5.400      0.000      -0.036      -0.017\n",
      "ar.L21.D.lag     0.0225      0.005      4.615      0.000       0.013       0.032\n",
      "ar.L22.D.lag     0.0326      0.005      6.703      0.000       0.023       0.042\n",
      "ar.L23.D.lag     0.0365      0.005      7.571      0.000       0.027       0.046\n",
      "ar.L24.D.lag     0.3646      0.005     75.590      0.000       0.355       0.374\n",
      "                                    Roots                                     \n",
      "==============================================================================\n",
      "                  Real           Imaginary           Modulus         Frequency\n",
      "------------------------------------------------------------------------------\n",
      "AR.1             0.9709           -0.2604j            1.0052           -0.0417\n",
      "AR.2             0.9709           +0.2604j            1.0052            0.0417\n",
      "AR.3             1.0780           -0.0000j            1.0780           -0.0000\n",
      "AR.4             0.8848           -0.5083j            1.0204           -0.0830\n",
      "AR.5             0.8848           +0.5083j            1.0204            0.0830\n",
      "AR.6             0.7396           -0.7372j            1.0443           -0.1248\n",
      "AR.7             0.7396           +0.7372j            1.0443            0.1248\n",
      "AR.8             0.5235           -0.9109j            1.0506           -0.1670\n",
      "AR.9             0.5235           +0.9109j            1.0506            0.1670\n",
      "AR.10           -1.0382           -0.0000j            1.0382           -0.5000\n",
      "AR.11           -1.0179           -0.2680j            1.0526           -0.4590\n",
      "AR.12           -1.0179           +0.2680j            1.0526            0.4590\n",
      "AR.13           -0.9023           -0.5137j            1.0382           -0.4176\n",
      "AR.14           -0.9023           +0.5137j            1.0382            0.4176\n",
      "AR.15           -0.7324           -0.7262j            1.0314           -0.3757\n",
      "AR.16           -0.7324           +0.7262j            1.0314            0.3757\n",
      "AR.17            0.2698           -1.0224j            1.0574           -0.2089\n",
      "AR.18            0.2698           +1.0224j            1.0574            0.2089\n",
      "AR.19           -0.5372           -0.9236j            1.0684           -0.3338\n",
      "AR.20           -0.5372           +0.9236j            1.0684            0.3338\n",
      "AR.21            0.0020           -1.0541j            1.0541           -0.2497\n",
      "AR.22            0.0020           +1.0541j            1.0541            0.2497\n",
      "AR.23           -0.2709           -1.0004j            1.0364           -0.2921\n",
      "AR.24           -0.2709           +1.0004j            1.0364            0.2921\n",
      "------------------------------------------------------------------------------\n"
     ]
    }
   ],
   "source": [
    "model_24hr = sm.tsa.ARIMA(endog = data_charlotte_train['lag'],order=[24,1,0])\n",
    "results_24hr = model_24hr.fit()\n",
    "print(results_24hr.summary())"
   ]
  },
  {
   "cell_type": "code",
   "execution_count": 276,
   "metadata": {},
   "outputs": [
    {
     "name": "stdout",
     "output_type": "stream",
     "text": [
      "61.580500717819284\n"
     ]
    }
   ],
   "source": [
    "predictions_24hr = pd.DataFrame((results_24hr.predict(start= len(data_charlotte_train), end = len(data_charlotte_train) -1 + len(data_charlotte_test))))\n",
    "predictions_24hr.columns = ['predicted_values']\n",
    "predictions_24hr['ground_truth'] = data_charlotte_test['temperature']\n",
    "predictions_24hr['predicted_denormalized'] = predictions_24hr['predicted_values']*(99.95 - 0.515) + 0.515\n",
    "predictions_24hr['grountruth_denormalized'] = predictions_24hr['ground_truth']*(99.95 - 0.515) + 0.515\n",
    "rmse_24h = sqrt(mean_squared_error(predictions_24hr['predicted_denormalized'], predictions_24hr['grountruth_denormalized']))\n",
    "print(rmse_24h)"
   ]
  },
  {
   "cell_type": "markdown",
   "metadata": {},
   "source": [
    "#### Predicting Temperature at time T + 4 by looking at temperatures between T and T - 72"
   ]
  },
  {
   "cell_type": "code",
   "execution_count": null,
   "metadata": {},
   "outputs": [],
   "source": [
    "model_24hr = sm.tsa.ARIMA(endog = data_charlotte_train['lag'],order=[72,1,0])\n",
    "results_72hr = model_72hr.fit()\n",
    "print(results_72hr.summary())"
   ]
  },
  {
   "cell_type": "code",
   "execution_count": null,
   "metadata": {},
   "outputs": [],
   "source": [
    "predictions_72hr = pd.DataFrame((results_72hr.predict(start= len(data_charlotte_train), end = len(data_charlotte_train) -1 + len(data_charlotte_test))))\n",
    "predictions_72hr.columns = ['predicted_values']\n",
    "predictions_72hr['ground_truth'] = data_charlotte_test['temperature']\n",
    "predictions_72hr['predicted_denormalized'] = predictions_72hr['predicted_values']*(99.95 - 0.515) + 0.515\n",
    "predictions_72hr['grountruth_denormalized'] = predictions_72hr['ground_truth']*(99.95 - 0.515) + 0.515\n",
    "rmse_72h = sqrt(mean_squared_error(predictions_72hr['predicted_denormalized'], predictions_72hr['grountruth_denormalized']))\n",
    "print(rmse_72h)"
   ]
  },
  {
   "cell_type": "markdown",
   "metadata": {},
   "source": [
    "### Few other standard modeling techniques: Regression, Random Forest and ANN"
   ]
  },
  {
   "cell_type": "markdown",
   "metadata": {},
   "source": [
    "#### A little bit of data prep"
   ]
  },
  {
   "cell_type": "code",
   "execution_count": 346,
   "metadata": {
    "collapsed": true
   },
   "outputs": [
    {
     "name": "stderr",
     "output_type": "stream",
     "text": [
      "C:\\Users\\Prasanth\\Anaconda3\\lib\\site-packages\\ipykernel_launcher.py:2: SettingWithCopyWarning: \n",
      "A value is trying to be set on a copy of a slice from a DataFrame.\n",
      "Try using .loc[row_indexer,col_indexer] = value instead\n",
      "\n",
      "See the caveats in the documentation: http://pandas.pydata.org/pandas-docs/stable/indexing.html#indexing-view-versus-copy\n",
      "  \n",
      "C:\\Users\\Prasanth\\Anaconda3\\lib\\site-packages\\ipykernel_launcher.py:3: FutureWarning: pd.rolling_mean is deprecated for Series and will be removed in a future version, replace with \n",
      "\tSeries.rolling(window=2,center=False).mean()\n",
      "  This is separate from the ipykernel package so we can avoid doing imports until\n",
      "C:\\Users\\Prasanth\\Anaconda3\\lib\\site-packages\\ipykernel_launcher.py:3: SettingWithCopyWarning: \n",
      "A value is trying to be set on a copy of a slice from a DataFrame.\n",
      "Try using .loc[row_indexer,col_indexer] = value instead\n",
      "\n",
      "See the caveats in the documentation: http://pandas.pydata.org/pandas-docs/stable/indexing.html#indexing-view-versus-copy\n",
      "  This is separate from the ipykernel package so we can avoid doing imports until\n",
      "C:\\Users\\Prasanth\\Anaconda3\\lib\\site-packages\\ipykernel_launcher.py:4: SettingWithCopyWarning: \n",
      "A value is trying to be set on a copy of a slice from a DataFrame.\n",
      "Try using .loc[row_indexer,col_indexer] = value instead\n",
      "\n",
      "See the caveats in the documentation: http://pandas.pydata.org/pandas-docs/stable/indexing.html#indexing-view-versus-copy\n",
      "  after removing the cwd from sys.path.\n",
      "C:\\Users\\Prasanth\\Anaconda3\\lib\\site-packages\\ipykernel_launcher.py:6: SettingWithCopyWarning: \n",
      "A value is trying to be set on a copy of a slice from a DataFrame.\n",
      "Try using .loc[row_indexer,col_indexer] = value instead\n",
      "\n",
      "See the caveats in the documentation: http://pandas.pydata.org/pandas-docs/stable/indexing.html#indexing-view-versus-copy\n",
      "  \n"
     ]
    }
   ],
   "source": [
    "data = pd.read_csv(r'C:\\Users\\Prasanth\\Downloads\\M.S. Data Science Academics\\2nd Sem\\Machine Learning\\Projects\\Final Project\\df_weather_scaled_encoded.csv')\n",
    "data_charlotte = data[data['city'] == 'Charlotte']\n",
    "data_charlotte['temp_after_4hr'] = data_charlotte['temperature'].shift(-4)\n",
    "data_charlotte['temp_avg_last_2hr'] = pd.rolling_mean(data_charlotte['temperature'], 2)\n",
    "data_charlotte['temp_before_24hr'] = data_charlotte['temperature'].shift(24)\n",
    "data_charlotte['temp_before_24hr_3day_avg'] = (data_charlotte['temperature'].shift(24) + data_charlotte['temperature'].shift(48)\n",
    "                                               + data_charlotte['temperature'].shift(72))/3"
   ]
  },
  {
   "cell_type": "code",
   "execution_count": 347,
   "metadata": {},
   "outputs": [],
   "source": [
    "data_charlotte = data_charlotte.dropna()\n",
    "data_charlotte_train2 = data_charlotte[data_charlotte['datetime'].astype(str).str[0:4].astype(int) < 2017]\n",
    "data_charlotte_test2 = data_charlotte[data_charlotte['datetime'].astype(str).str[0:4].astype(int) == 2017]"
   ]
  },
  {
   "cell_type": "markdown",
   "metadata": {},
   "source": [
    "#### Modeling"
   ]
  },
  {
   "cell_type": "code",
   "execution_count": 348,
   "metadata": {},
   "outputs": [],
   "source": [
    "response = np.ravel(data_charlotte_train2['temp_after_4hr'])\n",
    "train = pd.DataFrame(data_charlotte_train2[data_charlotte_train2.columns.difference(['datetime', 'city', 'latitude', 'longitude', 'temp_after_4hr'])])\n",
    "ground_truth = data_charlotte_test2['temp_after_4hr']\n",
    "test = pd.DataFrame(data_charlotte_test2[data_charlotte_test2.columns.difference(['datetime', 'city', 'latitude', 'longitude', 'temp_after_4hr'])])\n",
    "    \n",
    "predicted_linear = LinearRegression().fit(train, response).predict(test)\n",
    "predicted_rf = RandomForestRegressor().fit(train, response).predict(test)\n",
    "\n",
    "# Neural network part\n",
    "\n",
    "y_train = list(data_charlotte_train2['temp_after_4hr'])\n",
    "X_train = pd.DataFrame(data_charlotte_train2[data_charlotte_train2.columns.difference(['datetime', 'city', 'latitude', 'longitude', 'temp_after_4hr'])])\n",
    "y_test = list(data_charlotte_test2['temp_after_4hr'])\n",
    "X_test = pd.DataFrame(data_charlotte_test2[data_charlotte_test2.columns.difference(['datetime', 'city', 'latitude', 'longitude', 'temp_after_4hr'])])\n",
    "\n",
    "scaler = StandardScaler()\n",
    "scaler.fit(X_train)\n",
    "X_train = scaler.transform(X_train)\n",
    "X_test = scaler.transform(X_test)\n",
    "mlp = MLPRegressor(hidden_layer_sizes=(20,20,20),max_iter=500000)\n",
    "mlp.fit(X_train,y_train)\n",
    "\n",
    "predicted_neural = mlp.predict(X_test)"
   ]
  },
  {
   "cell_type": "code",
   "execution_count": 349,
   "metadata": {},
   "outputs": [
    {
     "name": "stdout",
     "output_type": "stream",
     "text": [
      "3.8720537516917335\n"
     ]
    }
   ],
   "source": [
    "predictions_linear = pd.DataFrame(predicted_linear)\n",
    "predictions_linear.columns = ['predicted_values']\n",
    "predictions_linear['ground_truth'] = list(data_charlotte_test2['temp_after_4hr'])\n",
    "predictions_linear['predicted_denormalized'] = predictions_linear['predicted_values']*(99.95 - 0.515) + 0.515\n",
    "predictions_linear['grountruth_denormalized'] = predictions_linear['ground_truth']*(99.95 - 0.515) + 0.515\n",
    "rmse_linear = sqrt(mean_squared_error(predictions_linear['predicted_denormalized'], predictions_linear['grountruth_denormalized']))\n",
    "print(rmse_linear)"
   ]
  },
  {
   "cell_type": "code",
   "execution_count": 351,
   "metadata": {},
   "outputs": [
    {
     "name": "stdout",
     "output_type": "stream",
     "text": [
      "3.90675088667548\n"
     ]
    }
   ],
   "source": [
    "predictions_rf = pd.DataFrame(predicted_rf)\n",
    "predictions_rf.columns = ['predicted_values']\n",
    "predictions_rf['ground_truth'] = list(data_charlotte_test2['temp_after_4hr'])\n",
    "predictions_rf['predicted_denormalized'] = predictions_rf['predicted_values']*(99.95 - 0.515) + 0.515\n",
    "predictions_rf['grountruth_denormalized'] = predictions_rf['ground_truth']*(99.95 - 0.515) + 0.515\n",
    "rmse_rf = sqrt(mean_squared_error(predictions_rf['predicted_denormalized'], predictions_rf['grountruth_denormalized']))\n",
    "print(rmse_rf)"
   ]
  },
  {
   "cell_type": "code",
   "execution_count": 352,
   "metadata": {},
   "outputs": [
    {
     "name": "stdout",
     "output_type": "stream",
     "text": [
      "5.403473607236868\n"
     ]
    }
   ],
   "source": [
    "predictions_neural = pd.DataFrame(predicted_neural)\n",
    "predictions_neural.columns = ['predicted_values']\n",
    "predictions_neural['ground_truth'] = list(data_charlotte_test2['temp_after_4hr'])\n",
    "predictions_neural['predicted_denormalized'] = predictions_neural['predicted_values']*(99.95 - 0.515) + 0.515\n",
    "predictions_neural['grountruth_denormalized'] = predictions_neural['ground_truth']*(99.95 - 0.515) + 0.515\n",
    "rmse_neural = sqrt(mean_squared_error(predictions_neural['predicted_denormalized'], predictions_neural['grountruth_denormalized']))\n",
    "print(rmse_neural)"
   ]
  }
 ],
 "metadata": {
  "kernelspec": {
   "display_name": "Python 3",
   "language": "python",
   "name": "python3"
  },
  "language_info": {
   "codemirror_mode": {
    "name": "ipython",
    "version": 3
   },
   "file_extension": ".py",
   "mimetype": "text/x-python",
   "name": "python",
   "nbconvert_exporter": "python",
   "pygments_lexer": "ipython3",
   "version": "3.6.3"
  },
  "toc": {
   "nav_menu": {},
   "number_sections": true,
   "sideBar": true,
   "skip_h1_title": false,
   "title_cell": "Table of Contents",
   "title_sidebar": "Contents",
   "toc_cell": false,
   "toc_position": {},
   "toc_section_display": true,
   "toc_window_display": false
  },
  "varInspector": {
   "cols": {
    "lenName": 16,
    "lenType": 16,
    "lenVar": 40
   },
   "kernels_config": {
    "python": {
     "delete_cmd_postfix": "",
     "delete_cmd_prefix": "del ",
     "library": "var_list.py",
     "varRefreshCmd": "print(var_dic_list())"
    },
    "r": {
     "delete_cmd_postfix": ") ",
     "delete_cmd_prefix": "rm(",
     "library": "var_list.r",
     "varRefreshCmd": "cat(var_dic_list()) "
    }
   },
   "types_to_exclude": [
    "module",
    "function",
    "builtin_function_or_method",
    "instance",
    "_Feature"
   ],
   "window_display": false
  }
 },
 "nbformat": 4,
 "nbformat_minor": 2
}
