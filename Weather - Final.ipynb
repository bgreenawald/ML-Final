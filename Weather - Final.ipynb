{
 "cells": [
  {
   "cell_type": "markdown",
   "metadata": {},
   "source": [
    "# Weather Prediction Using Recurrent Neural Networks\n",
    "\n",
    "## Adrian, Ben, and Sai"
   ]
  },
  {
   "cell_type": "markdown",
   "metadata": {},
   "source": [
    "### Imports"
   ]
  },
  {
   "cell_type": "code",
   "execution_count": 45,
   "metadata": {},
   "outputs": [],
   "source": [
    "# Data processing and functions\n",
    "import pandas as pd\n",
    "import numpy as np\n",
    "import scipy as sp\n",
    "from pandas import read_csv\n",
    "from pandas import datetime\n",
    "from pandas import Series, DataFrame\n",
    "from matplotlib import pyplot\n",
    "from statsmodels.tsa.arima_model import ARIMA\n",
    "from sklearn.metrics import mean_squared_error\n",
    "from math import sqrt\n",
    "\n",
    "# Analytics and modeling\n",
    "from sklearn.model_selection import train_test_split\n",
    "from sklearn.metrics import mean_squared_error\n",
    "from sklearn.model_selection import cross_val_predict\n",
    "from sklearn import linear_model\n",
    "from sklearn.model_selection import cross_val_score\n",
    "from sklearn.decomposition import PCA\n",
    "from sklearn import manifold\n",
    "from sklearn.preprocessing import StandardScaler\n",
    "from sklearn.preprocessing import MinMaxScaler\n",
    "from sklearn.feature_selection import SelectKBest, f_regression\n",
    "from sklearn.pipeline import make_pipeline\n",
    "from sklearn.metrics import classification_report\n",
    "import statsmodels.api as sm\n",
    "from statsmodels.tsa.arima_model import ARIMA\n",
    "import statsmodels.sandbox.tools.tools_pca as sm_pca\n",
    "from statsmodels.formula.api import ols as sm_ols\n",
    "from statsmodels.stats.anova import anova_lm as sm_anova\n",
    "from patsy.contrasts import Treatment\n",
    "from patsy import dmatrices\n",
    "from sklearn.linear_model import LinearRegression\n",
    "from sklearn.ensemble import RandomForestRegressor\n",
    "from sklearn.neural_network import MLPRegressor\n",
    "from sklearn.svm import SVR\n",
    "from sklearn.metrics import f1_score\n",
    "\n",
    "from datetime import datetime\n",
    "from datetime import timedelta\n",
    "from pandas.core import datetools\n",
    "\n",
    "# Graphing and visualizing\n",
    "import seaborn as sns\n",
    "import matplotlib as mpl\n",
    "import matplotlib.pyplot as plt\n",
    "import matplotlib.colors as colors\n",
    "from matplotlib import cm\n",
    "from pylab import savefig\n",
    "\n",
    "# Miscellaneous\n",
    "from functools import reduce\n",
    "import datetime\n",
    "import timeit\n",
    "import random\n",
    "import sys\n",
    "import os\n",
    "from collections import defaultdict\n",
    "\n",
    "# Neural Networks\n",
    "import tensorflow as tf\n",
    "from tensorflow.contrib import rnn\n",
    "\n",
    "# Setting graphing preferences\n",
    "sns.set(style=\"darkgrid\", color_codes=True)\n",
    "\n",
    "# Printing\n",
    "import locale\n",
    "\n",
    "# Show plots locally\n",
    "locale.setlocale( locale.LC_ALL, '' )\n",
    "\n",
    "%matplotlib inline"
   ]
  },
  {
   "cell_type": "markdown",
   "metadata": {},
   "source": [
    "# Preprocessing"
   ]
  },
  {
   "cell_type": "markdown",
   "metadata": {},
   "source": [
    "### Read in the files"
   ]
  },
  {
   "cell_type": "code",
   "execution_count": null,
   "metadata": {},
   "outputs": [],
   "source": [
    "\n",
    "# Filenames\n",
    "city_file = 'city_attributes.csv'\n",
    "temp_file = 'temperature.csv'\n",
    "humid_file = 'humidity.csv'\n",
    "press_file = 'pressure.csv'\n",
    "desc_file = 'weather_description.csv'\n",
    "wdir_file = 'wind_direction.csv'\n",
    "wspeed_file = 'wind_speed.csv'\n",
    "\n",
    "# Load the files\n",
    "city_df = pd.read_csv(city_file)\n",
    "city_df.rename(str.lower, axis = 'columns', inplace = True)\n",
    "city_df.drop(['country'], axis = 1, inplace = True)\n",
    "city_df.set_index(['city'], inplace = True)\n",
    "temp_df = pd.read_csv(temp_file)\n",
    "humid_df = pd.read_csv(humid_file)\n",
    "press_df = pd.read_csv(press_file)\n",
    "desc_df = pd.read_csv(desc_file)\n",
    "wdir_df = pd.read_csv(wdir_file)\n",
    "wspeed_df = pd.read_csv(wspeed_file)"
   ]
  },
  {
   "cell_type": "code",
   "execution_count": null,
   "metadata": {},
   "outputs": [],
   "source": [
    "# These are the cities that universally have > 1% missing across all weather values\n",
    "drop_city = set(temp_df.columns[temp_df.isna().sum() > 500]) & set(humid_df.columns[humid_df.isna().sum() > 500]) & set(press_df.columns[press_df.isna().sum() > 500]) & set(desc_df.columns[desc_df.isna().sum() > 500]) & set(wdir_df.columns[wdir_df.isna().sum() > 500]) & set(wspeed_df.columns[wspeed_df.isna().sum() > 500])  "
   ]
  },
  {
   "cell_type": "code",
   "execution_count": null,
   "metadata": {},
   "outputs": [],
   "source": [
    "# Remove the undesired cities and melt the tables to be conducive for joining\n",
    "alt_temp_df = pd.melt(temp_df.drop(drop_city, axis = 1), id_vars = ['datetime'], var_name = 'city', value_name = 'temperature')\n",
    "alt_humid_df = pd.melt(humid_df.drop(drop_city, axis = 1), id_vars = ['datetime'], var_name = 'city', value_name = 'humidity')\n",
    "alt_press_df = pd.melt(press_df.drop(drop_city, axis = 1), id_vars = ['datetime'], var_name = 'city', value_name = 'pressure')\n",
    "alt_desc_df = pd.melt(desc_df.drop(drop_city, axis = 1), id_vars = ['datetime'], var_name = 'city', value_name = 'weather_description')\n",
    "alt_wdir_df = pd.melt(wdir_df.drop(drop_city, axis = 1), id_vars = ['datetime'], var_name = 'city', value_name = 'wind_direction')\n",
    "alt_wspeed_df = pd.melt(wspeed_df.drop(drop_city, axis = 1), id_vars = ['datetime'], var_name = 'city', value_name = 'wind_speed')\n",
    "\n",
    "# Set proper indices\n",
    "alt_temp_df = alt_temp_df.set_index(['city', 'datetime'])\n",
    "alt_humid_df = alt_humid_df.set_index(['city', 'datetime'])\n",
    "alt_press_df = alt_press_df.set_index(['city', 'datetime'])\n",
    "alt_desc_df = alt_desc_df.set_index(['city', 'datetime'])\n",
    "alt_wdir_df = alt_wdir_df.set_index(['city', 'datetime'])\n",
    "alt_wspeed_df = alt_wspeed_df.set_index(['city', 'datetime'])"
   ]
  },
  {
   "cell_type": "markdown",
   "metadata": {},
   "source": [
    "### Join tables together"
   ]
  },
  {
   "cell_type": "code",
   "execution_count": null,
   "metadata": {},
   "outputs": [],
   "source": [
    "# Join tables on the city and datetime info\n",
    "dfs = [city_df, alt_temp_df, alt_humid_df, alt_press_df, alt_wspeed_df, alt_wdir_df, alt_desc_df]\n",
    "df_final = reduce(lambda left, right : pd.merge(left, right, left_index = True, right_index = True), dfs)"
   ]
  },
  {
   "cell_type": "markdown",
   "metadata": {},
   "source": [
    "### Deal with Missing Values"
   ]
  },
  {
   "cell_type": "code",
   "execution_count": null,
   "metadata": {},
   "outputs": [],
   "source": [
    "# Get number of nulls for Charlotte - SUPER CONVOLUTED, but it works\n",
    "temp = df_final.reset_index()\n",
    "temp = temp[temp.city == \"Charlotte\"]\n",
    "temp.isnull().sum()\n",
    "\n",
    "#city                     0\n",
    "#datetime                 0\n",
    "#latitude                 0\n",
    "#longitude                0\n",
    "#temperature              3\n",
    "#humidity               589\n",
    "#pressure                 3\n",
    "#wind_speed               2\n",
    "#wind_direction           1\n",
    "#weather_description      1\n",
    "#dtype: int64\n",
    "\n",
    "# INTERPOLATION HAPPENS HERE -- Break up by city\n",
    "df_final = df_final.groupby('city').apply(lambda group: group.interpolate(limit_direction = 'both'))\n",
    "\n",
    "# Need to do something special for weather_description\n",
    "arr, cat = df_final['weather_description'].factorize()\n",
    "df_final['weather_description'] = pd.Series(arr).replace(-1, np.nan).interpolate(method = 'nearest', limit_direction = 'both').interpolate(limit_direction = 'both').astype('category').cat.rename_categories(cat).astype('str').values"
   ]
  },
  {
   "cell_type": "code",
   "execution_count": null,
   "metadata": {},
   "outputs": [],
   "source": [
    "# The whole purpose here is to encode wind direction. It's not continuous so don't really want to scale it\n",
    "# Also have more granularity in wind dir if need be.\n",
    "#dir_df = pd.DataFrame({'dir' : ['N', 'NNE', 'NE', 'ENE', 'E', 'ESE', 'SE', 'SSE', 'S', 'SSW', 'SW', 'WSW', 'W', 'WNW', 'NW', 'NNW', 'N'],\n",
    "#                        'lower' : [348.75, 11.25, 33.75, 56.25, 78.75, 101.25, 123.75, 146.25, 168.75, 191.25, 213.75, 236.25, 258.75, 281.25, 303.75, 326.25, 0],\n",
    "#                        'upper' : [360, 33.75, 56.25, 78.75, 101.25, 123.75, 146.25, 168.75, 191.25, 213.75, 236.25, 258.75, 281.25, 303.75, 326.25, 348.75, 11.25]})\n",
    "dir_df = pd.DataFrame({'dir' : ['N', 'NE', 'E', 'SE', 'S', 'SW', 'W', 'NW', 'N'],\n",
    "                        'lower' : [337.5, 22.5, 67.5, 112.5, 157, 202.5, 247.5, 292.5, 0],\n",
    "                        'upper' : [360, 67.5, 112.5, 157, 202.5, 247.5, 292.5, 337.5, 22.5]})\n",
    "# Make a copy to fool around in\n",
    "fill_this = df_final['wind_direction'].copy()\n",
    "# And overwrite the copy\n",
    "for i in reversed(range(len(dir_df))):\n",
    "#    print(str(dir_df.loc[i,'lower']) + \" and \" + str(dir_df.loc[i,'upper']))\n",
    "    fill_this.loc[df_final['wind_direction'].between(dir_df.loc[i,'lower'], dir_df.loc[i,'upper'])] = i\n",
    "# This is a bit ugly here; but it maintains any missing values nicely\n",
    "df_final['wind_direction'] = dir_df.loc[fill_this, 'dir'].values"
   ]
  },
  {
   "cell_type": "code",
   "execution_count": null,
   "metadata": {},
   "outputs": [],
   "source": [
    "# Go ahead and drop lat and long, we wont need them for now\n",
    "df_final.drop([\"latitude\", \"longitude\"], inplace=True, axis=1)"
   ]
  },
  {
   "cell_type": "code",
   "execution_count": null,
   "metadata": {},
   "outputs": [],
   "source": [
    "# Convert the data to Farenheit\n",
    "df_final[\"temperature\"] = df_final[\"temperature\"] * 9/5 - 459.67"
   ]
  },
  {
   "cell_type": "markdown",
   "metadata": {},
   "source": [
    "### Normalize data through min-max scaling"
   ]
  },
  {
   "cell_type": "code",
   "execution_count": null,
   "metadata": {},
   "outputs": [],
   "source": [
    "# Scaling happens here -- IMPUTATION MUST HAPPEN FIRST\n",
    "scale_df = df_final[['temperature', 'humidity', 'pressure', 'wind_speed']].values\n",
    "scaler = MinMaxScaler()\n",
    "# We have access to min and max so we can transform back and forth\n",
    "scale_df = scaler.fit_transform(scale_df)\n",
    "df_final_scaled = df_final.copy()\n",
    "df_final_scaled[['temperature', 'humidity', 'pressure', 'wind_speed']] = scale_df\n",
    "df_final_scaled.head()"
   ]
  },
  {
   "cell_type": "code",
   "execution_count": null,
   "metadata": {},
   "outputs": [],
   "source": [
    "# Collapse a lot of these groupings\n",
    "weather_dict = {'scattered clouds' : 'partly_cloudy', 'sky is clear' : 'clear', \n",
    "             'few clouds' : 'partly_cloudy', 'broken clouds' : 'partly_cloudy',\n",
    "           'overcast clouds' : 'cloudy', 'mist' : 'cloudy', 'haze' : 'cloudy', \n",
    "             'dust' : 'other', 'fog' : 'cloudy', 'moderate rain' : 'rain',\n",
    "           'light rain' : 'rain', 'heavy intensity rain' : 'rain', 'light intensity drizzle' : 'rain',\n",
    "           'heavy snow' : 'snow', 'snow' : 'snow', 'light snow' : 'snow', 'very heavy rain' : 'rain',\n",
    "           'thunderstorm' : 'tstorm', 'proximity thunderstorm' : 'tstorm', 'smoke' : 'other', 'freezing rain' : 'snow',\n",
    "           'thunderstorm with light rain' : 'tstorm', 'drizzle' : 'rain', 'sleet' : 'snow',\n",
    "           'thunderstorm with rain' : 'tstorm', 'thunderstorm with heavy rain' : 'tstorm',\n",
    "           'squalls' : 'rain', 'heavy intensity drizzle' : 'rain', 'light shower snow' : 'snow',\n",
    "           'light intensity shower rain' : 'rain', 'shower rain' : 'rain',\n",
    "           'heavy intensity shower rain' : 'rain', 'proximity shower rain' : 'rain',\n",
    "           'proximity sand/dust whirls' : 'other', 'proximity moderate rain' : 'rain', 'sand' : 'other',\n",
    "           'shower snow' : 'snow', 'proximity thunderstorm with rain' : 'tstorm',\n",
    "           'sand/dust whirls' : 'other', 'proximity thunderstorm with drizzle' : 'tstorm',\n",
    "           'thunderstorm with drizzle' : 'tstorm', 'thunderstorm with light drizzle' : 'tstorm',\n",
    "           'light rain and snow' : 'snow', 'thunderstorm with heavy drizzle' : 'tstorm',\n",
    "           'ragged thunderstorm' : 'tstorm', 'tornado' : 'other', 'volcanic ash' : 'other', 'shower drizzle' : 'rain',\n",
    "           'heavy shower snow' : 'snow', 'light intensity drizzle rain' : 'rain',\n",
    "           'light shower sleet' : 'snow', 'rain and snow' : 'snow'}"
   ]
  },
  {
   "cell_type": "code",
   "execution_count": null,
   "metadata": {},
   "outputs": [],
   "source": [
    "adj_weather = [weather_dict[val] for val in df_final_scaled['weather_description']]\n",
    "df_final_scaled['adj_weather'] = adj_weather\n",
    "df_final_scaled = df_final_scaled.drop('weather_description', axis = 1)"
   ]
  },
  {
   "cell_type": "markdown",
   "metadata": {},
   "source": [
    "### Make weather and wind direction dummy variables"
   ]
  },
  {
   "cell_type": "code",
   "execution_count": null,
   "metadata": {},
   "outputs": [],
   "source": [
    "# And one-hot encode the wind_directions and weather\n",
    "df_final_scaled = pd.get_dummies(df_final_scaled, prefix=['wind_dir', 'weather'], \n",
    "                                 columns=['wind_direction', 'adj_weather'])"
   ]
  },
  {
   "cell_type": "markdown",
   "metadata": {},
   "source": [
    "### Write the results"
   ]
  },
  {
   "cell_type": "code",
   "execution_count": null,
   "metadata": {},
   "outputs": [],
   "source": [
    "df_final_scaled = df_final_scaled.reset_index('city')\n",
    "\n",
    "# Write for distribution\n",
    "df_final_scaled.to_csv('df_weather_scaled_encoded.csv')"
   ]
  },
  {
   "cell_type": "markdown",
   "metadata": {},
   "source": [
    "# Time Series and Baseline Analysis"
   ]
  },
  {
   "cell_type": "code",
   "execution_count": 68,
   "metadata": {},
   "outputs": [],
   "source": [
    "# Read back in the data\n",
    "data = pd.read_csv(r'df_weather_scaled_encoded.csv')"
   ]
  },
  {
   "cell_type": "code",
   "execution_count": 62,
   "metadata": {},
   "outputs": [
    {
     "data": {
      "text/html": [
       "<div>\n",
       "<style>\n",
       "    .dataframe thead tr:only-child th {\n",
       "        text-align: right;\n",
       "    }\n",
       "\n",
       "    .dataframe thead th {\n",
       "        text-align: left;\n",
       "    }\n",
       "\n",
       "    .dataframe tbody tr th {\n",
       "        vertical-align: top;\n",
       "    }\n",
       "</style>\n",
       "<table border=\"1\" class=\"dataframe\">\n",
       "  <thead>\n",
       "    <tr style=\"text-align: right;\">\n",
       "      <th></th>\n",
       "      <th>datetime</th>\n",
       "      <th>city</th>\n",
       "      <th>latitude</th>\n",
       "      <th>longitude</th>\n",
       "      <th>temperature</th>\n",
       "      <th>humidity</th>\n",
       "      <th>pressure</th>\n",
       "      <th>wind_speed</th>\n",
       "      <th>wind_dir_E</th>\n",
       "      <th>wind_dir_N</th>\n",
       "      <th>...</th>\n",
       "      <th>wind_dir_SE</th>\n",
       "      <th>wind_dir_SW</th>\n",
       "      <th>wind_dir_W</th>\n",
       "      <th>weather_clear</th>\n",
       "      <th>weather_cloudy</th>\n",
       "      <th>weather_other</th>\n",
       "      <th>weather_partly_cloudy</th>\n",
       "      <th>weather_rain</th>\n",
       "      <th>weather_snow</th>\n",
       "      <th>weather_tstorm</th>\n",
       "    </tr>\n",
       "  </thead>\n",
       "  <tbody>\n",
       "    <tr>\n",
       "      <th>0</th>\n",
       "      <td>2012-10-01 12:00:00</td>\n",
       "      <td>Portland</td>\n",
       "      <td>0.88545</td>\n",
       "      <td>0.0</td>\n",
       "      <td>0.503824</td>\n",
       "      <td>0.800000</td>\n",
       "      <td>0.746667</td>\n",
       "      <td>0.0</td>\n",
       "      <td>0</td>\n",
       "      <td>1</td>\n",
       "      <td>...</td>\n",
       "      <td>0</td>\n",
       "      <td>0</td>\n",
       "      <td>0</td>\n",
       "      <td>0</td>\n",
       "      <td>0</td>\n",
       "      <td>0</td>\n",
       "      <td>1</td>\n",
       "      <td>0</td>\n",
       "      <td>0</td>\n",
       "      <td>0</td>\n",
       "    </tr>\n",
       "    <tr>\n",
       "      <th>1</th>\n",
       "      <td>2012-10-01 13:00:00</td>\n",
       "      <td>Portland</td>\n",
       "      <td>0.88545</td>\n",
       "      <td>0.0</td>\n",
       "      <td>0.503824</td>\n",
       "      <td>0.800000</td>\n",
       "      <td>0.746667</td>\n",
       "      <td>0.0</td>\n",
       "      <td>0</td>\n",
       "      <td>1</td>\n",
       "      <td>...</td>\n",
       "      <td>0</td>\n",
       "      <td>0</td>\n",
       "      <td>0</td>\n",
       "      <td>0</td>\n",
       "      <td>0</td>\n",
       "      <td>0</td>\n",
       "      <td>1</td>\n",
       "      <td>0</td>\n",
       "      <td>0</td>\n",
       "      <td>0</td>\n",
       "    </tr>\n",
       "    <tr>\n",
       "      <th>2</th>\n",
       "      <td>2012-10-01 14:00:00</td>\n",
       "      <td>Portland</td>\n",
       "      <td>0.88545</td>\n",
       "      <td>0.0</td>\n",
       "      <td>0.503865</td>\n",
       "      <td>0.789474</td>\n",
       "      <td>0.746667</td>\n",
       "      <td>0.0</td>\n",
       "      <td>0</td>\n",
       "      <td>1</td>\n",
       "      <td>...</td>\n",
       "      <td>0</td>\n",
       "      <td>0</td>\n",
       "      <td>0</td>\n",
       "      <td>0</td>\n",
       "      <td>0</td>\n",
       "      <td>0</td>\n",
       "      <td>1</td>\n",
       "      <td>0</td>\n",
       "      <td>0</td>\n",
       "      <td>0</td>\n",
       "    </tr>\n",
       "  </tbody>\n",
       "</table>\n",
       "<p>3 rows × 23 columns</p>\n",
       "</div>"
      ],
      "text/plain": [
       "              datetime      city  latitude  longitude  temperature  humidity  \\\n",
       "0  2012-10-01 12:00:00  Portland   0.88545        0.0     0.503824  0.800000   \n",
       "1  2012-10-01 13:00:00  Portland   0.88545        0.0     0.503824  0.800000   \n",
       "2  2012-10-01 14:00:00  Portland   0.88545        0.0     0.503865  0.789474   \n",
       "\n",
       "   pressure  wind_speed  wind_dir_E  wind_dir_N       ...        wind_dir_SE  \\\n",
       "0  0.746667         0.0           0           1       ...                  0   \n",
       "1  0.746667         0.0           0           1       ...                  0   \n",
       "2  0.746667         0.0           0           1       ...                  0   \n",
       "\n",
       "   wind_dir_SW  wind_dir_W  weather_clear  weather_cloudy  weather_other  \\\n",
       "0            0           0              0               0              0   \n",
       "1            0           0              0               0              0   \n",
       "2            0           0              0               0              0   \n",
       "\n",
       "   weather_partly_cloudy  weather_rain  weather_snow  weather_tstorm  \n",
       "0                      1             0             0               0  \n",
       "1                      1             0             0               0  \n",
       "2                      1             0             0               0  \n",
       "\n",
       "[3 rows x 23 columns]"
      ]
     },
     "execution_count": 62,
     "metadata": {},
     "output_type": "execute_result"
    }
   ],
   "source": [
    "# Get a sense of the data\n",
    "data[0:3]"
   ]
  },
  {
   "cell_type": "code",
   "execution_count": 4,
   "metadata": {},
   "outputs": [
    {
     "data": {
      "text/plain": [
       "Index(['datetime', 'city', 'temperature', 'humidity', 'pressure', 'wind_speed',\n",
       "       'wind_dir_E', 'wind_dir_N', 'wind_dir_NE', 'wind_dir_NW', 'wind_dir_S',\n",
       "       'wind_dir_SE', 'wind_dir_SW', 'wind_dir_W', 'weather_clear',\n",
       "       'weather_cloudy', 'weather_other', 'weather_partly_cloudy',\n",
       "       'weather_rain', 'weather_snow', 'weather_tstorm'],\n",
       "      dtype='object')"
      ]
     },
     "execution_count": 4,
     "metadata": {},
     "output_type": "execute_result"
    }
   ],
   "source": [
    "data.columns\n",
    "\n",
    "# No nulls. checked"
   ]
  },
  {
   "cell_type": "code",
   "execution_count": 69,
   "metadata": {},
   "outputs": [],
   "source": [
    "# Make sure categoricals are numeric\n",
    "data[['weather_clear', 'weather_cloudy', 'weather_other', 'weather_partly_cloudy', 'weather_rain', 'weather_snow',\n",
    "    'weather_tstorm']] = data[['weather_clear', 'weather_cloudy', 'weather_other', 'weather_partly_cloudy', 'weather_rain', \n",
    "                               'weather_snow', 'weather_tstorm']].apply(pd.to_numeric, errors = 'coerce')"
   ]
  },
  {
   "cell_type": "code",
   "execution_count": 6,
   "metadata": {},
   "outputs": [
    {
     "data": {
      "text/plain": [
       "array(['Portland', 'Seattle', 'Los Angeles', 'San Diego', 'Las Vegas',\n",
       "       'Phoenix', 'Albuquerque', 'Denver', 'San Antonio', 'Dallas',\n",
       "       'Houston', 'Kansas City', 'Minneapolis', 'Saint Louis', 'Chicago',\n",
       "       'Nashville', 'Indianapolis', 'Atlanta', 'Detroit', 'Jacksonville',\n",
       "       'Charlotte', 'Pittsburgh', 'Toronto', 'Philadelphia', 'Montreal',\n",
       "       'Boston'], dtype=object)"
      ]
     },
     "execution_count": 6,
     "metadata": {},
     "output_type": "execute_result"
    }
   ],
   "source": [
    "# See all cities\n",
    "data['city'].unique()"
   ]
  },
  {
   "cell_type": "code",
   "execution_count": 78,
   "metadata": {},
   "outputs": [],
   "source": [
    "# Keep only the observations from Charlotte, NC\n",
    "data_charlotte = data[data['city'] == 'Charlotte']"
   ]
  },
  {
   "cell_type": "code",
   "execution_count": 8,
   "metadata": {},
   "outputs": [
    {
     "data": {
      "text/plain": [
       "(45253, 21)"
      ]
     },
     "execution_count": 8,
     "metadata": {},
     "output_type": "execute_result"
    }
   ],
   "source": [
    "data_charlotte.shape"
   ]
  },
  {
   "cell_type": "code",
   "execution_count": 71,
   "metadata": {},
   "outputs": [],
   "source": [
    "# Split up the train test\n",
    "data_charlotte_train = data_charlotte[data_charlotte['datetime'].astype(str).str[0:4].astype(int) <= 2016]\n",
    "data_charlotte_test = data_charlotte[data_charlotte['datetime'].astype(str).str[0:4].astype(int) == 2017]"
   ]
  },
  {
   "cell_type": "code",
   "execution_count": 199,
   "metadata": {},
   "outputs": [
    {
     "data": {
      "text/plain": [
       "Index(['datetime', 'city', 'temperature', 'humidity', 'pressure', 'wind_speed',\n",
       "       'wind_dir_E', 'wind_dir_N', 'wind_dir_NE', 'wind_dir_NW', 'wind_dir_S',\n",
       "       'wind_dir_SE', 'wind_dir_SW', 'wind_dir_W', 'weather_clear',\n",
       "       'weather_cloudy', 'weather_other', 'weather_partly_cloudy',\n",
       "       'weather_rain', 'weather_snow', 'weather_tstorm'],\n",
       "      dtype='object')"
      ]
     },
     "execution_count": 199,
     "metadata": {},
     "output_type": "execute_result"
    }
   ],
   "source": [
    "data_charlotte_train.columns"
   ]
  },
  {
   "cell_type": "code",
   "execution_count": 51,
   "metadata": {},
   "outputs": [],
   "source": [
    "# Split into features and response\n",
    "X_train = data_charlotte_train\n",
    "X_test = data_charlotte_test\n",
    "y_train = data_charlotte_train['temperature']\n",
    "y_test = data_charlotte_test['temperature']"
   ]
  },
  {
   "cell_type": "code",
   "execution_count": 52,
   "metadata": {},
   "outputs": [
    {
     "name": "stdout",
     "output_type": "stream",
     "text": [
      "Mean Square Error: 0.01\n"
     ]
    }
   ],
   "source": [
    "# Fit a simple linear model\n",
    "lr = linear_model.LinearRegression()\n",
    "\n",
    "lr.fit(pd.DataFrame(X_train[X_train.columns.difference(['datetime', 'city', 'latitude', 'longitude', 'temperature'])]), y_train)\n",
    "\n",
    "y_fit = lr.predict(pd.DataFrame(X_train[X_train.columns.difference(['datetime', 'city', 'latitude', 'longitude', 'temperature'])]))\n",
    "\n",
    "y_pred = lr.predict(pd.DataFrame(X_test[X_test.columns.difference(['datetime', 'city', 'latitude', 'longitude', 'temperature'])]))\n",
    "\n",
    "#Performance on the test set\n",
    "\n",
    "mse = mean_squared_error(y_pred, y_test)\n",
    "\n",
    "print(\"Mean Square Error: %0.2f\" % (mse))\n"
   ]
  },
  {
   "cell_type": "code",
   "execution_count": 55,
   "metadata": {},
   "outputs": [
    {
     "data": {
      "text/plain": [
       "Text(0,0.5,'Autocorrelation')"
      ]
     },
     "execution_count": 55,
     "metadata": {},
     "output_type": "execute_result"
    },
    {
     "data": {
      "image/png": "[encoded data removed]",
      "text/plain": [
       "<matplotlib.figure.Figure at 0x13b196c7780>"
      ]
     },
     "metadata": {},
     "output_type": "display_data"
    }
   ],
   "source": [
    "# Residual ACF, PACF\n",
    "\n",
    "resid = y_train - y_fit\n",
    "\n",
    "fig = plt.figure(figsize=(12,8))\n",
    "ax1 = fig.add_subplot(211)\n",
    "fig = sm.graphics.tsa.plot_acf(resid, lags=160, ax=ax1)\n",
    "labels = 'Difference in time (lag)'\n",
    "plt.xlabel(labels)\n",
    "ylabelsset = 'Autocorrelation'\n",
    "plt.ylabel(ylabelsset)\n",
    "\n",
    "# The below plots demonstrate that there is certainly a 24 hour cycle to an extnent"
   ]
  },
  {
   "cell_type": "code",
   "execution_count": 59,
   "metadata": {},
   "outputs": [
    {
     "data": {
      "text/plain": [
       "Text(0,0.5,'Partial autocorrelation')"
      ]
     },
     "execution_count": 59,
     "metadata": {},
     "output_type": "execute_result"
    },
    {
     "data": {
      "image/png": "[encoded data removed]",
      "text/plain": [
       "<matplotlib.figure.Figure at 0x13b082bb550>"
      ]
     },
     "metadata": {},
     "output_type": "display_data"
    }
   ],
   "source": [
    "# Residual ACF, PACF\n",
    "\n",
    "resid = y_train - y_fit\n",
    "\n",
    "fig = plt.figure(figsize=(12,8))\n",
    "ax2 = fig.add_subplot(212)\n",
    "fig = sm.graphics.tsa.plot_pacf(resid, lags=160, ax=ax2)\n",
    "labels = 'Difference in time (lag)'\n",
    "plt.xlabel(labels)\n",
    "ylabelsset = 'Partial autocorrelation'\n",
    "plt.ylabel(ylabelsset)\n"
   ]
  },
  {
   "cell_type": "markdown",
   "metadata": {},
   "source": [
    "### How does a plot of predicted vs actual look?"
   ]
  },
  {
   "cell_type": "code",
   "execution_count": 156,
   "metadata": {},
   "outputs": [
    {
     "data": {
      "image/png": "[encoded data removed]",
      "text/plain": [
       "<matplotlib.figure.Figure at 0x1c7763b8cc0>"
      ]
     },
     "metadata": {},
     "output_type": "display_data"
    }
   ],
   "source": [
    "# Get a sense of how the predictions actually look\n",
    "fit_train = pd.DataFrame(y_fit, y_train)\n",
    "fit_train = fit_train.reset_index()\n",
    "fit_train.columns = ['Predicted', 'Actual']\n",
    "scatt = fit_train.plot(x = ['Predicted'], y = ['Actual'], kind = 'scatter')\n",
    "plt.show()"
   ]
  },
  {
   "cell_type": "markdown",
   "metadata": {},
   "source": [
    "### ARIMA models"
   ]
  },
  {
   "cell_type": "markdown",
   "metadata": {},
   "source": [
    "####  (ARIMA approach 1): just t-4, t-5 hour temperature data to predict t"
   ]
  },
  {
   "cell_type": "code",
   "execution_count": 202,
   "metadata": {},
   "outputs": [
    {
     "name": "stderr",
     "output_type": "stream",
     "text": [
      "/Users/mead/anaconda/envs/py36/lib/python3.6/site-packages/statsmodels/tsa/kalmanf/kalmanfilter.py:646: FutureWarning: Conversion of the second argument of issubdtype from `float` to `np.floating` is deprecated. In future, it will be treated as `np.float64 == np.dtype(float).type`.\n",
      "  if issubdtype(paramsdtype, float):\n",
      "/Users/mead/anaconda/envs/py36/lib/python3.6/site-packages/statsmodels/tsa/kalmanf/kalmanfilter.py:650: FutureWarning: Conversion of the second argument of issubdtype from `complex` to `np.complexfloating` is deprecated. In future, it will be treated as `np.complex128 == np.dtype(complex).type`.\n",
      "  elif issubdtype(paramsdtype, complex):\n"
     ]
    },
    {
     "name": "stdout",
     "output_type": "stream",
     "text": [
      "                             ARIMA Model Results                              \n",
      "==============================================================================\n",
      "Dep. Variable:                  D.lag   No. Observations:                37255\n",
      "Model:                 ARIMA(2, 1, 0)   Log Likelihood              102465.287\n",
      "Method:                       css-mle   S.D. of innovations              0.015\n",
      "Date:                Tue, 01 May 2018   AIC                        -204922.574\n",
      "Time:                        15:13:19   BIC                        -204888.472\n",
      "Sample:                    10-01-2012   HQIC                       -204911.744\n",
      "                         - 12-31-2016                                         \n",
      "===============================================================================\n",
      "                  coef    std err          z      P>|z|      [0.025      0.975]\n",
      "-------------------------------------------------------------------------------\n",
      "const       -2.529e-06      0.000     -0.014      0.989      -0.000       0.000\n",
      "ar.L1.D.lag     0.2662      0.005     53.735      0.000       0.256       0.276\n",
      "ar.L2.D.lag     0.2932      0.005     59.193      0.000       0.283       0.303\n",
      "                                    Roots                                    \n",
      "=============================================================================\n",
      "                 Real           Imaginary           Modulus         Frequency\n",
      "-----------------------------------------------------------------------------\n",
      "AR.1            1.4479           +0.0000j            1.4479            0.0000\n",
      "AR.2           -2.3557           +0.0000j            2.3557            0.5000\n",
      "-----------------------------------------------------------------------------\n"
     ]
    }
   ],
   "source": [
    "model_2hr = sm.tsa.ARIMA(endog = data_charlotte_train['lag'],order=[2,1,0])\n",
    "results_2hr = model_2hr.fit()\n",
    "print(results_2hr.summary())"
   ]
  },
  {
   "cell_type": "code",
   "execution_count": 203,
   "metadata": {},
   "outputs": [
    {
     "name": "stderr",
     "output_type": "stream",
     "text": [
      "/Users/mead/anaconda/envs/py36/lib/python3.6/site-packages/statsmodels/tsa/kalmanf/kalmanfilter.py:646: FutureWarning: Conversion of the second argument of issubdtype from `float` to `np.floating` is deprecated. In future, it will be treated as `np.float64 == np.dtype(float).type`.\n",
      "  if issubdtype(paramsdtype, float):\n",
      "/Users/mead/anaconda/envs/py36/lib/python3.6/site-packages/statsmodels/tsa/kalmanf/kalmanfilter.py:650: FutureWarning: Conversion of the second argument of issubdtype from `complex` to `np.complexfloating` is deprecated. In future, it will be treated as `np.complex128 == np.dtype(complex).type`.\n",
      "  elif issubdtype(paramsdtype, complex):\n"
     ]
    }
   ],
   "source": [
    "fit_AR = model_2hr.fit(disp=-1)  \n",
    "TempDiff8760 = data_charlotte_train['temperature'].diff(8760)"
   ]
  },
  {
   "cell_type": "code",
   "execution_count": 204,
   "metadata": {},
   "outputs": [
    {
     "name": "stderr",
     "output_type": "stream",
     "text": [
      "/Users/mead/anaconda/envs/py36/lib/python3.6/site-packages/ipykernel_launcher.py:1: SettingWithCopyWarning: \n",
      "A value is trying to be set on a copy of a slice from a DataFrame.\n",
      "Try using .loc[row_indexer,col_indexer] = value instead\n",
      "\n",
      "See the caveats in the documentation: http://pandas.pydata.org/pandas-docs/stable/indexing.html#indexing-view-versus-copy\n",
      "  \"\"\"Entry point for launching an IPython kernel.\n"
     ]
    }
   ],
   "source": [
    "data_charlotte_train['datetime'] = pd.to_datetime(data_charlotte_train['datetime']) "
   ]
  },
  {
   "cell_type": "code",
   "execution_count": 205,
   "metadata": {},
   "outputs": [
    {
     "name": "stderr",
     "output_type": "stream",
     "text": [
      "/Users/mead/anaconda/envs/py36/lib/python3.6/site-packages/ipykernel_launcher.py:1: SettingWithCopyWarning: \n",
      "A value is trying to be set on a copy of a slice from a DataFrame.\n",
      "Try using .loc[row_indexer,col_indexer] = value instead\n",
      "\n",
      "See the caveats in the documentation: http://pandas.pydata.org/pandas-docs/stable/indexing.html#indexing-view-versus-copy\n",
      "  \"\"\"Entry point for launching an IPython kernel.\n"
     ]
    }
   ],
   "source": [
    "data_charlotte_train[\"NEW_DATE\"] = data_charlotte_train[\"datetime\"] + pd.offsets.DateOffset(years=2)"
   ]
  },
  {
   "cell_type": "code",
   "execution_count": 76,
   "metadata": {},
   "outputs": [],
   "source": [
    "# Get the train forecast\n",
    "forecast = data_charlotte_train.temperature.shift(8760).dropna(inplace = False) +\\\n",
    "fit_AR.fittedvalues\\\n",
    "+ TempDiff8760.dropna(inplace = False).mean()"
   ]
  },
  {
   "cell_type": "code",
   "execution_count": 216,
   "metadata": {},
   "outputs": [],
   "source": [
    "# Get the forecasting indices\n",
    "use_this = data_charlotte_train[['temperature', 'NEW_DATE']][-17544:-8784].copy()\n",
    "use_this.index = use_this['NEW_DATE']"
   ]
  },
  {
   "cell_type": "code",
   "execution_count": 229,
   "metadata": {},
   "outputs": [
    {
     "name": "stderr",
     "output_type": "stream",
     "text": [
      "/Users/mead/anaconda/envs/py36/lib/python3.6/site-packages/statsmodels/tsa/kalmanf/kalmanfilter.py:577: FutureWarning: Conversion of the second argument of issubdtype from `float` to `np.floating` is deprecated. In future, it will be treated as `np.float64 == np.dtype(float).type`.\n",
      "  if issubdtype(paramsdtype, float):\n"
     ]
    }
   ],
   "source": [
    "###### HERE ######\n",
    "forecast = (use_this['temperature'] +\\\n",
    "fit_AR.predict(start= len(data_charlotte_train), end = len(data_charlotte_train) -1 + len(data_charlotte_test))\\\n",
    "+ TempDiff8760.dropna(inplace = False).mean()).dropna(inplace = False)"
   ]
  },
  {
   "cell_type": "code",
   "execution_count": 232,
   "metadata": {},
   "outputs": [
    {
     "data": {
      "text/plain": [
       "Text(0.5,0,'DateTime')"
      ]
     },
     "execution_count": 232,
     "metadata": {},
     "output_type": "execute_result"
    },
    {
     "data": {
      "image/png": "[encoded data removed]",
      "text/plain": [
       "<Figure size 1008x792 with 1 Axes>"
      ]
     },
     "metadata": {},
     "output_type": "display_data"
    }
   ],
   "source": [
    "fig = plt.figure(figsize = (14,11))\n",
    "ts = fig.add_subplot(1, 1, 1)\n",
    "#forecast_mod1 = model_2hr.fit(disp=-1)  \n",
    "#data_charlotte_train.temperature.plot(label = 'Temperature')\n",
    "forecast.plot()\n",
    "\n",
    "ts.legend(loc = 'best')\n",
    "ts.set_title(\"WEATHER Training Predictions\")\n",
    "ts.set_ylabel(\"Normalized Temperature\")\n",
    "ts.set_xlabel(\"DateTime\")"
   ]
  },
  {
   "cell_type": "markdown",
   "metadata": {},
   "source": [
    "##### (results_2hr.predict(start= len(data_charlotte_train), end = len(data_charlotte_train) + len(data_charlotte_test)))[-2:-1]"
   ]
  },
  {
   "cell_type": "code",
   "execution_count": 233,
   "metadata": {},
   "outputs": [
    {
     "name": "stdout",
     "output_type": "stream",
     "text": [
      "8.256708774009267\n"
     ]
    }
   ],
   "source": [
    "forecast = pd.DataFrame(forecast)\n",
    "forecast.columns = ['predicted_values']\n",
    "forecast['ground_truth'] = data_charlotte_test['temperature'].values\n",
    "forecast['predicted_denormalized'] = forecast['predicted_values']*(99.95 - 0.515) + 0.515\n",
    "forecast['grountruth_denormalized'] = forecast['ground_truth']*(99.95 - 0.515) + 0.515\n",
    "rmse_2h = sqrt(mean_squared_error(forecast['predicted_denormalized'], forecast['grountruth_denormalized']))\n",
    "print(rmse_2h)\n",
    "# 8.256708774009267"
   ]
  },
  {
   "cell_type": "markdown",
   "metadata": {},
   "source": [
    "#### (ARIMA approach 2): just t-4, t-5 hour temperature data to predict t"
   ]
  },
  {
   "cell_type": "code",
   "execution_count": 82,
   "metadata": {
    "collapsed": true
   },
   "outputs": [
    {
     "name": "stderr",
     "output_type": "stream",
     "text": [
      "C:\\Users\\Prasanth\\Anaconda3\\lib\\site-packages\\ipykernel_launcher.py:1: SettingWithCopyWarning: \n",
      "A value is trying to be set on a copy of a slice from a DataFrame.\n",
      "Try using .loc[row_indexer,col_indexer] = value instead\n",
      "\n",
      "See the caveats in the documentation: http://pandas.pydata.org/pandas-docs/stable/indexing.html#indexing-view-versus-copy\n",
      "  \"\"\"Entry point for launching an IPython kernel.\n",
      "C:\\Users\\Prasanth\\Anaconda3\\lib\\site-packages\\ipykernel_launcher.py:2: SettingWithCopyWarning: \n",
      "A value is trying to be set on a copy of a slice from a DataFrame\n",
      "\n",
      "See the caveats in the documentation: http://pandas.pydata.org/pandas-docs/stable/indexing.html#indexing-view-versus-copy\n",
      "  \n",
      "C:\\Users\\Prasanth\\Anaconda3\\lib\\site-packages\\statsmodels\\base\\model.py:496: ConvergenceWarning: Maximum Likelihood optimization failed to converge. Check mle_retvals\n",
      "  \"Check mle_retvals\", ConvergenceWarning)\n",
      "C:\\Users\\Prasanth\\Anaconda3\\lib\\site-packages\\statsmodels\\base\\model.py:496: ConvergenceWarning: Maximum Likelihood optimization failed to converge. Check mle_retvals\n",
      "  \"Check mle_retvals\", ConvergenceWarning)\n"
     ]
    }
   ],
   "source": [
    "data_charlotte['lag'] = data_charlotte['temperature'].shift(4)\n",
    "data_charlotte.dropna(inplace=True)\n",
    "data_charlotte_train = data_charlotte[data_charlotte['datetime'].astype(str).str[0:4].astype(int) <= 2016]\n",
    "data_charlotte_test = data_charlotte[data_charlotte['datetime'].astype(str).str[0:4].astype(int) == 2017]\n",
    "\n",
    "X = data_charlotte_train['lag'].values\n",
    "history = [x for x in data_charlotte_train['lag']]\n",
    "test = data_charlotte_test['lag'].values\n",
    "predictions = list()\n",
    "\n",
    "for t in range(len(data_charlotte_test)):\n",
    "    model = ARIMA(history, order=(2,1,0))\n",
    "    model_fit = model.fit(disp=0)\n",
    "    output = model_fit.forecast()\n",
    "    yhat = float(output[0])\n",
    "    predictions.append(yhat)\n",
    "    obs = test[t]\n",
    "    history.append(obs)"
   ]
  },
  {
   "cell_type": "code",
   "execution_count": 85,
   "metadata": {},
   "outputs": [
    {
     "data": {
      "text/plain": [
       "7993"
      ]
     },
     "execution_count": 85,
     "metadata": {},
     "output_type": "execute_result"
    }
   ],
   "source": [
    "len(predictions)"
   ]
  },
  {
   "cell_type": "code",
   "execution_count": 88,
   "metadata": {},
   "outputs": [
    {
     "name": "stdout",
     "output_type": "stream",
     "text": [
      "6.065001387755496\n"
     ]
    }
   ],
   "source": [
    "# Use the min and max values to denormalize the data\n",
    "predictions = pd.DataFrame(predictions)\n",
    "predictions.columns = ['predicted_values']\n",
    "predictions['ground_truth'] = data_charlotte_test['temperature'].values\n",
    "predictions['predicted_denormalized'] = predictions['predicted_values']*(99.95 - 0.515) + 0.515\n",
    "predictions['grountruth_denormalized'] = predictions['ground_truth']*(99.95 - 0.515) + 0.515\n",
    "ARIMA_2h = sqrt(mean_squared_error(predictions['predicted_denormalized'], predictions['grountruth_denormalized']))\n",
    "print(ARIMA_2h)\n",
    "# Overall best model. RMSE: 6.065001387755496"
   ]
  },
  {
   "cell_type": "code",
   "execution_count": 89,
   "metadata": {},
   "outputs": [
    {
     "name": "stdout",
     "output_type": "stream",
     "text": [
      "                             ARIMA Model Results                              \n",
      "==============================================================================\n",
      "Dep. Variable:                    D.y   No. Observations:                45243\n",
      "Model:                 ARIMA(2, 1, 0)   Log Likelihood              125725.882\n",
      "Method:                       css-mle   S.D. of innovations              0.015\n",
      "Date:                Tue, 01 May 2018   AIC                        -251443.764\n",
      "Time:                        22:32:31   BIC                        -251408.885\n",
      "Sample:                             1   HQIC                       -251432.787\n",
      "                                                                              \n",
      "==============================================================================\n",
      "                 coef    std err          z      P>|z|      [0.025      0.975]\n",
      "------------------------------------------------------------------------------\n",
      "const       2.038e-06      0.000      0.012      0.990      -0.000       0.000\n",
      "ar.L1.D.y      0.3050      0.005     67.587      0.000       0.296       0.314\n",
      "ar.L2.D.y      0.2799      0.005     62.013      0.000       0.271       0.289\n",
      "                                    Roots                                    \n",
      "=============================================================================\n",
      "                 Real           Imaginary           Modulus         Frequency\n",
      "-----------------------------------------------------------------------------\n",
      "AR.1            1.4222           +0.0000j            1.4222            0.0000\n",
      "AR.2           -2.5121           +0.0000j            2.5121            0.5000\n",
      "-----------------------------------------------------------------------------\n"
     ]
    }
   ],
   "source": [
    "print(model_fit.summary())"
   ]
  },
  {
   "cell_type": "code",
   "execution_count": null,
   "metadata": {},
   "outputs": [],
   "source": [
    "forecast = pd.DataFrame(forecast)\n",
    "forecast.columns = ['predicted_values']\n",
    "forecast['ground_truth'] = data_charlotte_test['temperature'].values\n",
    "forecast['predicted_denormalized'] = forecast['predicted_values']*(99.95 - 0.515) + 0.515\n",
    "forecast['grountruth_denormalized'] = forecast['ground_truth']*(99.95 - 0.515) + 0.515\n",
    "rmse_2h = sqrt(mean_squared_error(forecast['predicted_denormalized'], forecast['grountruth_denormalized']))\n",
    "print(rmse_2h)"
   ]
  },
  {
   "cell_type": "markdown",
   "metadata": {},
   "source": [
    "#### (ARIMA approach 3): Predicting Temperature at time T + 4 by looking at temperatures between T and T - 24"
   ]
  },
  {
   "cell_type": "code",
   "execution_count": 170,
   "metadata": {},
   "outputs": [
    {
     "name": "stderr",
     "output_type": "stream",
     "text": [
      "C:\\Users\\Prasanth\\Anaconda3\\lib\\site-packages\\statsmodels\\base\\model.py:496: ConvergenceWarning: Maximum Likelihood optimization failed to converge. Check mle_retvals\n",
      "  \"Check mle_retvals\", ConvergenceWarning)\n"
     ]
    },
    {
     "name": "stdout",
     "output_type": "stream",
     "text": [
      "                             ARIMA Model Results                              \n",
      "==============================================================================\n",
      "Dep. Variable:                  D.lag   No. Observations:                37247\n",
      "Model:                ARIMA(24, 1, 0)   Log Likelihood              109788.653\n",
      "Method:                       css-mle   S.D. of innovations              0.013\n",
      "Date:                Mon, 30 Apr 2018   AIC                        -219525.305\n",
      "Time:                        22:41:26   BIC                        -219303.647\n",
      "Sample:                    10-02-2012   HQIC                       -219454.908\n",
      "                         - 12-31-2016                                         \n",
      "================================================================================\n",
      "                   coef    std err          z      P>|z|      [0.025      0.975]\n",
      "--------------------------------------------------------------------------------\n",
      "const          -4.9e-06   5.93e-05     -0.083      0.934      -0.000       0.000\n",
      "ar.L1.D.lag      0.0428      0.005      8.871      0.000       0.033       0.052\n",
      "ar.L2.D.lag      0.1328      0.005     27.529      0.000       0.123       0.142\n",
      "ar.L3.D.lag      0.0232      0.005      4.762      0.000       0.014       0.033\n",
      "ar.L4.D.lag     -0.0265      0.005     -5.431      0.000      -0.036      -0.017\n",
      "ar.L5.D.lag     -0.0397      0.005     -8.149      0.000      -0.049      -0.030\n",
      "ar.L6.D.lag     -0.0937      0.005    -19.221      0.000      -0.103      -0.084\n",
      "ar.L7.D.lag     -0.0454      0.005     -9.286      0.000      -0.055      -0.036\n",
      "ar.L8.D.lag     -0.0246      0.005     -5.037      0.000      -0.034      -0.015\n",
      "ar.L9.D.lag     -0.1086      0.005    -22.204      0.000      -0.118      -0.099\n",
      "ar.L10.D.lag    -0.0045      0.005     -0.930      0.353      -0.014       0.005\n",
      "ar.L11.D.lag    -0.0325      0.005     -6.646      0.000      -0.042      -0.023\n",
      "ar.L12.D.lag    -0.0758      0.005    -15.492      0.000      -0.085      -0.066\n",
      "ar.L13.D.lag    -0.0288      0.005     -5.882      0.000      -0.038      -0.019\n",
      "ar.L14.D.lag    -0.0095      0.005     -1.935      0.053      -0.019       0.000\n",
      "ar.L15.D.lag    -0.1104      0.005    -22.570      0.000      -0.120      -0.101\n",
      "ar.L16.D.lag    -0.0284      0.005     -5.800      0.000      -0.038      -0.019\n",
      "ar.L17.D.lag    -0.0238      0.005     -4.861      0.000      -0.033      -0.014\n",
      "ar.L18.D.lag    -0.0613      0.005    -12.535      0.000      -0.071      -0.052\n",
      "ar.L19.D.lag    -0.0239      0.005     -4.905      0.000      -0.033      -0.014\n",
      "ar.L20.D.lag    -0.0263      0.005     -5.400      0.000      -0.036      -0.017\n",
      "ar.L21.D.lag     0.0225      0.005      4.615      0.000       0.013       0.032\n",
      "ar.L22.D.lag     0.0326      0.005      6.703      0.000       0.023       0.042\n",
      "ar.L23.D.lag     0.0365      0.005      7.571      0.000       0.027       0.046\n",
      "ar.L24.D.lag     0.3646      0.005     75.590      0.000       0.355       0.374\n",
      "                                    Roots                                     \n",
      "==============================================================================\n",
      "                  Real           Imaginary           Modulus         Frequency\n",
      "------------------------------------------------------------------------------\n",
      "AR.1             0.9709           -0.2604j            1.0052           -0.0417\n",
      "AR.2             0.9709           +0.2604j            1.0052            0.0417\n",
      "AR.3             1.0780           -0.0000j            1.0780           -0.0000\n",
      "AR.4             0.8848           -0.5083j            1.0204           -0.0830\n",
      "AR.5             0.8848           +0.5083j            1.0204            0.0830\n",
      "AR.6             0.7396           -0.7372j            1.0443           -0.1248\n",
      "AR.7             0.7396           +0.7372j            1.0443            0.1248\n",
      "AR.8             0.5235           -0.9109j            1.0506           -0.1670\n",
      "AR.9             0.5235           +0.9109j            1.0506            0.1670\n",
      "AR.10           -1.0382           -0.0000j            1.0382           -0.5000\n",
      "AR.11           -1.0179           -0.2680j            1.0526           -0.4590\n",
      "AR.12           -1.0179           +0.2680j            1.0526            0.4590\n",
      "AR.13           -0.9023           -0.5137j            1.0382           -0.4176\n",
      "AR.14           -0.9023           +0.5137j            1.0382            0.4176\n",
      "AR.15           -0.7324           -0.7262j            1.0314           -0.3757\n",
      "AR.16           -0.7324           +0.7262j            1.0314            0.3757\n",
      "AR.17            0.2698           -1.0224j            1.0574           -0.2089\n",
      "AR.18            0.2698           +1.0224j            1.0574            0.2089\n",
      "AR.19           -0.5372           -0.9236j            1.0684           -0.3338\n",
      "AR.20           -0.5372           +0.9236j            1.0684            0.3338\n",
      "AR.21            0.0020           -1.0541j            1.0541           -0.2497\n",
      "AR.22            0.0020           +1.0541j            1.0541            0.2497\n",
      "AR.23           -0.2709           -1.0004j            1.0364           -0.2921\n",
      "AR.24           -0.2709           +1.0004j            1.0364            0.2921\n",
      "------------------------------------------------------------------------------\n"
     ]
    }
   ],
   "source": [
    "model_24hr = sm.tsa.ARIMA(endog = data_charlotte_train['lag'],order=[24,1,0])\n",
    "results_24hr = model_24hr.fit()\n",
    "print(results_24hr.summary())\n",
    "\n",
    "# Computationally not feasible to model. Hence not continuing with this analysis"
   ]
  },
  {
   "cell_type": "markdown",
   "metadata": {},
   "source": [
    "### Few other standard modeling techniques: Regression, Random Forest and ANN"
   ]
  },
  {
   "cell_type": "markdown",
   "metadata": {},
   "source": [
    "#### A little bit of data prep from scratch again"
   ]
  },
  {
   "cell_type": "code",
   "execution_count": 24,
   "metadata": {
    "collapsed": true
   },
   "outputs": [
    {
     "name": "stderr",
     "output_type": "stream",
     "text": [
      "C:\\Users\\Prasanth\\Anaconda3\\lib\\site-packages\\ipykernel_launcher.py:3: SettingWithCopyWarning: \n",
      "A value is trying to be set on a copy of a slice from a DataFrame.\n",
      "Try using .loc[row_indexer,col_indexer] = value instead\n",
      "\n",
      "See the caveats in the documentation: http://pandas.pydata.org/pandas-docs/stable/indexing.html#indexing-view-versus-copy\n",
      "  This is separate from the ipykernel package so we can avoid doing imports until\n",
      "C:\\Users\\Prasanth\\Anaconda3\\lib\\site-packages\\ipykernel_launcher.py:4: SettingWithCopyWarning: \n",
      "A value is trying to be set on a copy of a slice from a DataFrame.\n",
      "Try using .loc[row_indexer,col_indexer] = value instead\n",
      "\n",
      "See the caveats in the documentation: http://pandas.pydata.org/pandas-docs/stable/indexing.html#indexing-view-versus-copy\n",
      "  after removing the cwd from sys.path.\n",
      "C:\\Users\\Prasanth\\Anaconda3\\lib\\site-packages\\ipykernel_launcher.py:5: SettingWithCopyWarning: \n",
      "A value is trying to be set on a copy of a slice from a DataFrame.\n",
      "Try using .loc[row_indexer,col_indexer] = value instead\n",
      "\n",
      "See the caveats in the documentation: http://pandas.pydata.org/pandas-docs/stable/indexing.html#indexing-view-versus-copy\n",
      "  \"\"\"\n",
      "C:\\Users\\Prasanth\\Anaconda3\\lib\\site-packages\\ipykernel_launcher.py:6: SettingWithCopyWarning: \n",
      "A value is trying to be set on a copy of a slice from a DataFrame.\n",
      "Try using .loc[row_indexer,col_indexer] = value instead\n",
      "\n",
      "See the caveats in the documentation: http://pandas.pydata.org/pandas-docs/stable/indexing.html#indexing-view-versus-copy\n",
      "  \n",
      "C:\\Users\\Prasanth\\Anaconda3\\lib\\site-packages\\ipykernel_launcher.py:7: SettingWithCopyWarning: \n",
      "A value is trying to be set on a copy of a slice from a DataFrame.\n",
      "Try using .loc[row_indexer,col_indexer] = value instead\n",
      "\n",
      "See the caveats in the documentation: http://pandas.pydata.org/pandas-docs/stable/indexing.html#indexing-view-versus-copy\n",
      "  import sys\n",
      "C:\\Users\\Prasanth\\Anaconda3\\lib\\site-packages\\ipykernel_launcher.py:9: SettingWithCopyWarning: \n",
      "A value is trying to be set on a copy of a slice from a DataFrame.\n",
      "Try using .loc[row_indexer,col_indexer] = value instead\n",
      "\n",
      "See the caveats in the documentation: http://pandas.pydata.org/pandas-docs/stable/indexing.html#indexing-view-versus-copy\n",
      "  if __name__ == '__main__':\n"
     ]
    }
   ],
   "source": [
    "data = pd.read_csv(r'df_weather_scaled_encoded.csv')\n",
    "data_charlotte = data[data['city'] == 'Charlotte']\n",
    "data_charlotte['temp_after_4hr'] = data_charlotte['temperature'].shift(-4)\n",
    "data_charlotte['temp_last_hr'] = data_charlotte['temperature'].shift(1)\n",
    "data_charlotte['temp_before_24hr'] = data_charlotte['temperature'].shift(20)\n",
    "data_charlotte['temp_before_48hr'] = data_charlotte['temperature'].shift(44)\n",
    "data_charlotte['temp_before_72hr'] = data_charlotte['temperature'].shift(68)\n",
    "data_charlotte['temp_before_24hr_3day_avg'] = (data_charlotte['temperature'].shift(20) + data_charlotte['temperature'].shift(44)\n",
    "                                               + data_charlotte['temperature'].shift(68))/3"
   ]
  },
  {
   "cell_type": "code",
   "execution_count": 25,
   "metadata": {},
   "outputs": [],
   "source": [
    "data_charlotte = data_charlotte.dropna()\n",
    "data_charlotte_train2 = data_charlotte[data_charlotte['datetime'].astype(str).str[0:4].astype(int) < 2017]\n",
    "data_charlotte_test2 = data_charlotte[data_charlotte['datetime'].astype(str).str[0:4].astype(int) == 2017]"
   ]
  },
  {
   "cell_type": "markdown",
   "metadata": {},
   "source": [
    "#### parameter search before modeling"
   ]
  },
  {
   "cell_type": "code",
   "execution_count": 26,
   "metadata": {},
   "outputs": [
    {
     "name": "stdout",
     "output_type": "stream",
     "text": [
      "Add  temp_before_24hr_3day_avg      with p-value 0.0\n",
      "Add  temp_before_48hr               with p-value 0.0\n",
      "Add  temp_before_72hr               with p-value 0.0\n",
      "Add  temperature                    with p-value 0.0\n",
      "Add  temp_last_hr                   with p-value 0.0\n",
      "Add  humidity                       with p-value 0.0\n",
      "Add  temp_before_24hr               with p-value 0.0\n",
      "Add  weather_rain                   with p-value 5.42304e-167\n",
      "Add  wind_dir_NE                    with p-value 9.61627e-102\n",
      "Add  wind_dir_NW                    with p-value 5.15545e-85\n",
      "Add  wind_speed                     with p-value 7.11659e-49\n",
      "Add  wind_dir_SW                    with p-value 5.66768e-55\n",
      "Add  wind_dir_S                     with p-value 1.11484e-55\n",
      "Add  wind_dir_W                     with p-value 1.09867e-17\n",
      "Add  weather_clear                  with p-value 4.70843e-12\n",
      "Add  weather_tstorm                 with p-value 3.14212e-12\n",
      "Add  weather_snow                   with p-value 1.12328e-10\n",
      "Add  pressure                       with p-value 1.93877e-10\n",
      "Add  wind_dir_E                     with p-value 1.79258e-05\n",
      "resulting features:\n",
      "['temp_before_24hr_3day_avg', 'temp_before_48hr', 'temp_before_72hr', 'temperature', 'temp_last_hr', 'humidity', 'temp_before_24hr', 'weather_rain', 'wind_dir_NE', 'wind_dir_NW', 'wind_speed', 'wind_dir_SW', 'wind_dir_S', 'wind_dir_W', 'weather_clear', 'weather_tstorm', 'weather_snow', 'pressure', 'wind_dir_E']\n"
     ]
    }
   ],
   "source": [
    "# Linear Regression parameter search\n",
    "\n",
    "X = pd.DataFrame(data_charlotte_train2[data_charlotte_train2.columns.difference(['datetime', 'city', 'latitude', 'longitude', 'temp_after_4hr'])])\n",
    "y = data_charlotte_train2['temp_after_4hr']\n",
    "\n",
    "# Perform a stepwise selection\n",
    "def stepwise_selection(X, y, \n",
    "                       initial_list=[], \n",
    "                       threshold_in=0.01, \n",
    "                       threshold_out = 0.05, \n",
    "                       verbose=True):\n",
    "\n",
    "    included = list(initial_list)\n",
    "    while True:\n",
    "        changed=False\n",
    "        # forward step\n",
    "        excluded = list(set(X.columns)-set(included))\n",
    "        new_pval = pd.Series(index=excluded)\n",
    "        for new_column in excluded:\n",
    "            model = sm.OLS(y, sm.add_constant(pd.DataFrame(X[included+[new_column]]))).fit()\n",
    "            new_pval[new_column] = model.pvalues[new_column]\n",
    "        best_pval = new_pval.min()\n",
    "        if best_pval < threshold_in:\n",
    "            best_feature = new_pval.argmin()\n",
    "            included.append(best_feature)\n",
    "            changed=True\n",
    "            if verbose:\n",
    "                print('Add  {:30} with p-value {:.6}'.format(best_feature, best_pval))\n",
    "\n",
    "        # backward step\n",
    "        model = sm.OLS(y, sm.add_constant(pd.DataFrame(X[included]))).fit()\n",
    "        # use all coefs except intercept\n",
    "        pvalues = model.pvalues.iloc[1:]\n",
    "        worst_pval = pvalues.max() # null if pvalues is empty\n",
    "        if worst_pval > threshold_out:\n",
    "            changed=True\n",
    "            worst_feature = pvalues.argmax()\n",
    "            included.remove(worst_feature)\n",
    "            if verbose:\n",
    "                print('Drop {:30} with p-value {:.6}'.format(worst_feature, worst_pval))\n",
    "        if not changed:\n",
    "            break\n",
    "    return included\n",
    "# Run the stepwise selection\n",
    "result = stepwise_selection(X, y)\n",
    "\n",
    "print('resulting features:')\n",
    "print(result)\n",
    "\"\"\"\n",
    "Add  temp_before_24hr_3day_avg      with p-value 0.0\n",
    "Add  temp_before_48hr               with p-value 0.0\n",
    "Add  temp_before_72hr               with p-value 0.0\n",
    "Add  temperature                    with p-value 0.0\n",
    "Add  temp_last_hr                   with p-value 0.0\n",
    "Add  humidity                       with p-value 0.0\n",
    "Add  temp_before_24hr               with p-value 0.0\n",
    "Add  weather_rain                   with p-value 5.42304e-167\n",
    "Add  wind_dir_NE                    with p-value 9.61627e-102\n",
    "Add  wind_dir_NW                    with p-value 5.15545e-85\n",
    "Add  wind_speed                     with p-value 7.11659e-49\n",
    "Add  wind_dir_SW                    with p-value 5.66768e-55\n",
    "Add  wind_dir_S                     with p-value 1.11484e-55\n",
    "Add  wind_dir_W                     with p-value 1.09867e-17\n",
    "Add  weather_clear                  with p-value 4.70843e-12\n",
    "Add  weather_tstorm                 with p-value 3.14212e-12\n",
    "Add  weather_snow                   with p-value 1.12328e-10\n",
    "Add  pressure                       with p-value 1.93877e-10\n",
    "Add  wind_dir_E                     with p-value 1.79258e-05\n",
    "resulting features:\n",
    "['temp_before_24hr_3day_avg', 'temp_before_48hr', 'temp_before_72hr', 'temperature', 'temp_last_hr', 'humidity', 'temp_before_24hr', 'weather_rain', 'wind_dir_NE', 'wind_dir_NW', 'wind_speed', 'wind_dir_SW', 'wind_dir_S', 'wind_dir_W', 'weather_clear', 'weather_tstorm', 'weather_snow', 'pressure', 'wind_dir_E']\n",
    "\"\"\""
   ]
  },
  {
   "cell_type": "code",
   "execution_count": 30,
   "metadata": {},
   "outputs": [
    {
     "name": "stdout",
     "output_type": "stream",
     "text": [
      "{'max_depth': 100, 'max_features': 'sqrt', 'n_estimators': 50}\n"
     ]
    }
   ],
   "source": [
    "# Random Forest parameter search\n",
    "\n",
    "from sklearn.grid_search import GridSearchCV \n",
    "rfc = RandomForestRegressor(n_jobs=-1,max_features= 'sqrt' ,n_estimators=50)\n",
    "\n",
    "# Grid search some key parameters\n",
    "param_grid = {\n",
    "    'n_estimators': [10, 20, 50],\n",
    "    'max_features': ['log2', 'sqrt'],\n",
    "    'max_depth': [10, 30, 100]\n",
    "}\n",
    "\n",
    "CV_rfc = GridSearchCV(estimator=rfc, param_grid=param_grid, cv= 5)\n",
    "k = pd.DataFrame(data_charlotte_train2[data_charlotte_train2.columns.difference(['datetime', 'city', 'latitude', 'longitude', 'temp_after_4hr'])])\n",
    "p = np.ravel(data_charlotte_train2['temp_after_4hr'])\n",
    "\n",
    "CV_rfc.fit(k,p)\n",
    "print(CV_rfc.best_params_)\n",
    "# {'max_depth': 100, 'max_features': 'sqrt', 'n_estimators': 50}"
   ]
  },
  {
   "cell_type": "markdown",
   "metadata": {},
   "source": [
    "#### Modeling"
   ]
  },
  {
   "cell_type": "code",
   "execution_count": 32,
   "metadata": {},
   "outputs": [],
   "source": [
    "response = np.ravel(data_charlotte_train2['temp_after_4hr'])\n",
    "train_rf = pd.DataFrame(data_charlotte_train2[data_charlotte_train2.columns.difference(['datetime', 'city', 'latitude', 'longitude', 'temp_after_4hr'])])\n",
    "train_linear = data_charlotte_train2[['temp_before_24hr_3day_avg', 'temp_before_48hr', 'temp_before_72hr', 'temperature', 'temp_last_hr', 'humidity', 'temp_before_24hr', 'weather_rain', 'wind_dir_NE', 'wind_dir_NW', 'wind_speed', 'wind_dir_SW', 'wind_dir_S', 'wind_dir_W', 'weather_clear', 'weather_tstorm', 'weather_snow', 'pressure', 'wind_dir_E']]\n",
    "test_linear = data_charlotte_test2[['temp_before_24hr_3day_avg', 'temp_before_48hr', 'temp_before_72hr', 'temperature', 'temp_last_hr', 'humidity', 'temp_before_24hr', 'weather_rain', 'wind_dir_NE', 'wind_dir_NW', 'wind_speed', 'wind_dir_SW', 'wind_dir_S', 'wind_dir_W', 'weather_clear', 'weather_tstorm', 'weather_snow', 'pressure', 'wind_dir_E']]\n",
    "ground_truth = data_charlotte_test2['temp_after_4hr']\n",
    "test = pd.DataFrame(data_charlotte_test2[data_charlotte_test2.columns.difference(['datetime', 'city', 'latitude', 'longitude', 'temp_after_4hr'])])\n",
    "\n",
    "linear_model = LinearRegression().fit(train_linear, response)\n",
    "predicted_linear = linear_model.predict(test_linear)\n",
    "\n",
    "rf_model = RandomForestRegressor(n_estimators = 50, max_depth = 100, max_features = 'sqrt').fit(train_rf, response)\n",
    "predicted_rf = rf_model.predict(test)\n",
    "\n",
    "# Neural network part\n",
    "\n",
    "#y_train = list(data_charlotte_train2['temp_after_4hr'])\n",
    "#X_train = pd.DataFrame(data_charlotte_train2[data_charlotte_train2.columns.difference(['datetime', 'city', 'latitude', 'longitude', 'temp_after_4hr'])])\n",
    "#y_test = list(data_charlotte_test2['temp_after_4hr'])\n",
    "#X_test = pd.DataFrame(data_charlotte_test2[data_charlotte_test2.columns.difference(['datetime', 'city', 'latitude', 'longitude', 'temp_after_4hr'])])\n",
    "\n",
    "#scaler = StandardScaler()\n",
    "#scaler.fit(X_train)\n",
    "#X_train = scaler.transform(X_train)\n",
    "#X_test = scaler.transform(X_test)\n",
    "#mlp = MLPRegressor(hidden_layer_sizes=(20,20,20),max_iter=500000)\n",
    "#mlp.fit(X_train,y_train)\n",
    "\n",
    "#predicted_neural = mlp.predict(X_test)"
   ]
  },
  {
   "cell_type": "code",
   "execution_count": 29,
   "metadata": {},
   "outputs": [
    {
     "name": "stdout",
     "output_type": "stream",
     "text": [
      "3.1710680190888194\n"
     ]
    }
   ],
   "source": [
    "# Get the linear prediction\n",
    "predictions_linear = pd.DataFrame(predicted_linear)\n",
    "predictions_linear.columns = ['predicted_values']\n",
    "predictions_linear['ground_truth'] = list(data_charlotte_test2['temp_after_4hr'])\n",
    "predictions_linear['predicted_denormalized'] = predictions_linear['predicted_values']*(99.95 - 0.515) + 0.515\n",
    "predictions_linear['grountruth_denormalized'] = predictions_linear['ground_truth']*(99.95 - 0.515) + 0.515\n",
    "rmse_linear = sqrt(mean_squared_error(predictions_linear['predicted_denormalized'], predictions_linear['grountruth_denormalized']))\n",
    "print(rmse_linear)\n",
    "# RMSE: 3.1710680190888194"
   ]
  },
  {
   "cell_type": "code",
   "execution_count": 41,
   "metadata": {},
   "outputs": [
    {
     "data": {
      "text/plain": [
       "Index(['temp_before_24hr_3day_avg', 'temp_before_48hr', 'temp_before_72hr',\n",
       "       'temperature', 'temp_last_hr', 'humidity', 'temp_before_24hr',\n",
       "       'weather_rain', 'wind_dir_NE', 'wind_dir_NW', 'wind_speed',\n",
       "       'wind_dir_SW', 'wind_dir_S', 'wind_dir_W', 'weather_clear',\n",
       "       'weather_tstorm', 'weather_snow', 'pressure', 'wind_dir_E'],\n",
       "      dtype='object')"
      ]
     },
     "execution_count": 41,
     "metadata": {},
     "output_type": "execute_result"
    }
   ],
   "source": [
    "train_linear.columns"
   ]
  },
  {
   "cell_type": "code",
   "execution_count": 31,
   "metadata": {},
   "outputs": [
    {
     "data": {
      "text/plain": [
       "array([ 0.10570036, -0.07086202,  0.06897691,  1.43575105, -0.88518524,\n",
       "        0.05020952,  0.3189862 , -0.01195913, -0.00636929, -0.00581899,\n",
       "       -0.10763384,  0.01036822,  0.00922229,  0.00536454, -0.00321111,\n",
       "       -0.01380692, -0.01908962,  0.0341374 , -0.00311777])"
      ]
     },
     "execution_count": 31,
     "metadata": {},
     "output_type": "execute_result"
    }
   ],
   "source": [
    "# Which variables are important in linear regression\n",
    "\n",
    "linear_model.coef_"
   ]
  },
  {
   "cell_type": "code",
   "execution_count": 43,
   "metadata": {},
   "outputs": [
    {
     "data": {
      "text/plain": [
       "Index(['datetime', 'city', 'latitude', 'longitude', 'temperature', 'humidity',\n",
       "       'pressure', 'wind_speed', 'wind_dir_E', 'wind_dir_N', 'wind_dir_NE',\n",
       "       'wind_dir_NW', 'wind_dir_S', 'wind_dir_SE', 'wind_dir_SW', 'wind_dir_W',\n",
       "       'weather_clear', 'weather_cloudy', 'weather_other',\n",
       "       'weather_partly_cloudy', 'weather_rain', 'weather_snow',\n",
       "       'weather_tstorm', 'temp_after_4hr', 'temp_last_hr', 'temp_before_24hr',\n",
       "       'temp_before_48hr', 'temp_before_72hr', 'temp_before_24hr_3day_avg'],\n",
       "      dtype='object')"
      ]
     },
     "execution_count": 43,
     "metadata": {},
     "output_type": "execute_result"
    }
   ],
   "source": [
    "data_charlotte_train2.columns"
   ]
  },
  {
   "cell_type": "code",
   "execution_count": 44,
   "metadata": {},
   "outputs": [
    {
     "name": "stdout",
     "output_type": "stream",
     "text": [
      "10.267910905877935\n"
     ]
    }
   ],
   "source": [
    "# What happens if I don't inclde all the temperature variables as predictors?\n",
    "\n",
    "response2 = np.ravel(data_charlotte_train2['temp_after_4hr'])\n",
    "train_linear2 = data_charlotte_train2[['humidity', 'pressure', 'wind_speed', 'wind_dir_E', 'wind_dir_N', 'wind_dir_NE', 'wind_dir_NW', \n",
    "                                      'wind_dir_S', 'wind_dir_SE', 'wind_dir_SW', 'wind_dir_W', 'weather_clear', 'weather_cloudy', \n",
    "                                      'weather_other', 'weather_partly_cloudy', 'weather_rain', 'weather_snow', 'weather_tstorm']]\n",
    "test_linear2 = data_charlotte_test2[['humidity', 'pressure', 'wind_speed', 'wind_dir_E', 'wind_dir_N', 'wind_dir_NE', 'wind_dir_NW', \n",
    "                                      'wind_dir_S', 'wind_dir_SE', 'wind_dir_SW', 'wind_dir_W', 'weather_clear', 'weather_cloudy', \n",
    "                                      'weather_other', 'weather_partly_cloudy', 'weather_rain', 'weather_snow', 'weather_tstorm']]\n",
    "ground_truth2 = data_charlotte_test2['temp_after_4hr']\n",
    "predicted_linear2 = LinearRegression().fit(train_linear2, response2).predict(test_linear2)\n",
    "predictions_linear2 = pd.DataFrame(predicted_linear2)\n",
    "predictions_linear2.columns = ['predicted_values']\n",
    "predictions_linear2['ground_truth'] = list(data_charlotte_test2['temp_after_4hr'])\n",
    "predictions_linear2['predicted_denormalized'] = predictions_linear2['predicted_values']*(99.95 - 0.515) + 0.515\n",
    "predictions_linear2['grountruth_denormalized'] = predictions_linear2['ground_truth']*(99.95 - 0.515) + 0.515\n",
    "rmse_linear2 = sqrt(mean_squared_error(predictions_linear2['predicted_denormalized'], predictions_linear2['grountruth_denormalized']))\n",
    "print(rmse_linear2)\n",
    "# RMSE: 10.267910905877935\n",
    "# Clearly, past temperature values matter a lot"
   ]
  },
  {
   "cell_type": "code",
   "execution_count": 33,
   "metadata": {},
   "outputs": [
    {
     "name": "stdout",
     "output_type": "stream",
     "text": [
      "3.227148804096484\n"
     ]
    }
   ],
   "source": [
    "# Get the accuracy for RF\n",
    "predictions_rf = pd.DataFrame(predicted_rf)\n",
    "predictions_rf.columns = ['predicted_values']\n",
    "predictions_rf['ground_truth'] = list(data_charlotte_test2['temp_after_4hr'])\n",
    "predictions_rf['predicted_denormalized'] = predictions_rf['predicted_values']*(99.95 - 0.515) + 0.515\n",
    "predictions_rf['grountruth_denormalized'] = predictions_rf['ground_truth']*(99.95 - 0.515) + 0.515\n",
    "rmse_rf = sqrt(mean_squared_error(predictions_rf['predicted_denormalized'], predictions_rf['grountruth_denormalized']))\n",
    "print(rmse_rf)\n",
    "# RMSE: 3.227148804096484"
   ]
  },
  {
   "cell_type": "code",
   "execution_count": 35,
   "metadata": {},
   "outputs": [
    {
     "name": "stdout",
     "output_type": "stream",
     "text": [
      "Feature ranking:\n",
      "1. feature 7 (0.256656)\n",
      "2. feature 2 (0.195263)\n",
      "3. feature 3 (0.149106)\n",
      "4. feature 6 (0.146357)\n",
      "5. feature 4 (0.100467)\n",
      "6. feature 5 (0.087234)\n",
      "7. feature 1 (0.017680)\n",
      "8. feature 0 (0.013337)\n",
      "9. feature 23 (0.008720)\n",
      "10. feature 8 (0.004221)\n",
      "11. feature 21 (0.003036)\n",
      "12. feature 18 (0.002892)\n",
      "13. feature 11 (0.002890)\n",
      "14. feature 12 (0.002150)\n",
      "15. feature 17 (0.001894)\n",
      "16. feature 19 (0.001877)\n",
      "17. feature 16 (0.001692)\n",
      "18. feature 9 (0.001595)\n",
      "19. feature 22 (0.001165)\n",
      "20. feature 15 (0.000666)\n",
      "21. feature 20 (0.000574)\n",
      "22. feature 13 (0.000308)\n",
      "23. feature 14 (0.000190)\n",
      "24. feature 10 (0.000030)\n"
     ]
    },
    {
     "data": {
      "image/png": "[encoded data removed]",
      "text/plain": [
       "<matplotlib.figure.Figure at 0x13b17c59470>"
      ]
     },
     "metadata": {},
     "output_type": "display_data"
    }
   ],
   "source": [
    "# Get a sense of feature importance\n",
    "importances = rf_model.feature_importances_\n",
    "std = np.std([tree.feature_importances_ for tree in rf_model.estimators_],\n",
    "             axis=0)\n",
    "indices = np.argsort(importances)[::-1]\n",
    "\n",
    "# Print the feature ranking\n",
    "print(\"Feature ranking:\")\n",
    "\n",
    "for f in range(X.shape[1]):\n",
    "    print(\"%d. feature %d (%f)\" % (f + 1, indices[f], importances[indices[f]]))\n",
    "\n",
    "# Plot the feature importances of the forest\n",
    "plt.figure()\n",
    "plt.title(\"Feature importances\")\n",
    "plt.bar(range(X.shape[1]), importances[indices],\n",
    "       color=\"r\", yerr=std[indices], align=\"center\")\n",
    "plt.xticks(range(X.shape[1]), indices)\n",
    "plt.xlim([-1, X.shape[1]])\n",
    "plt.show()"
   ]
  },
  {
   "cell_type": "markdown",
   "metadata": {},
   "source": [
    "# RNNs"
   ]
  },
  {
   "cell_type": "code",
   "execution_count": null,
   "metadata": {},
   "outputs": [],
   "source": [
    "# Read in the data\n",
    "full_df = pd.read_csv(\"df_weather_scaled_encoded.csv\")"
   ]
  },
  {
   "cell_type": "code",
   "execution_count": null,
   "metadata": {},
   "outputs": [],
   "source": [
    "# Filter by the city of interest\n",
    "current_city = \"Charlotte\"\n",
    "\n",
    "full_df = full_df[full_df[\"city\"] == current_city]\n",
    "\n",
    "# Store max and min temperatures for denormalization\n",
    "min_dataset = 0.515\n",
    "max_dataset = 99.95"
   ]
  },
  {
   "cell_type": "code",
   "execution_count": null,
   "metadata": {},
   "outputs": [],
   "source": [
    "# Extract\n",
    "years = np.array([y[0:4] for y in full_df.datetime])\n",
    "\n",
    "# Split into train, test, validation\n",
    "train = full_df[years < '2016']\n",
    "valid = full_df[years == '2016']\n",
    "test = full_df[years > '2016']\n",
    "\n",
    "if(train.shape[0] + valid.shape[0] + test.shape[0] != years.shape[0]):\n",
    "    raise Exception(\"Partition did not work\")\n",
    "    \n",
    "# Drop the city and timestamp for all three\n",
    "train.drop([\"city\", \"datetime\"], inplace=True, axis=1)\n",
    "valid.drop([\"city\", \"datetime\"], inplace=True, axis=1)\n",
    "test.drop([\"city\", \"datetime\"], inplace=True, axis=1)"
   ]
  },
  {
   "cell_type": "code",
   "execution_count": null,
   "metadata": {},
   "outputs": [],
   "source": [
    "\n",
    "# Wrapper for data object\n",
    "# Modified from Mohammad al Boni\n",
    "\n",
    "class DataSet(object):\n",
    "    def __init__(self, x, y, shuffle=True):\n",
    "        self._num_examples = len(x)\n",
    "        self._x = x\n",
    "        self._y = y\n",
    "        self._epochs_done = 0\n",
    "        self._index_in_epoch = 0\n",
    "        if shuffle:\n",
    "            np.random.seed(123456)\n",
    "            # Shuffle the data\n",
    "            perm = np.arange(self._num_examples)\n",
    "            np.random.shuffle(perm)\n",
    "            self._x = [self._x[i] for i in perm]\n",
    "            self._y = [self._y[i] for i in perm]\n",
    "        random.seed(123456)\n",
    "    @property\n",
    "    def features(self):\n",
    "        return self._x\n",
    "    @property\n",
    "    def response(self):\n",
    "        return self._y\n",
    "    @property\n",
    "    def num_examples(self):\n",
    "        return self._num_examples\n",
    "    @property\n",
    "    def epochs_done(self):\n",
    "        return self._epochs_done\n",
    "\n",
    "    def reset_batch_index(self):\n",
    "        self._index_in_epoch = 0\n",
    "    \n",
    "    def next_batch(self, batch_size):\n",
    "        \"\"\"Return the next `batch_size` examples from this data set.\"\"\"\n",
    "        start = self._index_in_epoch\n",
    "        self._index_in_epoch += batch_size\n",
    "        done = False\n",
    "\n",
    "        if self._index_in_epoch > self._num_examples:\n",
    "            # After each epoch we update this\n",
    "            self._epochs_done += 1\n",
    "            # Shuffle the data\n",
    "            perm = np.arange(self._num_examples)\n",
    "            np.random.shuffle(perm)\n",
    "            self._x = self._x\n",
    "            self._y = self._y \n",
    "            start = 0\n",
    "            self._index_in_epoch = batch_size\n",
    "            done = True\n",
    "            assert batch_size <= self._num_examples\n",
    "        end = self._index_in_epoch\n",
    "    \n",
    "        return self._x[start:end], self._y[start:end], done"
   ]
  },
  {
   "cell_type": "markdown",
   "metadata": {},
   "source": [
    "## Create observations using a sliding sequence window"
   ]
  },
  {
   "cell_type": "code",
   "execution_count": null,
   "metadata": {},
   "outputs": [],
   "source": [
    "# Wrapper function to perform the entire creation of observations given the subset\n",
    "# data. Can specify sequence_size, lookahead, response (temp means 'temperature'),\n",
    "# and whether you want a greedy baseline.\n",
    "def create_observations(train, test, valid, seq_size = 24, lookahead = 1, temp = True, baseline=False):\n",
    "\n",
    "    train_x = [] \n",
    "    train_y = []\n",
    "    # If we are doing the temperature variable, extract that feature\n",
    "    if temp: \n",
    "        for i in range(train.shape[0] - seq_len - lookahead + 1):\n",
    "            # Slide over input, storing each \"sequence size\" window\n",
    "            train_x.append([x for x in train.iloc[i:i+seq_len, :].values])\n",
    "            train_y.append([y for y in train.iloc[i+lookahead:i+seq_len+lookahead, 0]])\n",
    "    # Otherwise, extract out the weather type\n",
    "    else:\n",
    "        for i in range(train.shape[0] - seq_len  - lookahead + 1):\n",
    "            train_x.append([x for x in train.iloc[i:i+seq_len, :].values])\n",
    "            train_y.append([y for y in train.iloc[i+lookahead:i+seq_len+lookahead, -7:].values])\n",
    "    \n",
    "    # Convert to a Dataset object\n",
    "    train_data = DataSet(train_x, train_y)\n",
    "    \n",
    "    # Repeat the above process on the validation set\n",
    "    valid_x = [] \n",
    "    valid_y = []\n",
    "    \n",
    "    # If we are doing the temperature variable, extract that feature\n",
    "    if temp: \n",
    "        for i in range(valid.shape[0] - seq_len - lookahead + 1):\n",
    "            # Slide over input, storing each \"sequence size\" window\n",
    "            valid_x.append([x for x in valid.iloc[i:i+seq_len, :].values])\n",
    "            valid_y.append([y for y in valid.iloc[i+lookahead:i+seq_len+lookahead, 0]])\n",
    "    # Otherwise, extract out the weather type\n",
    "    else:\n",
    "        for i in range(valid.shape[0] - seq_len - lookahead + 1):\n",
    "            valid_x.append([x for x in valid.iloc[i:i+seq_len, :].values])\n",
    "            valid_y.append([y for y in valid.iloc[i+lookahead:i+seq_len+lookahead, -7:].values])\n",
    "    \n",
    "    valid_data = DataSet(valid_x, valid_y)\n",
    "\n",
    "\n",
    "    # Repeat for test except also track the baseline prediction error\n",
    "    test_x = [] \n",
    "    test_y = []\n",
    "    test_baseline_err = []\n",
    "    \n",
    "    if temp:\n",
    "        for i in range(test.shape[0] - seq_len - lookahead + 1):\n",
    "            test_x.append([x for x in test.iloc[i:i+seq_len, :].values])\n",
    "            test_y.append([y for y in test.iloc[i+lookahead:i+seq_len+lookahead, 0]])\n",
    "            \n",
    "            # Get the baseline prediction error by taking the MSE between the current hour and the \n",
    "            # temperature of the next hour. This is the trivial case where our prediction for temp\n",
    "            # is just the current temp\n",
    "            if baseline:\n",
    "                test_baseline_err.append((np.mean(test.iloc[i:i+seq_len, 0]*(max_dataset-min_dataset)+min_dataset) - \n",
    "                                      (test.iloc[i+seq_len + lookahead - 1, 0]*(max_dataset-min_dataset)+min_dataset)) ** 2)\n",
    "        \n",
    "        if baseline:\n",
    "            print(\"Baseline error of: \" + str(np.mean(test_baseline_err)))\n",
    "        # Test baseline for seq 1: 29.66645546285467\n",
    "        # Test baseline for seq 2: 34.86351968736361\n",
    "        # Test baseline error for seq 24: 34.01255035338878\n",
    "        # Test baseline error for seq 72: 42.73780841606058  \n",
    "    else:\n",
    "        \n",
    "        for i in range(test.shape[0] - seq_len - lookahead + 1):\n",
    "            test_x.append([x for x in test.iloc[i:i+seq_len, :].values])\n",
    "            test_y.append([y for y in test.iloc[i+lookahead:i+seq_len+lookahead, -7:].values])\n",
    "            \n",
    "\n",
    "            if baseline:        \n",
    "                # Compare current weather type with the most common weather type over a period\n",
    "                \n",
    "                # Variable to hold most frequent weather type\n",
    "                x_obs = np.array([sum(x) for x in zip(*test.iloc[i:i+seq_len, -7:].values)])\n",
    "                \n",
    "                # Append equality of current prediction and true value to error list\n",
    "                test_baseline_err.append(np.argmax(x_obs) == np.argmax(test.iloc[i + seq_len + lookahead - 1, -7:].values))\n",
    "                \n",
    "                \n",
    "        if baseline:\n",
    "            print(\"Baseline error of: \" + str(np.mean(test_baseline_err)))\n",
    "\n",
    "        # Test baseline error of 0.595\n",
    "    \n",
    "    test_data = DataSet(test_x, test_y, shuffle=False)\n",
    "    \n",
    "    return train_data, valid_data, test_data"
   ]
  },
  {
   "cell_type": "markdown",
   "metadata": {},
   "source": [
    "## Model 1: Temperature Prediction"
   ]
  },
  {
   "cell_type": "code",
   "execution_count": null,
   "metadata": {},
   "outputs": [],
   "source": [
    "# Define the RNN model\n",
    "# Modified from Mohammad al Boni\n",
    "def build_and_save_d(modelDir,train,valid,cell,cellType,input_dim=1,hidden_dim=100,\n",
    "                          seq_size = 12,max_itr=200,keep_prob=0.5, batch_size=32, num_epochs=10, log=500,\n",
    "                            early_stopping=3, learning_rate=0.01):\n",
    "    tf.reset_default_graph()\n",
    "    graph = tf.Graph()\n",
    "    with graph.as_default():\n",
    "        # input place holders\n",
    "        # input Shape: [# training examples, sequence length, # features]\n",
    "        x = tf.placeholder(tf.float32,[None,seq_size,input_dim],name=\"x_in\")\n",
    "        # label Shape: [# training examples, sequence length]\n",
    "        y = tf.placeholder(tf.float32,[None,seq_size],name=\"y_in\")\n",
    "        dropout = tf.placeholder(tf.float32,name=\"dropout_in\")\n",
    "        \n",
    "        # Function to wrap each cell with dropout\n",
    "        def wrap_cell(cell, keep_prob):\n",
    "            drop = tf.nn.rnn_cell.DropoutWrapper(cell, output_keep_prob=keep_prob)\n",
    "            return drop\n",
    "        \n",
    "        cells = tf.nn.rnn_cell.MultiRNNCell(\n",
    "                 [wrap_cell(cell,keep_prob) for cell in cell]\n",
    "         )\n",
    "\n",
    "        # cell = tf.nn.rnn_cell.DropoutWrapper(cell)\n",
    "        # RNN output Shape: [# training examples, sequence length, # hidden] \n",
    "        outputs, _ = tf.nn.dynamic_rnn(cells,x,dtype=tf.float32)\n",
    "        \n",
    "        \n",
    "        # weights for output dense layer (i.e., after RNN)\n",
    "        # W shape: [# hidden, 1]\n",
    "        W_out = tf.Variable(tf.random_normal([hidden_dim,1]),name=\"w_out\") \n",
    "        # b shape: [1]\n",
    "        b_out = tf.Variable(tf.random_normal([1]),name=\"b_out\")\n",
    "    \n",
    "        # output dense layer:\n",
    "        num_examples = tf.shape(x)[0] \n",
    "        # convert W from [# hidden, 1] to [# training examples, # hidden, 1]\n",
    "        # step 1: add a new dimension at index 0 using tf.expand_dims\n",
    "        w_exp= tf.expand_dims(W_out,0)\n",
    "        # step 2: duplicate W for 'num_examples' times using tf.tile\n",
    "        W_repeated = tf.tile(w_exp,[num_examples,1,1])\n",
    "        \n",
    "        # Dense Layer calculation: \n",
    "        # [# training examples, sequence length, # hidden] *\n",
    "        # [# training examples, # hidden, 1] = [# training examples, sequence length]\n",
    "        \n",
    "        y_pred = tf.matmul(outputs,W_repeated)+b_out\n",
    "        # Actually, y_pred: [# training examples, sequence length, 1]\n",
    "        # Remove last dimension using tf.squeeze\n",
    "        y_pred = tf.squeeze(y_pred,name=\"y_pred\")\n",
    "        \n",
    "        # Cost & Training Step\n",
    "        cost = tf.reduce_mean(tf.square(y_pred-y))\n",
    "        train_op = tf.train.AdamOptimizer(learning_rate=learning_rate).minimize(cost)\n",
    "        saver=tf.train.Saver()\n",
    "        \n",
    "        \n",
    "        \n",
    "        # Run Session\n",
    "    with tf.Session(graph=graph) as sess:\n",
    "        # initialize variables\n",
    "        sess.run(tf.global_variables_initializer())\n",
    "        # Run for 1000 iterations (1000 is arbitrary, need a validation set to tune!)\n",
    "        start=timeit.default_timer()\n",
    "        epoch_counter = 0 # Keep track of our epochs\n",
    "        i = 0 # Keep track of our iterations\n",
    "        min_validation_err = sys.float_info.max # Start min error at biggest number\n",
    "        min_validation_itr = 0 # Keep track of the smallest validation error we have seen so far\n",
    "        early_stopping_counter = 0 # Counter to see if we have acheived early stopping\n",
    "        min_denorm_err = None\n",
    "        print('Training %s ...'%cellType)\n",
    "        while True: # If we train more, would we overfit? Try 10000\n",
    "            i += 1 # Increment counter\n",
    "            trainX, trainY, done = train.next_batch(batch_size) # Get train batch\n",
    "            # See if we are done with our epochs\n",
    "            if done:\n",
    "                epoch_counter += 1\n",
    "                print(\"Done with epoch \" + str(epoch_counter))\n",
    "                if epoch_counter >= num_epochs:\n",
    "                    break\n",
    "            \n",
    "            # Pass the data through the network\n",
    "            _, train_err = sess.run([train_op,cost],feed_dict={x:trainX,y:trainY,dropout:keep_prob})\n",
    "            if i==0:\n",
    "                print('  step, train err= %6d: %8.5f' % (0,train_err))\n",
    "            # Every 'log' steps, print out train error and validation error.\n",
    "            # Update early stopping at these points\n",
    "            elif  (i+1) % log == 0: \n",
    "                print('  step, train err= %6d: %8.5f' % (i+1,train_err)) \n",
    "                \n",
    "                # Get validation error on the full validation set\n",
    "                valid_err, predicted_vals_rnn = sess.run([cost, y_pred],feed_dict={x:valid.features,y:valid.response,dropout:1})\n",
    "                \n",
    "                # Compute denormalized MSE\n",
    "                # step 1: denormalize data\n",
    "                # If seq_len greater than 1, get only the last element\n",
    "                if seq_size > 1:\n",
    "                    predicted_vals_rnn = predicted_vals_rnn[:,seq_size-1]\n",
    "                predicted_vals_dnorm_rnn=predicted_vals_rnn*(max_dataset-min_dataset)+min_dataset\n",
    "                # step 2: get ground-truth, also must be denormalized\n",
    "                actual_test= np.array([x[-1] for x in valid.response])*(max_dataset-min_dataset)+min_dataset\n",
    "                # step 3: compute MSE\n",
    "                mse_rnn= ((predicted_vals_dnorm_rnn - actual_test) ** 2).mean()\n",
    "                print('  step, validation err= %6d: %8.5f' % (i+1,valid_err)) \n",
    "                print('  step, denorm validation err= %6d: %8.5f' % (i+1,mse_rnn)) \n",
    "                \n",
    "                # Check early stopping\n",
    "                early_stopping_counter += 1\n",
    "                # If we have smaller validation error, reset counter and\n",
    "                # assign new smallest validation error. Also store the\n",
    "                # current iterqtion as the iteration where the current min is\n",
    "                if valid_err < min_validation_err:\n",
    "                    min_validation_err = valid_err\n",
    "                    min_validation_itr = i + 1\n",
    "                    early_stopping_counter = 0\n",
    "                    min_denorm_err = mse_rnn\n",
    "                    \n",
    "                    # Store the current best model\n",
    "                    modelPath= saver.save(sess,\"%s/model_%s\"%(modelDir,cellType),global_step=i+1)\n",
    "                    print(\"model saved:%s\"%modelPath) \n",
    "                \n",
    "                # Break if we achieve early stopping\n",
    "                if early_stopping_counter > early_stopping:\n",
    "                    break\n",
    "                   \n",
    "        end=timeit.default_timer()        \n",
    "        print(\"Training time : %10.5f\"%(end-start))\n",
    "        \n",
    "        # Log the results to a file\n",
    "        with open(modelDir + \"/results.txt\", 'a+') as file:\n",
    "            file.write(cellType + \"\\n\")\n",
    "            file.write(\"Time taken: \" + str(end - start) + \"\\n\")\n",
    "            file.write(\"Itr stopped: \" + str(min_validation_itr) + \"\\n\")\n",
    "            file.write(\"Min validation error: \" + str(min_validation_err) + \"\\n\")\n",
    "            file.write(\"Denormalized validation error: \" + str(min_denorm_err) + \"\\n\\n\")\n",
    "            \n",
    "       \n",
    "    return min_validation_itr, min_validation_err\n",
    "\n",
    "# Load back in a model and create predicted values\n",
    "def load_and_predict(test,modelDir,cellType,itr,seq_size):\n",
    "    # Restore the session\n",
    "    with tf.Session() as sess:\n",
    "        print (\"Load model:%s-%s\"%(modelDir,itr))\n",
    "        saver = tf.train.import_meta_graph(\"%s/model_%s-%s.meta\"%(modelDir,cellType,itr))\n",
    "        saver.restore(sess,tf.train.latest_checkpoint(\"%s\"%modelDir))\n",
    "        graph = tf.get_default_graph()\n",
    "        # print all nodes in saved graph \n",
    "        #print([n.name for n in tf.get_default_graph().as_graph_def().node])\n",
    "        # get tensors by name to use in prediction\n",
    "        x = graph.get_tensor_by_name(\"x_in:0\")\n",
    "        dropout= graph.get_tensor_by_name(\"dropout_in:0\")\n",
    "        y_pred = graph.get_tensor_by_name(\"y_pred:0\")\n",
    "        \n",
    "        # Feed entire test set to get predictions\n",
    "        predicted_vals_all= sess.run(y_pred, feed_dict={ x: test.features, dropout:1})\n",
    "        # Get last item in each predicted sequence:\n",
    "        predicted_vals = predicted_vals_all[:,seq_size-1]\n",
    "    return predicted_vals"
   ]
  },
  {
   "cell_type": "code",
   "execution_count": null,
   "metadata": {},
   "outputs": [],
   "source": [
    "# Function to predict and plot the test set\n",
    "def predict(test_data, modelDir, cellType, end_itr, seq_len):\n",
    "    # Load and predict\n",
    "    predicted_vals_rnn=load_and_predict(test_data,modelDir,cellType,end_itr,seq_len)\n",
    "    \n",
    "    # Compute MSE\n",
    "    # step 1: denormalize data\n",
    "    predicted_vals_dnorm_rnn=predicted_vals_rnn*(max_dataset-min_dataset)+min_dataset\n",
    "    # step 2: get ground-truth, also must be denormalized\n",
    "    actual_test= np.array([x[-1] for x in test_data.response])*(max_dataset-min_dataset)+min_dataset\n",
    "    # step 3: compute MSE\n",
    "    mse_rnn= ((predicted_vals_dnorm_rnn - actual_test) ** 2).mean()\n",
    "     \n",
    "    print(\"RNN MSE = %10.5f\"%mse_rnn)\n",
    "    \n",
    "    pred_len=len(predicted_vals_dnorm_rnn)\n",
    "    train_len=len(test_data.features)\n",
    "    \n",
    "    pred_avg = []\n",
    "    actual_avg = []\n",
    "    # Compute the moving average of each set for visual purposes\n",
    "    moving_length = 24\n",
    "    for i in range(len(actual_test) - moving_length):\n",
    "        pred_avg.append(np.mean(predicted_vals_dnorm_rnn[i:i+moving_length]))\n",
    "        actual_avg.append(np.mean(actual_test[i:i+moving_length]))\n",
    "    \n",
    "    # Plot the results\n",
    "    plt.figure()\n",
    "    plt.plot(list(range(len(actual_test))), actual_test, label=\"Actual\", color='r', alpha=1)\n",
    "    plt.plot(list(range(len(actual_test))), predicted_vals_dnorm_rnn, color='b',  label=cellType, alpha=0.6)\n",
    "#    plt.plot(list(range(int(moving_length/2), len(actual_test)-int(moving_length/2))), pred_avg, color='y', label=\"{0} MA\".format(cellType), alpha=0.7)\n",
    "#    plt.plot(list(range(int(moving_length/2), len(actual_test)-int(moving_length/2))), actual_avg, color='b', label=\"Actual MA\", alpha=0.7)\n",
    "    plt.title(\"Cell Type: \" + cellType + \", Sequence Length \" + str(seq_len))\n",
    "    plt.legend()\n",
    "    plt.savefig(\"{0}{1}.png\".format(cellType, seq_len))"
   ]
  },
  {
   "cell_type": "code",
   "execution_count": null,
   "metadata": {},
   "outputs": [],
   "source": [
    "# Define size of sequence\n",
    "seq_len = 2\n",
    "\n",
    "# Create the data\n",
    "train_data,valid_data,test_data = create_observations(train, valid, test, seq_size=seq_len, temp=True, lookahead=4, baseline=False)"
   ]
  },
  {
   "cell_type": "markdown",
   "metadata": {},
   "source": [
    "### Crude grid search results"
   ]
  },
  {
   "cell_type": "code",
   "execution_count": null,
   "metadata": {},
   "outputs": [],
   "source": [
    "\"\"\"\n",
    "# Perform a crude grid search\n",
    "from itertools import product\n",
    "# Define learning rates, dropout\n",
    "params = [[0.1, 0.01, 0.001], [0.25, 0.5, 0.75]]\n",
    "# Iterate over all combinations and test model\n",
    "# with those parameters, storing the min\n",
    "min_param_val = sys.float_info.max\n",
    "min_param_elems = None\n",
    "for elem in product(*params):\n",
    "    # Unpack the values\n",
    "    learning_rate, keep_prob = elem\n",
    "    RNNcell = [rnn.BasicLSTMCell(hidden_dim) for _ in range(n_layers)]\n",
    "    cellType = \"LSTM\"\n",
    "    \n",
    "    # Build models and save model\n",
    "    end_itr, min_err = build_and_save_d(modelDir=modelDir,\n",
    "                     train=train_data,\n",
    "                     valid=valid_data,\n",
    "                     cell=RNNcell,\n",
    "                     cellType=cellType,\n",
    "                     input_dim=input_dim,=\n",
    "                     hidden_dim=hidden_dim,\n",
    "                     seq_size=seq_len,\n",
    "                     keep_prob=keep_prob,\n",
    "                     batch_size=batch_size,\n",
    "                     num_epochs=num_epochs,\n",
    "                     log=log,\n",
    "                     early_stopping=early_stopping,\n",
    "                     learning_rate=learning_rate)\n",
    "    # See if we have a new low error\n",
    "    if min_err < min_param_val:\n",
    "        min_param_val = min_err\n",
    "        min_param_elems = elem\n",
    "    print(\"Min validation error \" + str(min_err) + \" for elems \" + str(elem))\n",
    "\n",
    "print(\"Global validation error \" + str(min_param_val) + \" for elems \" + str(min_param_elems))\n",
    "\"\"\"\n",
    "\n",
    "# Grid search on learning rate and dropout\n",
    "\n",
    "# RNN\n",
    "\n",
    "#Min validation error 0.015986204 for elems (0.1, 0.25)\n",
    "#Min validation error 0.015794938 for elems (0.1, 0.5)\n",
    "#Min validation error 0.015503254 for elems (0.1, 0.75)\n",
    "#Min validation error 0.012949656 for elems (0.01, 0.25)\n",
    "#Min validation error 0.006430081 for elems (0.01, 0.5)\n",
    "#Min validation error 0.0046402193 for elems (0.01, 0.75)\n",
    "#Min validation error 0.029264465 for elems (0.001, 0.25)\n",
    "#Min validation error 0.012221504 for elems (0.001, 0.5)\n",
    "#Min validation error 0.008622245 for elems (0.001, 0.75)\n",
    "#Global validation error 0.0046402193 for elems (0.01, 0.75)\n",
    "\n",
    "# GRU\n",
    "\n",
    "#Min validation error 0.0111637125 for elems (0.1, 0.25)\n",
    "#Min validation error 0.012049832 for elems (0.1, 0.5)\n",
    "#Min validation error 0.017291395 for elems (0.1, 0.75)\n",
    "#Min validation error 0.0037756523 for elems (0.01, 0.25)\n",
    "#Min validation error 0.002122913 for elems (0.01, 0.5)\n",
    "#Min validation error 0.0032095483 for elems (0.01, 0.75)\n",
    "#Min validation error 0.00797302 for elems (0.001, 0.25)\n",
    "#Min validation error 0.008556419 for elems (0.001, 0.5)\n",
    "#Min validation error 0.0030354045 for elems (0.001, 0.75)\n",
    "#Global validation error 0.002122913 for elems (0.01, 0.5)\n",
    "\n",
    "# LSTM\n",
    "\n",
    "#Min validation error 0.0039516427 for elems (0.1, 0.25)\n",
    "#Min validation error 0.016133798 for elems (0.1, 0.5)\n",
    "#Min validation error 0.008657359 for elems (0.1, 0.75)\n",
    "#Min validation error 0.0010539122 for elems (0.01, 0.25)\n",
    "#Min validation error 0.0023624634 for elems (0.01, 0.5)\n",
    "#Min validation error 0.002788953 for elems (0.01, 0.75)\n",
    "#Min validation error 0.002642741 for elems (0.001, 0.25)\n",
    "#Min validation error 0.0013699796 for elems (0.001, 0.5)\n",
    "#Min validation error 0.0020976907 for elems (0.001, 0.75)\n",
    "#Global validation error 0.0010539122 for elems (0.01, 0.25)\n",
    "\n",
    "# Seems pretty close overall, choose 0.01 and dropout 0.5"
   ]
  },
  {
   "cell_type": "markdown",
   "metadata": {},
   "source": [
    "### Run the model"
   ]
  },
  {
   "cell_type": "code",
   "execution_count": null,
   "metadata": {},
   "outputs": [],
   "source": [
    "input_dim=19 # dim > 1 for multivariate time series\n",
    "hidden_dim=100 # number of hiddent units h\n",
    "keep_prob=0.5\n",
    "modelDir='modelDir'\n",
    "log=500 # How often we validate\n",
    "batch_size=16\n",
    "num_epochs=15 # MAXIMUM number of epochs (i.e if early stopping is never achieved)\n",
    "early_stopping = 5 # Number of validation steps without improvement until we stop\n",
    "learning_rate = 0.01\n",
    "n_layers = 2\n",
    "\n",
    "# NEED TO MAKE DIFFERENT COPIES OF THE CELL TO AVOID SELF-REFENTIAL ERRORS\n",
    "# RNNcell = [rnn.BasicRNNCell(hidden_dim) for _ in range(1)]\n",
    "# cellType = \"RNN\"\n",
    "\n",
    "RNNcell = [rnn.BasicRNNCell(hidden_dim) for _ in range(n_layers)]\n",
    "cellType = \"RNN\"\n",
    "\n",
    "# Build models and save model\n",
    "end_itr, min_err = build_and_save_d(modelDir=modelDir,\n",
    "                 train=train_data,\n",
    "                 valid=valid_data,\n",
    "                 cell=RNNcell,\n",
    "                 cellType=cellType,\n",
    "                 input_dim=input_dim,\n",
    "                 hidden_dim=hidden_dim,\n",
    "                 seq_size=seq_len,\n",
    "                 keep_prob=keep_prob,\n",
    "                 batch_size=batch_size,\n",
    "                 num_epochs=num_epochs,\n",
    "                 log=log,\n",
    "                 early_stopping=early_stopping,\n",
    "                 learning_rate=learning_rate)\n",
    "\n",
    "predict(test_data, modelDir, cellType, end_itr, seq_len)\n",
    "\n",
    "RNNcell = [rnn.GRUCell(hidden_dim) for _ in range(n_layers)]\n",
    "cellType = \"GRU\"\n",
    "\n",
    "# Build models and save model\n",
    "end_itr, min_err = build_and_save_d(modelDir=modelDir,\n",
    "                 train=train_data,\n",
    "                 valid=valid_data,\n",
    "                 cell=RNNcell,\n",
    "                 cellType=cellType,\n",
    "                 input_dim=input_dim,\n",
    "                 hidden_dim=hidden_dim,\n",
    "                 seq_size=seq_len,\n",
    "                 keep_prob=keep_prob,\n",
    "                 batch_size=batch_size,\n",
    "                 num_epochs=num_epochs,\n",
    "                 log=log,\n",
    "                 early_stopping=early_stopping,\n",
    "                 learning_rate=learning_rate)\n",
    "\n",
    "predict(test_data, modelDir, cellType, end_itr, seq_len)\n",
    "\n",
    "RNNcell = [rnn.BasicLSTMCell(hidden_dim) for _ in range(n_layers)]\n",
    "cellType = \"LSTM\"\n",
    "\n",
    "# Build models and save model\n",
    "end_itr, min_err = build_and_save_d(modelDir=modelDir,\n",
    "                 train=train_data,\n",
    "                 valid=valid_data,\n",
    "                 cell=RNNcell,\n",
    "                 cellType=cellType,\n",
    "                 input_dim=input_dim,\n",
    "                 hidden_dim=hidden_dim,\n",
    "                 seq_size=seq_len,\n",
    "                 keep_prob=keep_prob,\n",
    "                 batch_size=batch_size,\n",
    "                 num_epochs=num_epochs,\n",
    "                 log=log,\n",
    "                 early_stopping=early_stopping,\n",
    "                 learning_rate=learning_rate)\n",
    "\n",
    "\n",
    "predict(test_data, modelDir, cellType, end_itr, seq_len)"
   ]
  },
  {
   "cell_type": "markdown",
   "metadata": {},
   "source": [
    "### Results"
   ]
  },
  {
   "cell_type": "raw",
   "metadata": {},
   "source": [
    "Seq Len: 2\n",
    "\n",
    "RNN\n",
    "Time taken: 25.785779288000413\n",
    "Itr stopped: 8500\n",
    "Min validation error: 0.0031018716\n",
    "Denormalized validation error: 31.769728957977332\n",
    "\n",
    "GRU\n",
    "Time taken: 41.09399954499895\n",
    "Itr stopped: 8500\n",
    "Min validation error: 0.0026672964\n",
    "Denormalized validation error: 26.344573167959652\n",
    "\n",
    "LSTM\n",
    "Time taken: 69.01221254200027\n",
    "Itr stopped: 17500\n",
    "Min validation error: 0.002471932\n",
    "Denormalized validation error: 21.351730504118457\n",
    "\n",
    "Seq Len: 24\n",
    "\n",
    "RNN\n",
    "Time taken: 246.51083700100025\n",
    "Itr stopped: 17500\n",
    "Min validation error: 0.001986726\n",
    "Denormalized validation error: 18.504949918661264\n",
    "\n",
    "GRU\n",
    "Time taken: 487.5709146240006\n",
    "Itr stopped: 18000\n",
    "Min validation error: 0.001339163\n",
    "Denormalized validation error: 10.45840469361726\n",
    "\n",
    "LSTM\n",
    "Time taken: 432.73047026600034\n",
    "Itr stopped: 18500\n",
    "Min validation error: 0.0013122336\n",
    "Denormalized validation error: 9.057215740626543\n",
    "\n",
    "Seq Len: 72\n",
    "\n",
    "RNN\n",
    "Time taken: 723.7870445440003\n",
    "Itr stopped: 19000\n",
    "Min validation error: 0.0012962609\n",
    "Denormalized validation error: 10.682260107741136\n",
    "\n",
    "GRU\n",
    "Time taken: 1246.9418031219993\n",
    "Itr stopped: 15500\n",
    "Min validation error: 0.0010465818\n",
    "Denormalized validation error: 8.61281120826994\n",
    "\n",
    "LSTM\n",
    "Time taken: 1108.5033689619995\n",
    "Itr stopped: 13500\n",
    "Min validation error: 0.0009968199\n",
    "Denormalized validation error: 7.759870622882436\n",
    "\n",
    "Seq Len: 96\n",
    "\n",
    "RNN\n",
    "Time taken: 907.123842844001\n",
    "Itr stopped: 15000\n",
    "Min validation error: 0.0010954492\n",
    "Denormalized validation error: 8.885591086046022\n",
    "\n",
    "GRU\n",
    "Time taken: 1511.5696144740032\n",
    "Itr stopped: 13000\n",
    "Min validation error: 0.001024862\n",
    "Denormalized validation error: 8.57339568785667\n",
    "\n",
    "LSTM\n",
    "Time taken: 1151.6507261309998\n",
    "Itr stopped: 11000\n",
    "Min validation error: 0.00092091894\n",
    "Denormalized validation error: 7.558516922265615\n"
   ]
  },
  {
   "cell_type": "markdown",
   "metadata": {},
   "source": [
    "## Model 2: Weather Type Prediction"
   ]
  },
  {
   "cell_type": "code",
   "execution_count": null,
   "metadata": {},
   "outputs": [],
   "source": [
    "# Define the second kind of RNN\n",
    "# Modified from Mohammad al Boni\n",
    "def build_and_save_d2(modelDir,train,valid,cell,cellType,input_dim=1,hidden_dim=100,\n",
    "                          seq_size = 12,max_itr=200,keep_prob=0.5, batch_size=32, num_epochs=10,log=500,save=1000):\n",
    "    tf.reset_default_graph()\n",
    "    graph = tf.Graph()\n",
    "    with graph.as_default():\n",
    "        # input place holders, note the change in dimensions in y, which \n",
    "        # now has 7 dimensions\n",
    "        \n",
    "        # input Shape: [# training examples, sequence length, # features]\n",
    "        x = tf.placeholder(tf.float32,[None,seq_size,input_dim],name=\"x_in\")\n",
    "        # label Shape: [# training examples, sequence length, # classes]\n",
    "        y = tf.placeholder(tf.float32,[None,seq_size,7],name=\"y_in\")\n",
    "        dropout = tf.placeholder(tf.float32,name=\"dropout_in\")\n",
    "        \n",
    "        # Function to wrap each cell with dropout\n",
    "        def wrap_cell(cell, keep_prob):\n",
    "            drop = tf.nn.rnn_cell.DropoutWrapper(cell, output_keep_prob=keep_prob)\n",
    "            return drop\n",
    "        \n",
    "        cells = tf.nn.rnn_cell.MultiRNNCell(\n",
    "                 [wrap_cell(cell,keep_prob) for cell in cell]\n",
    "         )\n",
    "        \n",
    "        # RNN output Shape: [# training examples, sequence length, # hidden] \n",
    "        outputs, _ = tf.nn.dynamic_rnn(cells,x,dtype=tf.float32)\n",
    "        \n",
    "        \n",
    "        # weights for output dense layer (i.e., after RNN)\n",
    "        # W shape: [# hidden, 7]\n",
    "        W_out = tf.Variable(tf.random_normal([hidden_dim,7]),name=\"w_out\") \n",
    "        # b shape: [7]\n",
    "        b_out = tf.Variable(tf.random_normal([7]),name=\"b_out\")\n",
    "    \n",
    "        # output dense layer:\n",
    "        num_examples = tf.shape(x)[0] \n",
    "        # convert W from [# hidden, 7] to [# training examples, # hidden, 7]\n",
    "        # step 1: add a new dimension at index 0 using tf.expand_dims\n",
    "        w_exp= tf.expand_dims(W_out,0)\n",
    "        # step 2: duplicate W for 'num_examples' times using tf.tile\n",
    "        W_repeated = tf.tile(w_exp,[num_examples,1,1])\n",
    "        \n",
    "        # Dense Layer calculation: \n",
    "        # [# training examples, sequence length, # hidden] *\n",
    "        # [# training examples, # hidden, 7] = [# training examples, sequence length, 7]\n",
    "        \n",
    "        y_pred = tf.matmul(outputs,W_repeated) + b_out\n",
    "        y_pred = tf.add(y_pred, b_out, name=\"y_out\")\n",
    "        \n",
    "        # Cost & Training Step\n",
    "        # Minimize error with softmax cross entropy\n",
    "        cost = tf.reduce_mean(tf.nn.softmax_cross_entropy_with_logitsv2(logits=y_pred, labels=y))\n",
    "        train_op = tf.train.AdamOptimizer(learning_rate=0.01).minimize(cost)\n",
    "        saver=tf.train.Saver()\n",
    "        \n",
    "        # Run Session\n",
    "        with tf.Session(graph=graph) as sess:\n",
    "            # initialize variables\n",
    "            sess.run(tf.global_variables_initializer())\n",
    "            # Run for 1000 iterations (1000 is arbitrary, need a validation set to tune!)\n",
    "            start=timeit.default_timer()\n",
    "            epoch_counter = 0 # Keep track of our epochs\n",
    "            i = 0 # Keep track of our iterations\n",
    "            min_validation_err = sys.float_info.max # Start min error at biggest number\n",
    "            min_validation_itr = 0 # Keep track of the smallest validation error we have seen so far\n",
    "            early_stopping_counter = 0 # Counter to see if we have acheived early stopping\n",
    "            min_accuracy=None\n",
    "            print('Training %s ...'%cellType)\n",
    "            while True: # If we train more, would we overfit? Try 10000\n",
    "                i += 1 # Increment counter\n",
    "                trainX, trainY, done = train.next_batch(batch_size) # Get train batch\n",
    "                # See if we are done with our epochs\n",
    "                if done:\n",
    "                    epoch_counter += 1\n",
    "                    print(\"Done with epoch \" + str(epoch_counter))\n",
    "                    if epoch_counter >= num_epochs:\n",
    "                        break\n",
    "                \n",
    "                # Pass the data through the network\n",
    "                _, train_err = sess.run([train_op,cost],feed_dict={x:trainX,y:trainY,dropout:keep_prob})\n",
    "                if i==0:\n",
    "                    print('  step, train err= %6d: %8.5f' % (0,train_err))\n",
    "                # Every 'log' steps, print out train error and validation error.\n",
    "                # Update early stopping at these points\n",
    "                elif  (i+1) % log == 0: \n",
    "                    print('  step, train err= %6d: %8.5f' % (i+1,train_err)) \n",
    "                    \n",
    "                    # Get validation error on the full validation set\n",
    "                    valid_err, pred = sess.run([cost, y_pred],feed_dict={x:valid.features,y:valid.response,dropout:1})\n",
    "                    print('  step, validation err= %6d: %8.5f' % (i+1,valid_err))\n",
    "                    pred = pred[:,seq_size-1]\n",
    "                    actual_valid = np.array([x[-1] for x in valid.response])\n",
    "                    # Look at the distribution of the output\n",
    "                    amax = np.argmax(pred, axis=1)\n",
    "                    accuracy = sum(np.argmax(actual_valid, axis=1) == np.argmax(pred, axis=1))/len(pred)\n",
    "                    print(\"Accuracy of: \" + str(accuracy))\n",
    "                    \n",
    "                    # Check early stopping\n",
    "                    early_stopping_counter += 1\n",
    "                    # If we have smaller validation error, reset counter and\n",
    "                    # assign new smallest validation error. Also store the\n",
    "                    # current iterqtion as the iteration where the current min is\n",
    "                    if valid_err < min_validation_err:\n",
    "                        min_validation_err = valid_err\n",
    "                        min_validation_itr = i + 1\n",
    "                        early_stopping_counter = 0\n",
    "                        min_accuracy = accuracy\n",
    "                        # Store the current best model\n",
    "                        modelPath= saver.save(sess,\"%s/model_%s\"%(modelDir,cellType),global_step=i+1)\n",
    "                        print(\"model saved:%s\"%modelPath) \n",
    "                    \n",
    "                    # Break if we achieve early stopping\n",
    "                    if early_stopping_counter > early_stopping:\n",
    "                        break\n",
    "       \n",
    "            end=timeit.default_timer()        \n",
    "            print(\"Training time : %10.5f\"%(end-start))\n",
    "            \n",
    "            # Log the results to a file\n",
    "            with open(modelDir + \"/results.txt\", 'a+') as file:\n",
    "                file.write(cellType + \"\\n\")\n",
    "                file.write(\"Time taken: \" + str(end - start) + \"\\n\")\n",
    "                file.write(\"Itr stopped: \" + str(min_validation_itr) + \"\\n\")\n",
    "                file.write(\"Min validation error: \" + str(min_validation_err) + \"\\n\")\n",
    "                file.write(\"Min validation accuracy: \" + str(min_accuracy) + \"\\n\\n\")\n",
    "        # Return the min validation error and the iteration in which it occured\n",
    "        return min_validation_itr, min_validation_err\n",
    "    \n",
    "# Load back in the model\n",
    "def load_and_predict2(test,modelDir,cellType,itr,seq_size):\n",
    "    with tf.Session() as sess:\n",
    "        print (\"Load model:%s-%s\"%(modelDir,itr))\n",
    "        saver = tf.train.import_meta_graph(\"%s/model_%s-%s.meta\"%(modelDir,cellType,itr))\n",
    "        saver.restore(sess,tf.train.latest_checkpoint(\"%s\"%modelDir))\n",
    "        graph = tf.get_default_graph()\n",
    "        \n",
    "        x = graph.get_tensor_by_name(\"x_in:0\")\n",
    "        dropout= graph.get_tensor_by_name(\"dropout_in:0\")\n",
    "        y_pred = graph.get_tensor_by_name(\"y_out:0\")\n",
    "        \n",
    "        predicted_vals_all= sess.run(y_pred, feed_dict={ x: test.features, dropout:1})\n",
    "        # Get last item in each predicted sequence:\n",
    "        predicted_vals = predicted_vals_all[:,seq_size-1]\n",
    "    return predicted_vals"
   ]
  },
  {
   "cell_type": "code",
   "execution_count": null,
   "metadata": {},
   "outputs": [],
   "source": [
    "# Take in test set and print accuracy and F1-score\n",
    "def predict_type(test,modelDir,cellType,itr,seq_size):\n",
    "\n",
    "    # Load and predict\n",
    "    predicted_vals_rnn=load_and_predict2(test_data2,modelDir,cellType,end_itr,seq_len)\n",
    "    \n",
    "    # Compute accuracy\n",
    "    # step 2: get ground-truth\n",
    "    actual_test= np.array([x[-1] for x in test_data2.response])\n",
    "    \n",
    "    # Get raw accuracy\n",
    "    accuracy = sum(np.argmax(actual_test, axis=1) == np.argmax(predicted_vals_rnn, axis=1))/len(actual_test)\n",
    "    print(\"Accuracy: \" + str(accuracy))\n",
    "    # Calculate f1_score\n",
    "    \n",
    "    # Convert the continuous valued predictions\n",
    "    # to one hot\n",
    "    preds = np.zeros([len(actual_test), 7])\n",
    "    for i in range(len(actual_test)):\n",
    "        preds[i, np.argmax(predicted_vals_rnn[i])] = 1\n",
    "    # Use the weighted version for more accuracy in the multiclass setting\n",
    "    print(\"F1 score: \" + str(f1_score(actual_test, preds, average=\"weighted\")))"
   ]
  },
  {
   "cell_type": "markdown",
   "metadata": {},
   "source": [
    "### Read in observations and run the model"
   ]
  },
  {
   "cell_type": "code",
   "execution_count": null,
   "metadata": {},
   "outputs": [],
   "source": [
    "# Define size of sequence, 1 day for now\n",
    "seq_len = 2\n",
    "\n",
    "train_data2,valid_data2,test_data2 = create_observations(train, valid, test, seq_size=seq_len, temp=False, lookahead=4, baseline=True)"
   ]
  },
  {
   "cell_type": "code",
   "execution_count": null,
   "metadata": {},
   "outputs": [],
   "source": [
    "input_dim=19 # dim > 1 for multivariate time series\n",
    "hidden_dim=100 # number of hiddent units h\n",
    "keep_prob=0.75\n",
    "modelDir='modelDir2' # Make sure to use a different model dir\n",
    "log=500 # How often we validate\n",
    "batch_size=16\n",
    "num_epochs=15 # MAXIMUM number of epochs (i.e if early stopping is never achieved)\n",
    "early_stopping=10 # Number of validation steps without improvement until we stop\n",
    "num_layers = 2\n",
    "\n",
    "# Different RNN Cell Types\n",
    "# NEED TO MAKE DIFFERENT COPIES OF THE CELL TO AVOID SELF-REFENTIAL ERRORS\n",
    "RNNcell = [rnn.BasicRNNCell(hidden_dim) for _ in range(num_layers)]\n",
    "cellType = \"RNN\"\n",
    "\n",
    "# Build models and save model\n",
    "end_itr, min_err = build_and_save_d2(modelDir=modelDir,\n",
    "                 train=train_data2,\n",
    "                 valid=valid_data2,\n",
    "                 cell=RNNcell,\n",
    "                 cellType=cellType,\n",
    "                 input_dim=input_dim,\n",
    "                 hidden_dim=hidden_dim,\n",
    "                 seq_size=seq_len,\n",
    "                 keep_prob=keep_prob,\n",
    "                 batch_size=batch_size,\n",
    "                 num_epochs=num_epochs,\n",
    "                 log=log)\n",
    "\n",
    "predict_type(test_data2, modelDir, cellType, end_itr, seq_len)\n",
    "\n",
    "RNNcell = [rnn.GRUCell(hidden_dim) for _ in range(num_layers)]\n",
    "cellType = \"GRU\"\n",
    "\n",
    "\n",
    "\n",
    "# Build models and save model\n",
    "end_itr, min_err = build_and_save_d2(modelDir=modelDir,\n",
    "                 train=train_data2,\n",
    "                 valid=valid_data2,\n",
    "                 cell=RNNcell,\n",
    "                 cellType=cellType,\n",
    "                 input_dim=input_dim,\n",
    "                 hidden_dim=hidden_dim,\n",
    "                 seq_size=seq_len,\n",
    "                 keep_prob=keep_prob,\n",
    "                 batch_size=batch_size,\n",
    "                 num_epochs=num_epochs,\n",
    "                 log=log)\n",
    "\n",
    "predict_type(test_data2, modelDir, cellType, end_itr, seq_len)\n",
    "\n",
    "RNNcell = [rnn.BasicLSTMCell(hidden_dim) for _ in range(num_layers)]\n",
    "cellType = \"LSTM\"\n",
    "\n",
    "\n",
    "# Build models and save model\n",
    "end_itr, min_err = build_and_save_d2(modelDir=modelDir,\n",
    "                 train=train_data2,\n",
    "                 valid=valid_data2,\n",
    "                 cell=RNNcell,\n",
    "                 cellType=cellType,\n",
    "                 input_dim=input_dim,\n",
    "                 hidden_dim=hidden_dim,\n",
    "                 seq_size=seq_len,\n",
    "                 keep_prob=keep_prob,\n",
    "                 batch_size=batch_size,\n",
    "                 num_epochs=num_epochs,\n",
    "                 log=log)\n",
    "\n",
    "predict_type(test_data2, modelDir, cellType, end_itr, seq_len)"
   ]
  },
  {
   "cell_type": "markdown",
   "metadata": {},
   "source": [
    "### Results"
   ]
  },
  {
   "cell_type": "raw",
   "metadata": {},
   "source": [
    "Seq Len: 2 \n",
    "\n",
    "RNN\n",
    "\n",
    "Training time :   26.06421\n",
    "Load model:modelDir2-3000\n",
    "INFO:tensorflow:Restoring parameters from modelDir2/model_RNN-3000\n",
    "Accuracy: 0.5818430345141816\n",
    "F1 score: 0.5751496500102374\n",
    "\n",
    "GRU\n",
    "\n",
    "Training time :   68.72410\n",
    "Load model:modelDir2-9500\n",
    "INFO:tensorflow:Restoring parameters from modelDir2/model_GRU-9500\n",
    "Accuracy: 0.5961954664540381\n",
    "F1 score: 0.5916327029106627\n",
    "\n",
    "LSTM\n",
    "\n",
    "Training time :   71.13695\n",
    "Load model:modelDir2-11500\n",
    "INFO:tensorflow:Restoring parameters from modelDir2/model_LSTM-11500\n",
    "Accuracy: 0.6037134069939629\n",
    "F1 score: 0.5971185305032227\n",
    "\n",
    "Seq Len: 24\n",
    "\n",
    "\n",
    "RNN\n",
    "\n",
    "Training time :   78.50333\n",
    "Load model:modelDir2-3000\n",
    "INFO:tensorflow:Restoring parameters from modelDir2/model_RNN-3000\n",
    "Accuracy: 0.5922119447299303\n",
    "F1 score: 0.5910033794373887\n",
    "\n",
    "GRU\n",
    "\n",
    "Training time :   88.32919\n",
    "Load model:modelDir2-1000\n",
    "INFO:tensorflow:Restoring parameters from modelDir2/model_GRU-1000\n",
    "Accuracy: 0.5928971108827223\n",
    "F1 score: 0.5792721833038622\n",
    "\n",
    "LSTM \n",
    "\n",
    "Training time :   90.14142\n",
    "Load model:modelDir2-1500\n",
    "INFO:tensorflow:Restoring parameters from modelDir2/model_LSTM-1500\n",
    "Accuracy: 0.6044307411213886\n",
    "F1 score: 0.5905284940134202\n",
    "\n",
    "Seq Len: 72\n",
    "\n",
    "RNN\n",
    "\n",
    "Training time :  314.71831\n",
    "Load model:modelDir2-3500\n",
    "INFO:tensorflow:Restoring parameters from modelDir2/model_RNN-3500\n",
    "Accuracy: 0.5838787461246986\n",
    "F1 score: 0.5687409812194684\n",
    "\n",
    "GRU\n",
    "\n",
    "Training time :  409.06710\n",
    "Load model:modelDir2-500\n",
    "INFO:tensorflow:Restoring parameters from modelDir2/model_GRU-500\n",
    "Accuracy: 0.5920312320587897\n",
    "F1 score: 0.5844762323065641\n",
    "\n",
    "LSTM\n",
    "\n",
    "Training time :  398.69022\n",
    "Load model:modelDir2-1000\n",
    "INFO:tensorflow:Restoring parameters from modelDir2/model_LSTM-1000\n",
    "Accuracy: 0.5940980594787002\n",
    "F1 score: 0.5796382185477683"
   ]
  }
 ],
 "metadata": {
  "hide_input": false,
  "kernelspec": {
   "display_name": "Python 3",
   "language": "python",
   "name": "python3"
  },
  "language_info": {
   "codemirror_mode": {
    "name": "ipython",
    "version": 3
   },
   "file_extension": ".py",
   "mimetype": "text/x-python",
   "name": "python",
   "nbconvert_exporter": "python",
   "pygments_lexer": "ipython3",
   "version": "3.6.3"
  },
  "toc": {
   "nav_menu": {},
   "number_sections": true,
   "sideBar": true,
   "skip_h1_title": false,
   "title_cell": "Table of Contents",
   "title_sidebar": "Contents",
   "toc_cell": false,
   "toc_position": {},
   "toc_section_display": true,
   "toc_window_display": false
  },
  "varInspector": {
   "cols": {
    "lenName": 16,
    "lenType": 16,
    "lenVar": 40
   },
   "kernels_config": {
    "python": {
     "delete_cmd_postfix": "",
     "delete_cmd_prefix": "del ",
     "library": "var_list.py",
     "varRefreshCmd": "print(var_dic_list())"
    },
    "r": {
     "delete_cmd_postfix": ") ",
     "delete_cmd_prefix": "rm(",
     "library": "var_list.r",
     "varRefreshCmd": "cat(var_dic_list()) "
    }
   },
   "types_to_exclude": [
    "module",
    "function",
    "builtin_function_or_method",
    "instance",
    "_Feature"
   ],
   "window_display": false
  }
 },
 "nbformat": 4,
 "nbformat_minor": 2
}
