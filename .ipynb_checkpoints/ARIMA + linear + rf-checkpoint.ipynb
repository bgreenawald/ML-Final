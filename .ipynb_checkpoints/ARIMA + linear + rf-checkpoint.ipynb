{
 "cells": [
  {
   "cell_type": "markdown",
   "metadata": {},
   "source": [
    "### Preparing the data set and autocorrelation plots"
   ]
  },
  {
   "cell_type": "code",
   "execution_count": 3,
   "metadata": {},
   "outputs": [
    {
     "name": "stderr",
     "output_type": "stream",
     "text": [
      "C:\\Users\\Prasanth\\Anaconda3\\lib\\site-packages\\statsmodels\\compat\\pandas.py:56: FutureWarning: The pandas.core.datetools module is deprecated and will be removed in a future version. Please use the pandas.tseries module instead.\n",
      "  from pandas.core import datetools\n"
     ]
    }
   ],
   "source": [
    "# Data processing and functions\n",
    "import pandas as pd\n",
    "import numpy as np\n",
    "import scipy as sp\n",
    "from pandas import read_csv\n",
    "from pandas import datetime\n",
    "from matplotlib import pyplot\n",
    "from statsmodels.tsa.arima_model import ARIMA\n",
    "from sklearn.metrics import mean_squared_error\n",
    "from math import sqrt\n",
    "\n",
    "# Analytics and modeling\n",
    "from sklearn.model_selection import train_test_split\n",
    "from sklearn.metrics import mean_squared_error\n",
    "from sklearn.model_selection import cross_val_predict\n",
    "from sklearn import linear_model\n",
    "from sklearn.model_selection import cross_val_score\n",
    "from sklearn.decomposition import PCA\n",
    "from sklearn import manifold\n",
    "from sklearn.preprocessing import StandardScaler\n",
    "from sklearn.feature_selection import SelectKBest, f_regression\n",
    "from sklearn.pipeline import make_pipeline\n",
    "from sklearn.metrics import classification_report\n",
    "import statsmodels.api as sm\n",
    "from statsmodels.tsa.arima_model import ARIMA\n",
    "import statsmodels.sandbox.tools.tools_pca as sm_pca\n",
    "from statsmodels.formula.api import ols as sm_ols\n",
    "from statsmodels.stats.anova import anova_lm as sm_anova\n",
    "from patsy.contrasts import Treatment\n",
    "from patsy import dmatrices\n",
    "from sklearn.linear_model import LinearRegression\n",
    "from sklearn.ensemble import RandomForestRegressor\n",
    "from sklearn.neural_network import MLPRegressor\n",
    "from sklearn.svm import SVR\n",
    "\n",
    "\n",
    "from datetime import datetime\n",
    "from datetime import timedelta\n",
    "from pandas.core import datetools\n",
    "\n",
    "# Graphing and visualizing\n",
    "import seaborn as sns\n",
    "import matplotlib as mpl\n",
    "import matplotlib.pyplot as plt\n",
    "import matplotlib.colors as colors\n",
    "from matplotlib import cm\n",
    "from pylab import savefig\n",
    "\n",
    "# Setting graphing preferences\n",
    "sns.set(style=\"darkgrid\", color_codes=True)\n",
    "\n",
    "# Printing\n",
    "import locale\n",
    "\n",
    "# Show plots locally\n",
    "locale.setlocale( locale.LC_ALL, '' )\n",
    "\n",
    "%matplotlib inline"
   ]
  },
  {
   "cell_type": "code",
   "execution_count": 2,
   "metadata": {
    "collapsed": true
   },
   "outputs": [],
   "source": [
    "data = pd.read_csv('/Users/mead/Spring2018/MachineLearning/Final/historical-hourly-weather-data/df_weather_scaled_encoded.csv')"
   ]
  },
  {
   "cell_type": "code",
   "execution_count": 3,
   "metadata": {},
   "outputs": [
    {
     "data": {
      "text/html": [
       "<div>\n",
       "<style scoped>\n",
       "    .dataframe tbody tr th:only-of-type {\n",
       "        vertical-align: middle;\n",
       "    }\n",
       "\n",
       "    .dataframe tbody tr th {\n",
       "        vertical-align: top;\n",
       "    }\n",
       "\n",
       "    .dataframe thead th {\n",
       "        text-align: right;\n",
       "    }\n",
       "</style>\n",
       "<table border=\"1\" class=\"dataframe\">\n",
       "  <thead>\n",
       "    <tr style=\"text-align: right;\">\n",
       "      <th></th>\n",
       "      <th>datetime</th>\n",
       "      <th>city</th>\n",
       "      <th>temperature</th>\n",
       "      <th>humidity</th>\n",
       "      <th>pressure</th>\n",
       "      <th>wind_speed</th>\n",
       "      <th>wind_dir_E</th>\n",
       "      <th>wind_dir_N</th>\n",
       "      <th>wind_dir_NE</th>\n",
       "      <th>wind_dir_NW</th>\n",
       "      <th>...</th>\n",
       "      <th>wind_dir_SE</th>\n",
       "      <th>wind_dir_SW</th>\n",
       "      <th>wind_dir_W</th>\n",
       "      <th>weather_clear</th>\n",
       "      <th>weather_cloudy</th>\n",
       "      <th>weather_other</th>\n",
       "      <th>weather_partly_cloudy</th>\n",
       "      <th>weather_rain</th>\n",
       "      <th>weather_snow</th>\n",
       "      <th>weather_tstorm</th>\n",
       "    </tr>\n",
       "  </thead>\n",
       "  <tbody>\n",
       "    <tr>\n",
       "      <th>0</th>\n",
       "      <td>2012-10-01 12:00:00</td>\n",
       "      <td>Portland</td>\n",
       "      <td>0.503824</td>\n",
       "      <td>0.800000</td>\n",
       "      <td>0.746667</td>\n",
       "      <td>0.0</td>\n",
       "      <td>0</td>\n",
       "      <td>1</td>\n",
       "      <td>0</td>\n",
       "      <td>0</td>\n",
       "      <td>...</td>\n",
       "      <td>0</td>\n",
       "      <td>0</td>\n",
       "      <td>0</td>\n",
       "      <td>0</td>\n",
       "      <td>0</td>\n",
       "      <td>0</td>\n",
       "      <td>1</td>\n",
       "      <td>0</td>\n",
       "      <td>0</td>\n",
       "      <td>0</td>\n",
       "    </tr>\n",
       "    <tr>\n",
       "      <th>1</th>\n",
       "      <td>2012-10-01 13:00:00</td>\n",
       "      <td>Portland</td>\n",
       "      <td>0.503824</td>\n",
       "      <td>0.800000</td>\n",
       "      <td>0.746667</td>\n",
       "      <td>0.0</td>\n",
       "      <td>0</td>\n",
       "      <td>1</td>\n",
       "      <td>0</td>\n",
       "      <td>0</td>\n",
       "      <td>...</td>\n",
       "      <td>0</td>\n",
       "      <td>0</td>\n",
       "      <td>0</td>\n",
       "      <td>0</td>\n",
       "      <td>0</td>\n",
       "      <td>0</td>\n",
       "      <td>1</td>\n",
       "      <td>0</td>\n",
       "      <td>0</td>\n",
       "      <td>0</td>\n",
       "    </tr>\n",
       "    <tr>\n",
       "      <th>2</th>\n",
       "      <td>2012-10-01 14:00:00</td>\n",
       "      <td>Portland</td>\n",
       "      <td>0.503865</td>\n",
       "      <td>0.789474</td>\n",
       "      <td>0.746667</td>\n",
       "      <td>0.0</td>\n",
       "      <td>0</td>\n",
       "      <td>1</td>\n",
       "      <td>0</td>\n",
       "      <td>0</td>\n",
       "      <td>...</td>\n",
       "      <td>0</td>\n",
       "      <td>0</td>\n",
       "      <td>0</td>\n",
       "      <td>0</td>\n",
       "      <td>0</td>\n",
       "      <td>0</td>\n",
       "      <td>1</td>\n",
       "      <td>0</td>\n",
       "      <td>0</td>\n",
       "      <td>0</td>\n",
       "    </tr>\n",
       "  </tbody>\n",
       "</table>\n",
       "<p>3 rows × 21 columns</p>\n",
       "</div>"
      ],
      "text/plain": [
       "              datetime      city  temperature  humidity  pressure  wind_speed  \\\n",
       "0  2012-10-01 12:00:00  Portland     0.503824  0.800000  0.746667         0.0   \n",
       "1  2012-10-01 13:00:00  Portland     0.503824  0.800000  0.746667         0.0   \n",
       "2  2012-10-01 14:00:00  Portland     0.503865  0.789474  0.746667         0.0   \n",
       "\n",
       "   wind_dir_E  wind_dir_N  wind_dir_NE  wind_dir_NW       ...        \\\n",
       "0           0           1            0            0       ...         \n",
       "1           0           1            0            0       ...         \n",
       "2           0           1            0            0       ...         \n",
       "\n",
       "   wind_dir_SE  wind_dir_SW  wind_dir_W  weather_clear  weather_cloudy  \\\n",
       "0            0            0           0              0               0   \n",
       "1            0            0           0              0               0   \n",
       "2            0            0           0              0               0   \n",
       "\n",
       "   weather_other  weather_partly_cloudy  weather_rain  weather_snow  \\\n",
       "0              0                      1             0             0   \n",
       "1              0                      1             0             0   \n",
       "2              0                      1             0             0   \n",
       "\n",
       "   weather_tstorm  \n",
       "0               0  \n",
       "1               0  \n",
       "2               0  \n",
       "\n",
       "[3 rows x 21 columns]"
      ]
     },
     "execution_count": 3,
     "metadata": {},
     "output_type": "execute_result"
    }
   ],
   "source": [
    "data[0:3]"
   ]
  },
  {
   "cell_type": "code",
   "execution_count": 4,
   "metadata": {},
   "outputs": [
    {
     "data": {
      "text/plain": [
       "Index(['datetime', 'city', 'temperature', 'humidity', 'pressure', 'wind_speed',\n",
       "       'wind_dir_E', 'wind_dir_N', 'wind_dir_NE', 'wind_dir_NW', 'wind_dir_S',\n",
       "       'wind_dir_SE', 'wind_dir_SW', 'wind_dir_W', 'weather_clear',\n",
       "       'weather_cloudy', 'weather_other', 'weather_partly_cloudy',\n",
       "       'weather_rain', 'weather_snow', 'weather_tstorm'],\n",
       "      dtype='object')"
      ]
     },
     "execution_count": 4,
     "metadata": {},
     "output_type": "execute_result"
    }
   ],
   "source": [
    "data.columns\n",
    "\n",
    "# No nulls. checked"
   ]
  },
  {
   "cell_type": "code",
   "execution_count": 5,
   "metadata": {
    "collapsed": true
   },
   "outputs": [],
   "source": [
    "data[['weather_clear', 'weather_cloudy', 'weather_other', 'weather_partly_cloudy', 'weather_rain', 'weather_snow',\n",
    "    'weather_tstorm']] = data[['weather_clear', 'weather_cloudy', 'weather_other', 'weather_partly_cloudy', 'weather_rain', \n",
    "                               'weather_snow', 'weather_tstorm']].apply(pd.to_numeric, errors = 'coerce')"
   ]
  },
  {
   "cell_type": "code",
   "execution_count": 6,
   "metadata": {},
   "outputs": [
    {
     "data": {
      "text/plain": [
       "array(['Portland', 'Seattle', 'Los Angeles', 'San Diego', 'Las Vegas',\n",
       "       'Phoenix', 'Albuquerque', 'Denver', 'San Antonio', 'Dallas',\n",
       "       'Houston', 'Kansas City', 'Minneapolis', 'Saint Louis', 'Chicago',\n",
       "       'Nashville', 'Indianapolis', 'Atlanta', 'Detroit', 'Jacksonville',\n",
       "       'Charlotte', 'Pittsburgh', 'Toronto', 'Philadelphia', 'Montreal',\n",
       "       'Boston'], dtype=object)"
      ]
     },
     "execution_count": 6,
     "metadata": {},
     "output_type": "execute_result"
    }
   ],
   "source": [
    "data['city'].unique()"
   ]
  },
  {
   "cell_type": "code",
   "execution_count": 7,
   "metadata": {
    "collapsed": true
   },
   "outputs": [],
   "source": [
    "data_charlotte = data[data['city'] == 'Charlotte']"
   ]
  },
  {
   "cell_type": "code",
   "execution_count": 8,
   "metadata": {},
   "outputs": [
    {
     "data": {
      "text/plain": [
       "(45253, 21)"
      ]
     },
     "execution_count": 8,
     "metadata": {},
     "output_type": "execute_result"
    }
   ],
   "source": [
    "data_charlotte.shape"
   ]
  },
  {
   "cell_type": "code",
   "execution_count": 198,
   "metadata": {
    "collapsed": true
   },
   "outputs": [],
   "source": [
    "data_charlotte_train = data_charlotte[data_charlotte['datetime'].astype(str).str[0:4].astype(int) <= 2016]\n",
    "data_charlotte_test = data_charlotte[data_charlotte['datetime'].astype(str).str[0:4].astype(int) == 2017]"
   ]
  },
  {
   "cell_type": "code",
   "execution_count": 199,
   "metadata": {},
   "outputs": [
    {
     "data": {
      "text/plain": [
       "Index(['datetime', 'city', 'temperature', 'humidity', 'pressure', 'wind_speed',\n",
       "       'wind_dir_E', 'wind_dir_N', 'wind_dir_NE', 'wind_dir_NW', 'wind_dir_S',\n",
       "       'wind_dir_SE', 'wind_dir_SW', 'wind_dir_W', 'weather_clear',\n",
       "       'weather_cloudy', 'weather_other', 'weather_partly_cloudy',\n",
       "       'weather_rain', 'weather_snow', 'weather_tstorm'],\n",
       "      dtype='object')"
      ]
     },
     "execution_count": 199,
     "metadata": {},
     "output_type": "execute_result"
    }
   ],
   "source": [
    "data_charlotte_train.columns"
   ]
  },
  {
   "cell_type": "code",
   "execution_count": 152,
   "metadata": {
    "collapsed": true
   },
   "outputs": [],
   "source": [
    "X_train = data_charlotte_train\n",
    "X_test = data_charlotte_test\n",
    "y_train = data_charlotte_train['temperature']\n",
    "y_test = data_charlotte_test['temperature']"
   ]
  },
  {
   "cell_type": "code",
   "execution_count": 154,
   "metadata": {},
   "outputs": [
    {
     "name": "stdout",
     "output_type": "stream",
     "text": [
      "Mean Square Error: 0.01\n"
     ]
    }
   ],
   "source": [
    "lr = linear_model.LinearRegression()\n",
    "\n",
    "lr.fit(pd.DataFrame(X_train[X_train.columns.difference(['datetime', 'city', 'latitude', 'longitude', 'temperature'])]), y_train)\n",
    "\n",
    "y_fit = lr.predict(pd.DataFrame(X_train[X_train.columns.difference(['datetime', 'city', 'latitude', 'longitude', 'temperature'])]))\n",
    "\n",
    "y_pred = lr.predict(pd.DataFrame(X_test[X_test.columns.difference(['datetime', 'city', 'latitude', 'longitude', 'temperature'])]))\n",
    "\n",
    "#Performance on the test set\n",
    "\n",
    "mse = mean_squared_error(y_pred, y_test)\n",
    "\n",
    "print(\"Mean Square Error: %0.2f\" % (mse))\n"
   ]
  },
  {
   "cell_type": "code",
   "execution_count": 155,
   "metadata": {},
   "outputs": [
    {
     "data": {
      "image/png": "[encoded data removed]",
      "text/plain": [
       "<matplotlib.figure.Figure at 0x1c774c169e8>"
      ]
     },
     "metadata": {},
     "output_type": "display_data"
    }
   ],
   "source": [
    "# Residual ACF, PACF\n",
    "\n",
    "resid = y_train - y_fit\n",
    "\n",
    "fig = plt.figure(figsize=(12,8))\n",
    "ax1 = fig.add_subplot(211)\n",
    "fig = sm.graphics.tsa.plot_acf(resid, lags=160, ax=ax1)\n",
    "ax2 = fig.add_subplot(212)\n",
    "fig = sm.graphics.tsa.plot_pacf(resid, lags=160, ax=ax2)\n",
    "\n",
    "# The below plots demonstrate that there is certainly a 24 hour cycle to an extnent"
   ]
  },
  {
   "cell_type": "markdown",
   "metadata": {},
   "source": [
    "### How does a plot of predicted vs actual look?"
   ]
  },
  {
   "cell_type": "code",
   "execution_count": 156,
   "metadata": {},
   "outputs": [
    {
     "data": {
      "image/png": "[encoded data removed]",
      "text/plain": [
       "<matplotlib.figure.Figure at 0x1c7763b8cc0>"
      ]
     },
     "metadata": {},
     "output_type": "display_data"
    }
   ],
   "source": [
    "fit_train = pd.DataFrame(y_fit, y_train)\n",
    "fit_train = fit_train.reset_index()\n",
    "fit_train.columns = ['Predicted', 'Actual']\n",
    "scatt = fit_train.plot(x = ['Predicted'], y = ['Actual'], kind = 'scatter')\n",
    "plt.show()"
   ]
  },
  {
   "cell_type": "code",
   "execution_count": 201,
   "metadata": {},
   "outputs": [
    {
     "name": "stderr",
     "output_type": "stream",
     "text": [
      "/Users/mead/anaconda/envs/py36/lib/python3.6/site-packages/ipykernel_launcher.py:1: SettingWithCopyWarning: \n",
      "A value is trying to be set on a copy of a slice from a DataFrame.\n",
      "Try using .loc[row_indexer,col_indexer] = value instead\n",
      "\n",
      "See the caveats in the documentation: http://pandas.pydata.org/pandas-docs/stable/indexing.html#indexing-view-versus-copy\n",
      "  \"\"\"Entry point for launching an IPython kernel.\n",
      "/Users/mead/anaconda/envs/py36/lib/python3.6/site-packages/ipykernel_launcher.py:2: SettingWithCopyWarning: \n",
      "A value is trying to be set on a copy of a slice from a DataFrame\n",
      "\n",
      "See the caveats in the documentation: http://pandas.pydata.org/pandas-docs/stable/indexing.html#indexing-view-versus-copy\n",
      "  \n"
     ]
    }
   ],
   "source": [
    "data_charlotte_train['lag'] = data_charlotte_train['temperature'].shift(4)\n",
    "data_charlotte_train.dropna(inplace=True)\n",
    "data_charlotte_train.index = data_charlotte_train['datetime']"
   ]
  },
  {
   "cell_type": "markdown",
   "metadata": {},
   "source": [
    "### ARIMA models"
   ]
  },
  {
   "cell_type": "markdown",
   "metadata": {},
   "source": [
    "#### Using just t-4, t-5 hour temperature data to predict t"
   ]
  },
  {
   "cell_type": "code",
   "execution_count": 202,
   "metadata": {},
   "outputs": [
    {
     "name": "stderr",
     "output_type": "stream",
     "text": [
      "/Users/mead/anaconda/envs/py36/lib/python3.6/site-packages/statsmodels/tsa/kalmanf/kalmanfilter.py:646: FutureWarning: Conversion of the second argument of issubdtype from `float` to `np.floating` is deprecated. In future, it will be treated as `np.float64 == np.dtype(float).type`.\n",
      "  if issubdtype(paramsdtype, float):\n",
      "/Users/mead/anaconda/envs/py36/lib/python3.6/site-packages/statsmodels/tsa/kalmanf/kalmanfilter.py:650: FutureWarning: Conversion of the second argument of issubdtype from `complex` to `np.complexfloating` is deprecated. In future, it will be treated as `np.complex128 == np.dtype(complex).type`.\n",
      "  elif issubdtype(paramsdtype, complex):\n"
     ]
    },
    {
     "name": "stdout",
     "output_type": "stream",
     "text": [
      "                             ARIMA Model Results                              \n",
      "==============================================================================\n",
      "Dep. Variable:                  D.lag   No. Observations:                37255\n",
      "Model:                 ARIMA(2, 1, 0)   Log Likelihood              102465.287\n",
      "Method:                       css-mle   S.D. of innovations              0.015\n",
      "Date:                Tue, 01 May 2018   AIC                        -204922.574\n",
      "Time:                        15:13:19   BIC                        -204888.472\n",
      "Sample:                    10-01-2012   HQIC                       -204911.744\n",
      "                         - 12-31-2016                                         \n",
      "===============================================================================\n",
      "                  coef    std err          z      P>|z|      [0.025      0.975]\n",
      "-------------------------------------------------------------------------------\n",
      "const       -2.529e-06      0.000     -0.014      0.989      -0.000       0.000\n",
      "ar.L1.D.lag     0.2662      0.005     53.735      0.000       0.256       0.276\n",
      "ar.L2.D.lag     0.2932      0.005     59.193      0.000       0.283       0.303\n",
      "                                    Roots                                    \n",
      "=============================================================================\n",
      "                 Real           Imaginary           Modulus         Frequency\n",
      "-----------------------------------------------------------------------------\n",
      "AR.1            1.4479           +0.0000j            1.4479            0.0000\n",
      "AR.2           -2.3557           +0.0000j            2.3557            0.5000\n",
      "-----------------------------------------------------------------------------\n"
     ]
    }
   ],
   "source": [
    "model_2hr = sm.tsa.ARIMA(endog = data_charlotte_train['lag'],order=[2,1,0])\n",
    "results_2hr = model_2hr.fit()\n",
    "print(results_2hr.summary())"
   ]
  },
  {
   "cell_type": "code",
   "execution_count": 203,
   "metadata": {},
   "outputs": [
    {
     "name": "stderr",
     "output_type": "stream",
     "text": [
      "/Users/mead/anaconda/envs/py36/lib/python3.6/site-packages/statsmodels/tsa/kalmanf/kalmanfilter.py:646: FutureWarning: Conversion of the second argument of issubdtype from `float` to `np.floating` is deprecated. In future, it will be treated as `np.float64 == np.dtype(float).type`.\n",
      "  if issubdtype(paramsdtype, float):\n",
      "/Users/mead/anaconda/envs/py36/lib/python3.6/site-packages/statsmodels/tsa/kalmanf/kalmanfilter.py:650: FutureWarning: Conversion of the second argument of issubdtype from `complex` to `np.complexfloating` is deprecated. In future, it will be treated as `np.complex128 == np.dtype(complex).type`.\n",
      "  elif issubdtype(paramsdtype, complex):\n"
     ]
    }
   ],
   "source": [
    "fit_AR = model_2hr.fit(disp=-1)  \n",
    "TempDiff8760 = data_charlotte_train['temperature'].diff(8760)\n"
   ]
  },
  {
   "cell_type": "code",
   "execution_count": 204,
   "metadata": {},
   "outputs": [
    {
     "name": "stderr",
     "output_type": "stream",
     "text": [
      "/Users/mead/anaconda/envs/py36/lib/python3.6/site-packages/ipykernel_launcher.py:1: SettingWithCopyWarning: \n",
      "A value is trying to be set on a copy of a slice from a DataFrame.\n",
      "Try using .loc[row_indexer,col_indexer] = value instead\n",
      "\n",
      "See the caveats in the documentation: http://pandas.pydata.org/pandas-docs/stable/indexing.html#indexing-view-versus-copy\n",
      "  \"\"\"Entry point for launching an IPython kernel.\n"
     ]
    }
   ],
   "source": [
    "data_charlotte_train['datetime'] = pd.to_datetime(data_charlotte_train['datetime']) "
   ]
  },
  {
   "cell_type": "code",
   "execution_count": 205,
   "metadata": {},
   "outputs": [
    {
     "name": "stderr",
     "output_type": "stream",
     "text": [
      "/Users/mead/anaconda/envs/py36/lib/python3.6/site-packages/ipykernel_launcher.py:1: SettingWithCopyWarning: \n",
      "A value is trying to be set on a copy of a slice from a DataFrame.\n",
      "Try using .loc[row_indexer,col_indexer] = value instead\n",
      "\n",
      "See the caveats in the documentation: http://pandas.pydata.org/pandas-docs/stable/indexing.html#indexing-view-versus-copy\n",
      "  \"\"\"Entry point for launching an IPython kernel.\n"
     ]
    }
   ],
   "source": [
    "data_charlotte_train[\"NEW_DATE\"] = data_charlotte_train[\"datetime\"] + pd.offsets.DateOffset(years=2)\n"
   ]
  },
  {
   "cell_type": "code",
   "execution_count": 76,
   "metadata": {},
   "outputs": [],
   "source": [
    "# Get the train forecast\n",
    "\n",
    "\n",
    "forecast = data_charlotte_train.temperature.shift(8760).dropna(inplace = False) +\\\n",
    "fit_AR.fittedvalues\\\n",
    "+ TempDiff8760.dropna(inplace = False).mean()\n"
   ]
  },
  {
   "cell_type": "code",
   "execution_count": 216,
   "metadata": {},
   "outputs": [],
   "source": [
    "use_this = data_charlotte_train[['temperature', 'NEW_DATE']][-17544:-8784].copy()\n",
    "use_this.index = use_this['NEW_DATE']\n"
   ]
  },
  {
   "cell_type": "code",
   "execution_count": 229,
   "metadata": {},
   "outputs": [
    {
     "name": "stderr",
     "output_type": "stream",
     "text": [
      "/Users/mead/anaconda/envs/py36/lib/python3.6/site-packages/statsmodels/tsa/kalmanf/kalmanfilter.py:577: FutureWarning: Conversion of the second argument of issubdtype from `float` to `np.floating` is deprecated. In future, it will be treated as `np.float64 == np.dtype(float).type`.\n",
      "  if issubdtype(paramsdtype, float):\n"
     ]
    }
   ],
   "source": [
    "###### HERE ######\n",
    "forecast = (use_this['temperature'] +\\\n",
    "fit_AR.predict(start= len(data_charlotte_train), end = len(data_charlotte_train) -1 + len(data_charlotte_test))\\\n",
    "+ TempDiff8760.dropna(inplace = False).mean()).dropna(inplace = False)"
   ]
  },
  {
   "cell_type": "code",
   "execution_count": 232,
   "metadata": {},
   "outputs": [
    {
     "data": {
      "text/plain": [
       "Text(0.5,0,'DateTime')"
      ]
     },
     "execution_count": 232,
     "metadata": {},
     "output_type": "execute_result"
    },
    {
     "data": {
      "image/png": "[encoded data removed]",
      "text/plain": [
       "<Figure size 1008x792 with 1 Axes>"
      ]
     },
     "metadata": {},
     "output_type": "display_data"
    }
   ],
   "source": [
    "fig = plt.figure(figsize = (14,11))\n",
    "ts = fig.add_subplot(1, 1, 1)\n",
    "#forecast_mod1 = model_2hr.fit(disp=-1)  \n",
    "#data_charlotte_train.temperature.plot(label = 'Temperature')\n",
    "forecast.plot()\n",
    "\n",
    "ts.legend(loc = 'best')\n",
    "ts.set_title(\"WEATHER Training Predictions\")\n",
    "ts.set_ylabel(\"Normalized Temperature\")\n",
    "ts.set_xlabel(\"DateTime\")"
   ]
  },
  {
   "cell_type": "markdown",
   "metadata": {},
   "source": [
    "##### (results_2hr.predict(start= len(data_charlotte_train), end = len(data_charlotte_train) + len(data_charlotte_test)))[-2:-1]"
   ]
  },
  {
   "cell_type": "code",
   "execution_count": 233,
   "metadata": {},
   "outputs": [
    {
     "name": "stdout",
     "output_type": "stream",
     "text": [
      "8.256708774009267\n"
     ]
    }
   ],
   "source": [
    "forecast = pd.DataFrame(forecast)\n",
    "forecast.columns = ['predicted_values']\n",
    "forecast['ground_truth'] = data_charlotte_test['temperature'].values\n",
    "forecast['predicted_denormalized'] = forecast['predicted_values']*(99.95 - 0.515) + 0.515\n",
    "forecast['grountruth_denormalized'] = forecast['ground_truth']*(99.95 - 0.515) + 0.515\n",
    "rmse_2h = sqrt(mean_squared_error(forecast['predicted_denormalized'], forecast['grountruth_denormalized']))\n",
    "print(rmse_2h)"
   ]
  },
  {
   "cell_type": "markdown",
   "metadata": {},
   "source": [
    "#### Predicting Temperature at time T + 4 by looking at temperatures between T and T - 24"
   ]
  },
  {
   "cell_type": "code",
   "execution_count": 170,
   "metadata": {},
   "outputs": [
    {
     "name": "stderr",
     "output_type": "stream",
     "text": [
      "C:\\Users\\Prasanth\\Anaconda3\\lib\\site-packages\\statsmodels\\base\\model.py:496: ConvergenceWarning: Maximum Likelihood optimization failed to converge. Check mle_retvals\n",
      "  \"Check mle_retvals\", ConvergenceWarning)\n"
     ]
    },
    {
     "name": "stdout",
     "output_type": "stream",
     "text": [
      "                             ARIMA Model Results                              \n",
      "==============================================================================\n",
      "Dep. Variable:                  D.lag   No. Observations:                37247\n",
      "Model:                ARIMA(24, 1, 0)   Log Likelihood              109788.653\n",
      "Method:                       css-mle   S.D. of innovations              0.013\n",
      "Date:                Mon, 30 Apr 2018   AIC                        -219525.305\n",
      "Time:                        22:41:26   BIC                        -219303.647\n",
      "Sample:                    10-02-2012   HQIC                       -219454.908\n",
      "                         - 12-31-2016                                         \n",
      "================================================================================\n",
      "                   coef    std err          z      P>|z|      [0.025      0.975]\n",
      "--------------------------------------------------------------------------------\n",
      "const          -4.9e-06   5.93e-05     -0.083      0.934      -0.000       0.000\n",
      "ar.L1.D.lag      0.0428      0.005      8.871      0.000       0.033       0.052\n",
      "ar.L2.D.lag      0.1328      0.005     27.529      0.000       0.123       0.142\n",
      "ar.L3.D.lag      0.0232      0.005      4.762      0.000       0.014       0.033\n",
      "ar.L4.D.lag     -0.0265      0.005     -5.431      0.000      -0.036      -0.017\n",
      "ar.L5.D.lag     -0.0397      0.005     -8.149      0.000      -0.049      -0.030\n",
      "ar.L6.D.lag     -0.0937      0.005    -19.221      0.000      -0.103      -0.084\n",
      "ar.L7.D.lag     -0.0454      0.005     -9.286      0.000      -0.055      -0.036\n",
      "ar.L8.D.lag     -0.0246      0.005     -5.037      0.000      -0.034      -0.015\n",
      "ar.L9.D.lag     -0.1086      0.005    -22.204      0.000      -0.118      -0.099\n",
      "ar.L10.D.lag    -0.0045      0.005     -0.930      0.353      -0.014       0.005\n",
      "ar.L11.D.lag    -0.0325      0.005     -6.646      0.000      -0.042      -0.023\n",
      "ar.L12.D.lag    -0.0758      0.005    -15.492      0.000      -0.085      -0.066\n",
      "ar.L13.D.lag    -0.0288      0.005     -5.882      0.000      -0.038      -0.019\n",
      "ar.L14.D.lag    -0.0095      0.005     -1.935      0.053      -0.019       0.000\n",
      "ar.L15.D.lag    -0.1104      0.005    -22.570      0.000      -0.120      -0.101\n",
      "ar.L16.D.lag    -0.0284      0.005     -5.800      0.000      -0.038      -0.019\n",
      "ar.L17.D.lag    -0.0238      0.005     -4.861      0.000      -0.033      -0.014\n",
      "ar.L18.D.lag    -0.0613      0.005    -12.535      0.000      -0.071      -0.052\n",
      "ar.L19.D.lag    -0.0239      0.005     -4.905      0.000      -0.033      -0.014\n",
      "ar.L20.D.lag    -0.0263      0.005     -5.400      0.000      -0.036      -0.017\n",
      "ar.L21.D.lag     0.0225      0.005      4.615      0.000       0.013       0.032\n",
      "ar.L22.D.lag     0.0326      0.005      6.703      0.000       0.023       0.042\n",
      "ar.L23.D.lag     0.0365      0.005      7.571      0.000       0.027       0.046\n",
      "ar.L24.D.lag     0.3646      0.005     75.590      0.000       0.355       0.374\n",
      "                                    Roots                                     \n",
      "==============================================================================\n",
      "                  Real           Imaginary           Modulus         Frequency\n",
      "------------------------------------------------------------------------------\n",
      "AR.1             0.9709           -0.2604j            1.0052           -0.0417\n",
      "AR.2             0.9709           +0.2604j            1.0052            0.0417\n",
      "AR.3             1.0780           -0.0000j            1.0780           -0.0000\n",
      "AR.4             0.8848           -0.5083j            1.0204           -0.0830\n",
      "AR.5             0.8848           +0.5083j            1.0204            0.0830\n",
      "AR.6             0.7396           -0.7372j            1.0443           -0.1248\n",
      "AR.7             0.7396           +0.7372j            1.0443            0.1248\n",
      "AR.8             0.5235           -0.9109j            1.0506           -0.1670\n",
      "AR.9             0.5235           +0.9109j            1.0506            0.1670\n",
      "AR.10           -1.0382           -0.0000j            1.0382           -0.5000\n",
      "AR.11           -1.0179           -0.2680j            1.0526           -0.4590\n",
      "AR.12           -1.0179           +0.2680j            1.0526            0.4590\n",
      "AR.13           -0.9023           -0.5137j            1.0382           -0.4176\n",
      "AR.14           -0.9023           +0.5137j            1.0382            0.4176\n",
      "AR.15           -0.7324           -0.7262j            1.0314           -0.3757\n",
      "AR.16           -0.7324           +0.7262j            1.0314            0.3757\n",
      "AR.17            0.2698           -1.0224j            1.0574           -0.2089\n",
      "AR.18            0.2698           +1.0224j            1.0574            0.2089\n",
      "AR.19           -0.5372           -0.9236j            1.0684           -0.3338\n",
      "AR.20           -0.5372           +0.9236j            1.0684            0.3338\n",
      "AR.21            0.0020           -1.0541j            1.0541           -0.2497\n",
      "AR.22            0.0020           +1.0541j            1.0541            0.2497\n",
      "AR.23           -0.2709           -1.0004j            1.0364           -0.2921\n",
      "AR.24           -0.2709           +1.0004j            1.0364            0.2921\n",
      "------------------------------------------------------------------------------\n"
     ]
    }
   ],
   "source": [
    "model_24hr = sm.tsa.ARIMA(endog = data_charlotte_train['lag'],order=[24,1,0])\n",
    "results_24hr = model_24hr.fit()\n",
    "print(results_24hr.summary())"
   ]
  },
  {
   "cell_type": "code",
   "execution_count": 276,
   "metadata": {},
   "outputs": [
    {
     "name": "stdout",
     "output_type": "stream",
     "text": [
      "61.580500717819284\n"
     ]
    }
   ],
   "source": [
    "predictions_24hr = pd.DataFrame((results_24hr.predict(start= len(data_charlotte_train), end = len(data_charlotte_train) -1 + len(data_charlotte_test))))\n",
    "predictions_24hr.columns = ['predicted_values']\n",
    "predictions_24hr['ground_truth'] = data_charlotte_test['temperature']\n",
    "predictions_24hr['predicted_denormalized'] = predictions_24hr['predicted_values']*(99.95 - 0.515) + 0.515\n",
    "predictions_24hr['grountruth_denormalized'] = predictions_24hr['ground_truth']*(99.95 - 0.515) + 0.515\n",
    "rmse_24h = sqrt(mean_squared_error(predictions_24hr['predicted_denormalized'], predictions_24hr['grountruth_denormalized']))\n",
    "print(rmse_24h)"
   ]
  },
  {
   "cell_type": "markdown",
   "metadata": {},
   "source": [
    "#### Predicting Temperature at time T + 4 by looking at temperatures between T and T - 72"
   ]
  },
  {
   "cell_type": "code",
   "execution_count": null,
   "metadata": {
    "collapsed": true
   },
   "outputs": [],
   "source": [
    "model_24hr = sm.tsa.ARIMA(endog = data_charlotte_train['lag'],order=[72,1,0])\n",
    "results_72hr = model_72hr.fit()\n",
    "print(results_72hr.summary())"
   ]
  },
  {
   "cell_type": "code",
   "execution_count": null,
   "metadata": {
    "collapsed": true
   },
   "outputs": [],
   "source": [
    "predictions_72hr = pd.DataFrame((results_72hr.predict(start= len(data_charlotte_train), end = len(data_charlotte_train) -1 + len(data_charlotte_test))))\n",
    "predictions_72hr.columns = ['predicted_values']\n",
    "predictions_72hr['ground_truth'] = data_charlotte_test['temperature']\n",
    "predictions_72hr['predicted_denormalized'] = predictions_72hr['predicted_values']*(99.95 - 0.515) + 0.515\n",
    "predictions_72hr['grountruth_denormalized'] = predictions_72hr['ground_truth']*(99.95 - 0.515) + 0.515\n",
    "rmse_72h = sqrt(mean_squared_error(predictions_72hr['predicted_denormalized'], predictions_72hr['grountruth_denormalized']))\n",
    "print(rmse_72h)"
   ]
  },
  {
   "cell_type": "markdown",
   "metadata": {},
   "source": [
    "### Few other standard modeling techniques: Regression, Random Forest and ANN"
   ]
  },
  {
   "cell_type": "markdown",
   "metadata": {},
   "source": [
    "#### A little bit of data prep from scratch again"
   ]
  },
  {
   "cell_type": "code",
   "execution_count": 24,
   "metadata": {
    "collapsed": true
   },
   "outputs": [
    {
     "name": "stderr",
     "output_type": "stream",
     "text": [
      "C:\\Users\\Prasanth\\Anaconda3\\lib\\site-packages\\ipykernel_launcher.py:3: SettingWithCopyWarning: \n",
      "A value is trying to be set on a copy of a slice from a DataFrame.\n",
      "Try using .loc[row_indexer,col_indexer] = value instead\n",
      "\n",
      "See the caveats in the documentation: http://pandas.pydata.org/pandas-docs/stable/indexing.html#indexing-view-versus-copy\n",
      "  This is separate from the ipykernel package so we can avoid doing imports until\n",
      "C:\\Users\\Prasanth\\Anaconda3\\lib\\site-packages\\ipykernel_launcher.py:4: SettingWithCopyWarning: \n",
      "A value is trying to be set on a copy of a slice from a DataFrame.\n",
      "Try using .loc[row_indexer,col_indexer] = value instead\n",
      "\n",
      "See the caveats in the documentation: http://pandas.pydata.org/pandas-docs/stable/indexing.html#indexing-view-versus-copy\n",
      "  after removing the cwd from sys.path.\n",
      "C:\\Users\\Prasanth\\Anaconda3\\lib\\site-packages\\ipykernel_launcher.py:5: SettingWithCopyWarning: \n",
      "A value is trying to be set on a copy of a slice from a DataFrame.\n",
      "Try using .loc[row_indexer,col_indexer] = value instead\n",
      "\n",
      "See the caveats in the documentation: http://pandas.pydata.org/pandas-docs/stable/indexing.html#indexing-view-versus-copy\n",
      "  \"\"\"\n",
      "C:\\Users\\Prasanth\\Anaconda3\\lib\\site-packages\\ipykernel_launcher.py:6: SettingWithCopyWarning: \n",
      "A value is trying to be set on a copy of a slice from a DataFrame.\n",
      "Try using .loc[row_indexer,col_indexer] = value instead\n",
      "\n",
      "See the caveats in the documentation: http://pandas.pydata.org/pandas-docs/stable/indexing.html#indexing-view-versus-copy\n",
      "  \n",
      "C:\\Users\\Prasanth\\Anaconda3\\lib\\site-packages\\ipykernel_launcher.py:7: SettingWithCopyWarning: \n",
      "A value is trying to be set on a copy of a slice from a DataFrame.\n",
      "Try using .loc[row_indexer,col_indexer] = value instead\n",
      "\n",
      "See the caveats in the documentation: http://pandas.pydata.org/pandas-docs/stable/indexing.html#indexing-view-versus-copy\n",
      "  import sys\n",
      "C:\\Users\\Prasanth\\Anaconda3\\lib\\site-packages\\ipykernel_launcher.py:9: SettingWithCopyWarning: \n",
      "A value is trying to be set on a copy of a slice from a DataFrame.\n",
      "Try using .loc[row_indexer,col_indexer] = value instead\n",
      "\n",
      "See the caveats in the documentation: http://pandas.pydata.org/pandas-docs/stable/indexing.html#indexing-view-versus-copy\n",
      "  if __name__ == '__main__':\n"
     ]
    }
   ],
   "source": [
    "data = pd.read_csv(r'C:\\Users\\Prasanth\\Downloads\\M.S. Data Science Academics\\2nd Sem\\Machine Learning\\Projects\\Final Project\\df_weather_scaled_encoded.csv')\n",
    "data_charlotte = data[data['city'] == 'Charlotte']\n",
    "data_charlotte['temp_after_4hr'] = data_charlotte['temperature'].shift(-4)\n",
    "data_charlotte['temp_last_hr'] = data_charlotte['temperature'].shift(1)\n",
    "data_charlotte['temp_before_24hr'] = data_charlotte['temperature'].shift(20)\n",
    "data_charlotte['temp_before_48hr'] = data_charlotte['temperature'].shift(44)\n",
    "data_charlotte['temp_before_72hr'] = data_charlotte['temperature'].shift(68)\n",
    "data_charlotte['temp_before_24hr_3day_avg'] = (data_charlotte['temperature'].shift(20) + data_charlotte['temperature'].shift(44)\n",
    "                                               + data_charlotte['temperature'].shift(68))/3"
   ]
  },
  {
   "cell_type": "code",
   "execution_count": 25,
   "metadata": {},
   "outputs": [],
   "source": [
    "data_charlotte = data_charlotte.dropna()\n",
    "data_charlotte_train2 = data_charlotte[data_charlotte['datetime'].astype(str).str[0:4].astype(int) < 2017]\n",
    "data_charlotte_test2 = data_charlotte[data_charlotte['datetime'].astype(str).str[0:4].astype(int) == 2017]"
   ]
  },
  {
   "cell_type": "markdown",
   "metadata": {},
   "source": [
    "#### parameter search before modeling"
   ]
  },
  {
   "cell_type": "code",
   "execution_count": 26,
   "metadata": {},
   "outputs": [
    {
     "name": "stdout",
     "output_type": "stream",
     "text": [
      "Add  temp_before_24hr_3day_avg      with p-value 0.0\n",
      "Add  temp_before_48hr               with p-value 0.0\n",
      "Add  temp_before_72hr               with p-value 0.0\n",
      "Add  temperature                    with p-value 0.0\n",
      "Add  temp_last_hr                   with p-value 0.0\n",
      "Add  humidity                       with p-value 0.0\n",
      "Add  temp_before_24hr               with p-value 0.0\n",
      "Add  weather_rain                   with p-value 5.42304e-167\n",
      "Add  wind_dir_NE                    with p-value 9.61627e-102\n",
      "Add  wind_dir_NW                    with p-value 5.15545e-85\n",
      "Add  wind_speed                     with p-value 7.11659e-49\n",
      "Add  wind_dir_SW                    with p-value 5.66768e-55\n",
      "Add  wind_dir_S                     with p-value 1.11484e-55\n",
      "Add  wind_dir_W                     with p-value 1.09867e-17\n",
      "Add  weather_clear                  with p-value 4.70843e-12\n",
      "Add  weather_tstorm                 with p-value 3.14212e-12\n",
      "Add  weather_snow                   with p-value 1.12328e-10\n",
      "Add  pressure                       with p-value 1.93877e-10\n",
      "Add  wind_dir_E                     with p-value 1.79258e-05\n",
      "resulting features:\n",
      "['temp_before_24hr_3day_avg', 'temp_before_48hr', 'temp_before_72hr', 'temperature', 'temp_last_hr', 'humidity', 'temp_before_24hr', 'weather_rain', 'wind_dir_NE', 'wind_dir_NW', 'wind_speed', 'wind_dir_SW', 'wind_dir_S', 'wind_dir_W', 'weather_clear', 'weather_tstorm', 'weather_snow', 'pressure', 'wind_dir_E']\n"
     ]
    }
   ],
   "source": [
    "# Linear Regression parameter search\n",
    "\n",
    "X = pd.DataFrame(data_charlotte_train2[data_charlotte_train2.columns.difference(['datetime', 'city', 'latitude', 'longitude', 'temp_after_4hr'])])\n",
    "y = data_charlotte_train2['temp_after_4hr']\n",
    "\n",
    "\n",
    "def stepwise_selection(X, y, \n",
    "                       initial_list=[], \n",
    "                       threshold_in=0.01, \n",
    "                       threshold_out = 0.05, \n",
    "                       verbose=True):\n",
    "\n",
    "    included = list(initial_list)\n",
    "    while True:\n",
    "        changed=False\n",
    "        # forward step\n",
    "        excluded = list(set(X.columns)-set(included))\n",
    "        new_pval = pd.Series(index=excluded)\n",
    "        for new_column in excluded:\n",
    "            model = sm.OLS(y, sm.add_constant(pd.DataFrame(X[included+[new_column]]))).fit()\n",
    "            new_pval[new_column] = model.pvalues[new_column]\n",
    "        best_pval = new_pval.min()\n",
    "        if best_pval < threshold_in:\n",
    "            best_feature = new_pval.argmin()\n",
    "            included.append(best_feature)\n",
    "            changed=True\n",
    "            if verbose:\n",
    "                print('Add  {:30} with p-value {:.6}'.format(best_feature, best_pval))\n",
    "\n",
    "        # backward step\n",
    "        model = sm.OLS(y, sm.add_constant(pd.DataFrame(X[included]))).fit()\n",
    "        # use all coefs except intercept\n",
    "        pvalues = model.pvalues.iloc[1:]\n",
    "        worst_pval = pvalues.max() # null if pvalues is empty\n",
    "        if worst_pval > threshold_out:\n",
    "            changed=True\n",
    "            worst_feature = pvalues.argmax()\n",
    "            included.remove(worst_feature)\n",
    "            if verbose:\n",
    "                print('Drop {:30} with p-value {:.6}'.format(worst_feature, worst_pval))\n",
    "        if not changed:\n",
    "            break\n",
    "    return included\n",
    "\n",
    "result = stepwise_selection(X, y)\n",
    "\n",
    "print('resulting features:')\n",
    "print(result)"
   ]
  },
  {
   "cell_type": "code",
   "execution_count": 30,
   "metadata": {},
   "outputs": [
    {
     "name": "stdout",
     "output_type": "stream",
     "text": [
      "{'max_depth': 100, 'max_features': 'sqrt', 'n_estimators': 50}\n"
     ]
    }
   ],
   "source": [
    "# Random Forest parameter search\n",
    "\n",
    "from sklearn.grid_search import GridSearchCV \n",
    "rfc = RandomForestRegressor(n_jobs=-1,max_features= 'sqrt' ,n_estimators=50)\n",
    "\n",
    "param_grid = {\n",
    "    'n_estimators': [10, 20, 50],\n",
    "    'max_features': ['log2', 'sqrt'],\n",
    "    'max_depth': [10, 30, 100]\n",
    "}\n",
    "\n",
    "CV_rfc = GridSearchCV(estimator=rfc, param_grid=param_grid, cv= 5)\n",
    "k = pd.DataFrame(data_charlotte_train2[data_charlotte_train2.columns.difference(['datetime', 'city', 'latitude', 'longitude', 'temp_after_4hr'])])\n",
    "p = np.ravel(data_charlotte_train2['temp_after_4hr'])\n",
    "\n",
    "CV_rfc.fit(k,p)\n",
    "print(CV_rfc.best_params_)"
   ]
  },
  {
   "cell_type": "markdown",
   "metadata": {},
   "source": [
    "#### Modeling"
   ]
  },
  {
   "cell_type": "code",
   "execution_count": 32,
   "metadata": {},
   "outputs": [],
   "source": [
    "response = np.ravel(data_charlotte_train2['temp_after_4hr'])\n",
    "train_rf = pd.DataFrame(data_charlotte_train2[data_charlotte_train2.columns.difference(['datetime', 'city', 'latitude', 'longitude', 'temp_after_4hr'])])\n",
    "train_linear = data_charlotte_train2[['temp_before_24hr_3day_avg', 'temp_before_48hr', 'temp_before_72hr', 'temperature', 'temp_last_hr', 'humidity', 'temp_before_24hr', 'weather_rain', 'wind_dir_NE', 'wind_dir_NW', 'wind_speed', 'wind_dir_SW', 'wind_dir_S', 'wind_dir_W', 'weather_clear', 'weather_tstorm', 'weather_snow', 'pressure', 'wind_dir_E']]\n",
    "test_linear = data_charlotte_test2[['temp_before_24hr_3day_avg', 'temp_before_48hr', 'temp_before_72hr', 'temperature', 'temp_last_hr', 'humidity', 'temp_before_24hr', 'weather_rain', 'wind_dir_NE', 'wind_dir_NW', 'wind_speed', 'wind_dir_SW', 'wind_dir_S', 'wind_dir_W', 'weather_clear', 'weather_tstorm', 'weather_snow', 'pressure', 'wind_dir_E']]\n",
    "ground_truth = data_charlotte_test2['temp_after_4hr']\n",
    "test = pd.DataFrame(data_charlotte_test2[data_charlotte_test2.columns.difference(['datetime', 'city', 'latitude', 'longitude', 'temp_after_4hr'])])\n",
    "\n",
    "linear_model = LinearRegression().fit(train_linear, response)\n",
    "predicted_linear = linear_model.predict(test_linear)\n",
    "\n",
    "rf_model = RandomForestRegressor(n_estimators = 50, max_depth = 100, max_features = 'sqrt').fit(train_rf, response)\n",
    "predicted_rf = rf_model.predict(test)\n",
    "\n",
    "# Neural network part\n",
    "\n",
    "#y_train = list(data_charlotte_train2['temp_after_4hr'])\n",
    "#X_train = pd.DataFrame(data_charlotte_train2[data_charlotte_train2.columns.difference(['datetime', 'city', 'latitude', 'longitude', 'temp_after_4hr'])])\n",
    "#y_test = list(data_charlotte_test2['temp_after_4hr'])\n",
    "#X_test = pd.DataFrame(data_charlotte_test2[data_charlotte_test2.columns.difference(['datetime', 'city', 'latitude', 'longitude', 'temp_after_4hr'])])\n",
    "\n",
    "#scaler = StandardScaler()\n",
    "#scaler.fit(X_train)\n",
    "#X_train = scaler.transform(X_train)\n",
    "#X_test = scaler.transform(X_test)\n",
    "#mlp = MLPRegressor(hidden_layer_sizes=(20,20,20),max_iter=500000)\n",
    "#mlp.fit(X_train,y_train)\n",
    "\n",
    "#predicted_neural = mlp.predict(X_test)"
   ]
  },
  {
   "cell_type": "code",
   "execution_count": 29,
   "metadata": {},
   "outputs": [
    {
     "name": "stdout",
     "output_type": "stream",
     "text": [
      "3.1710680190888194\n"
     ]
    }
   ],
   "source": [
    "predictions_linear = pd.DataFrame(predicted_linear)\n",
    "predictions_linear.columns = ['predicted_values']\n",
    "predictions_linear['ground_truth'] = list(data_charlotte_test2['temp_after_4hr'])\n",
    "predictions_linear['predicted_denormalized'] = predictions_linear['predicted_values']*(99.95 - 0.515) + 0.515\n",
    "predictions_linear['grountruth_denormalized'] = predictions_linear['ground_truth']*(99.95 - 0.515) + 0.515\n",
    "rmse_linear = sqrt(mean_squared_error(predictions_linear['predicted_denormalized'], predictions_linear['grountruth_denormalized']))\n",
    "print(rmse_linear)"
   ]
  },
  {
   "cell_type": "code",
   "execution_count": 41,
   "metadata": {},
   "outputs": [
    {
     "data": {
      "text/plain": [
       "Index(['temp_before_24hr_3day_avg', 'temp_before_48hr', 'temp_before_72hr',\n",
       "       'temperature', 'temp_last_hr', 'humidity', 'temp_before_24hr',\n",
       "       'weather_rain', 'wind_dir_NE', 'wind_dir_NW', 'wind_speed',\n",
       "       'wind_dir_SW', 'wind_dir_S', 'wind_dir_W', 'weather_clear',\n",
       "       'weather_tstorm', 'weather_snow', 'pressure', 'wind_dir_E'],\n",
       "      dtype='object')"
      ]
     },
     "execution_count": 41,
     "metadata": {},
     "output_type": "execute_result"
    }
   ],
   "source": [
    "train_linear.columns"
   ]
  },
  {
   "cell_type": "code",
   "execution_count": 31,
   "metadata": {},
   "outputs": [
    {
     "data": {
      "text/plain": [
       "array([ 0.10570036, -0.07086202,  0.06897691,  1.43575105, -0.88518524,\n",
       "        0.05020952,  0.3189862 , -0.01195913, -0.00636929, -0.00581899,\n",
       "       -0.10763384,  0.01036822,  0.00922229,  0.00536454, -0.00321111,\n",
       "       -0.01380692, -0.01908962,  0.0341374 , -0.00311777])"
      ]
     },
     "execution_count": 31,
     "metadata": {},
     "output_type": "execute_result"
    }
   ],
   "source": [
    "# Which variables are important in linear regression\n",
    "\n",
    "linear_model.coef_"
   ]
  },
  {
   "cell_type": "code",
   "execution_count": 43,
   "metadata": {},
   "outputs": [
    {
     "data": {
      "text/plain": [
       "Index(['datetime', 'city', 'latitude', 'longitude', 'temperature', 'humidity',\n",
       "       'pressure', 'wind_speed', 'wind_dir_E', 'wind_dir_N', 'wind_dir_NE',\n",
       "       'wind_dir_NW', 'wind_dir_S', 'wind_dir_SE', 'wind_dir_SW', 'wind_dir_W',\n",
       "       'weather_clear', 'weather_cloudy', 'weather_other',\n",
       "       'weather_partly_cloudy', 'weather_rain', 'weather_snow',\n",
       "       'weather_tstorm', 'temp_after_4hr', 'temp_last_hr', 'temp_before_24hr',\n",
       "       'temp_before_48hr', 'temp_before_72hr', 'temp_before_24hr_3day_avg'],\n",
       "      dtype='object')"
      ]
     },
     "execution_count": 43,
     "metadata": {},
     "output_type": "execute_result"
    }
   ],
   "source": [
    "data_charlotte_train2.columns"
   ]
  },
  {
   "cell_type": "code",
   "execution_count": 44,
   "metadata": {},
   "outputs": [
    {
     "name": "stdout",
     "output_type": "stream",
     "text": [
      "10.267910905877935\n"
     ]
    }
   ],
   "source": [
    "# What happens if I don't inclde all the temperature variables as predictors?\n",
    "\n",
    "response2 = np.ravel(data_charlotte_train2['temp_after_4hr'])\n",
    "train_linear2 = data_charlotte_train2[['humidity', 'pressure', 'wind_speed', 'wind_dir_E', 'wind_dir_N', 'wind_dir_NE', 'wind_dir_NW', \n",
    "                                      'wind_dir_S', 'wind_dir_SE', 'wind_dir_SW', 'wind_dir_W', 'weather_clear', 'weather_cloudy', \n",
    "                                      'weather_other', 'weather_partly_cloudy', 'weather_rain', 'weather_snow', 'weather_tstorm']]\n",
    "test_linear2 = data_charlotte_test2[['humidity', 'pressure', 'wind_speed', 'wind_dir_E', 'wind_dir_N', 'wind_dir_NE', 'wind_dir_NW', \n",
    "                                      'wind_dir_S', 'wind_dir_SE', 'wind_dir_SW', 'wind_dir_W', 'weather_clear', 'weather_cloudy', \n",
    "                                      'weather_other', 'weather_partly_cloudy', 'weather_rain', 'weather_snow', 'weather_tstorm']]\n",
    "ground_truth2 = data_charlotte_test2['temp_after_4hr']\n",
    "predicted_linear2 = LinearRegression().fit(train_linear2, response2).predict(test_linear2)\n",
    "predictions_linear2 = pd.DataFrame(predicted_linear2)\n",
    "predictions_linear2.columns = ['predicted_values']\n",
    "predictions_linear2['ground_truth'] = list(data_charlotte_test2['temp_after_4hr'])\n",
    "predictions_linear2['predicted_denormalized'] = predictions_linear2['predicted_values']*(99.95 - 0.515) + 0.515\n",
    "predictions_linear2['grountruth_denormalized'] = predictions_linear2['ground_truth']*(99.95 - 0.515) + 0.515\n",
    "rmse_linear2 = sqrt(mean_squared_error(predictions_linear2['predicted_denormalized'], predictions_linear2['grountruth_denormalized']))\n",
    "print(rmse_linear2)\n",
    "\n",
    "# Clearly, past temperature values matter a lot"
   ]
  },
  {
   "cell_type": "code",
   "execution_count": 33,
   "metadata": {},
   "outputs": [
    {
     "name": "stdout",
     "output_type": "stream",
     "text": [
      "3.227148804096484\n"
     ]
    }
   ],
   "source": [
    "predictions_rf = pd.DataFrame(predicted_rf)\n",
    "predictions_rf.columns = ['predicted_values']\n",
    "predictions_rf['ground_truth'] = list(data_charlotte_test2['temp_after_4hr'])\n",
    "predictions_rf['predicted_denormalized'] = predictions_rf['predicted_values']*(99.95 - 0.515) + 0.515\n",
    "predictions_rf['grountruth_denormalized'] = predictions_rf['ground_truth']*(99.95 - 0.515) + 0.515\n",
    "rmse_rf = sqrt(mean_squared_error(predictions_rf['predicted_denormalized'], predictions_rf['grountruth_denormalized']))\n",
    "print(rmse_rf)"
   ]
  },
  {
   "cell_type": "code",
   "execution_count": 35,
   "metadata": {},
   "outputs": [
    {
     "name": "stdout",
     "output_type": "stream",
     "text": [
      "Feature ranking:\n",
      "1. feature 7 (0.256656)\n",
      "2. feature 2 (0.195263)\n",
      "3. feature 3 (0.149106)\n",
      "4. feature 6 (0.146357)\n",
      "5. feature 4 (0.100467)\n",
      "6. feature 5 (0.087234)\n",
      "7. feature 1 (0.017680)\n",
      "8. feature 0 (0.013337)\n",
      "9. feature 23 (0.008720)\n",
      "10. feature 8 (0.004221)\n",
      "11. feature 21 (0.003036)\n",
      "12. feature 18 (0.002892)\n",
      "13. feature 11 (0.002890)\n",
      "14. feature 12 (0.002150)\n",
      "15. feature 17 (0.001894)\n",
      "16. feature 19 (0.001877)\n",
      "17. feature 16 (0.001692)\n",
      "18. feature 9 (0.001595)\n",
      "19. feature 22 (0.001165)\n",
      "20. feature 15 (0.000666)\n",
      "21. feature 20 (0.000574)\n",
      "22. feature 13 (0.000308)\n",
      "23. feature 14 (0.000190)\n",
      "24. feature 10 (0.000030)\n"
     ]
    },
    {
     "data": {
      "image/png": "[encoded data removed]",
      "text/plain": [
       "<matplotlib.figure.Figure at 0x13b17c59470>"
      ]
     },
     "metadata": {},
     "output_type": "display_data"
    }
   ],
   "source": [
    "importances = rf_model.feature_importances_\n",
    "std = np.std([tree.feature_importances_ for tree in rf_model.estimators_],\n",
    "             axis=0)\n",
    "indices = np.argsort(importances)[::-1]\n",
    "\n",
    "# Print the feature ranking\n",
    "print(\"Feature ranking:\")\n",
    "\n",
    "for f in range(X.shape[1]):\n",
    "    print(\"%d. feature %d (%f)\" % (f + 1, indices[f], importances[indices[f]]))\n",
    "\n",
    "# Plot the feature importances of the forest\n",
    "plt.figure()\n",
    "plt.title(\"Feature importances\")\n",
    "plt.bar(range(X.shape[1]), importances[indices],\n",
    "       color=\"r\", yerr=std[indices], align=\"center\")\n",
    "plt.xticks(range(X.shape[1]), indices)\n",
    "plt.xlim([-1, X.shape[1]])\n",
    "plt.show()"
   ]
  }
 ],
 "metadata": {
  "hide_input": false,
  "kernelspec": {
   "display_name": "Python 3",
   "language": "python",
   "name": "python3"
  },
  "language_info": {
   "codemirror_mode": {
    "name": "ipython",
    "version": 3
   },
   "file_extension": ".py",
   "mimetype": "text/x-python",
   "name": "python",
   "nbconvert_exporter": "python",
   "pygments_lexer": "ipython3",
   "version": "3.6.3"
  },
  "toc": {
   "nav_menu": {},
   "number_sections": true,
   "sideBar": true,
   "skip_h1_title": false,
   "title_cell": "Table of Contents",
   "title_sidebar": "Contents",
   "toc_cell": false,
   "toc_position": {},
   "toc_section_display": true,
   "toc_window_display": false
  },
  "varInspector": {
   "cols": {
    "lenName": 16,
    "lenType": 16,
    "lenVar": 40
   },
   "kernels_config": {
    "python": {
     "delete_cmd_postfix": "",
     "delete_cmd_prefix": "del ",
     "library": "var_list.py",
     "varRefreshCmd": "print(var_dic_list())"
    },
    "r": {
     "delete_cmd_postfix": ") ",
     "delete_cmd_prefix": "rm(",
     "library": "var_list.r",
     "varRefreshCmd": "cat(var_dic_list()) "
    }
   },
   "types_to_exclude": [
    "module",
    "function",
    "builtin_function_or_method",
    "instance",
    "_Feature"
   ],
   "window_display": false
  }
 },
 "nbformat": 4,
 "nbformat_minor": 2
}
